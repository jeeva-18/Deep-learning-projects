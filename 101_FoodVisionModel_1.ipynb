{
  "nbformat": 4,
  "nbformat_minor": 0,
  "metadata": {
    "colab": {
      "provenance": [],
      "include_colab_link": true
    },
    "kernelspec": {
      "name": "python3",
      "display_name": "Python 3"
    },
    "language_info": {
      "name": "python"
    },
    "accelerator": "GPU",
    "gpuClass": "standard"
  },
  "cells": [
    {
      "cell_type": "markdown",
      "metadata": {
        "id": "view-in-github",
        "colab_type": "text"
      },
      "source": [
        "<a href=\"https://colab.research.google.com/github/jeeva-18/Deep-learning-projects/blob/main/101_FoodVisionModel_1.ipynb\" target=\"_parent\"><img src=\"https://colab.research.google.com/assets/colab-badge.svg\" alt=\"Open In Colab\"/></a>"
      ]
    },
    {
      "cell_type": "markdown",
      "source": [
        "# Food Vision with Food101 dataset \n",
        "\n",
        "we are going to use the dataset from the Tensorflow datasets \n",
        "you can check up the tensorflow_datasets documentation for the \n",
        "\n",
        "\n",
        "\n",
        "Food 101-Description:\n",
        "This dataset consists of 101 food categories, with 101'000 images. For each class, 250 manually reviewed test images are provided as well as 750 training images. On purpose, the training images were not cleaned, and thus still contain some amount of noise. This comes mostly in the form of intense colors and sometimes wrong labels. All images were rescaled to have a maximum side length of 512 pixels."
      ],
      "metadata": {
        "id": "5dMB1c6Zrcrz"
      }
    },
    {
      "cell_type": "markdown",
      "source": [
        "## 1.Download our data "
      ],
      "metadata": {
        "id": "lqUPQ1EEw-_O"
      }
    },
    {
      "cell_type": "code",
      "source": [
        "import tensorflow_datasets as tfds"
      ],
      "metadata": {
        "id": "kkXUQf4UwNyH"
      },
      "execution_count": null,
      "outputs": []
    },
    {
      "cell_type": "code",
      "source": [
        "list_datasets = tfds.list_builders()\n",
        "print('food101' in list_datasets) # checking for our dataset presence"
      ],
      "metadata": {
        "colab": {
          "base_uri": "https://localhost:8080/"
        },
        "id": "5ntTirqbxO3j",
        "outputId": "4ed4561f-4af9-4c9f-8b92-e5bfe5e82f99"
      },
      "execution_count": null,
      "outputs": [
        {
          "output_type": "stream",
          "name": "stdout",
          "text": [
            "True\n"
          ]
        }
      ]
    },
    {
      "cell_type": "code",
      "source": [
        "# it will download the data into our sytems if you are using your local computer it will download lots of data  \n",
        "(train_data,test_data),df_info = tfds.load('food101',\n",
        "                                           split=['train','validation'], # in our case we have training and validation but some dataset have testing too\n",
        "                                           shuffle_files=True, # we are shuffle our files to some randomness in our data \n",
        "                                           as_supervised=True, # beacuse our dataset is supervised \n",
        "                                           with_info=True) # getting metadata about our dataset"
      ],
      "metadata": {
        "id": "aRiUHHLGxePh"
      },
      "execution_count": null,
      "outputs": []
    },
    {
      "cell_type": "markdown",
      "source": [
        "## 2.Exploring about the dataset\n"
      ],
      "metadata": {
        "id": "5unOXkO27tp3"
      }
    },
    {
      "cell_type": "code",
      "source": [
        "#features of the dataset\n",
        "df_info.features"
      ],
      "metadata": {
        "colab": {
          "base_uri": "https://localhost:8080/"
        },
        "id": "gWHuwo3QzscX",
        "outputId": "25e0a3b4-1792-45a0-ba41-e9ace4b2a27c"
      },
      "execution_count": null,
      "outputs": [
        {
          "output_type": "execute_result",
          "data": {
            "text/plain": [
              "FeaturesDict({\n",
              "    'image': Image(shape=(None, None, 3), dtype=uint8),\n",
              "    'label': ClassLabel(shape=(), dtype=int64, num_classes=101),\n",
              "})"
            ]
          },
          "metadata": {},
          "execution_count": 4
        }
      ]
    },
    {
      "cell_type": "code",
      "source": [
        "# getting the class names \n",
        "\n",
        "class_names = df_info.features['label'].names\n",
        "class_names[:10]"
      ],
      "metadata": {
        "colab": {
          "base_uri": "https://localhost:8080/"
        },
        "id": "r9aMWkPh4s3X",
        "outputId": "46d0d04d-6de9-41c3-b152-239c702c8989"
      },
      "execution_count": null,
      "outputs": [
        {
          "output_type": "execute_result",
          "data": {
            "text/plain": [
              "['apple_pie',\n",
              " 'baby_back_ribs',\n",
              " 'baklava',\n",
              " 'beef_carpaccio',\n",
              " 'beef_tartare',\n",
              " 'beet_salad',\n",
              " 'beignets',\n",
              " 'bibimbap',\n",
              " 'bread_pudding',\n",
              " 'breakfast_burrito']"
            ]
          },
          "metadata": {},
          "execution_count": 5
        }
      ]
    },
    {
      "cell_type": "code",
      "source": [
        "# lets see some info about images and labels\n",
        "for img ,labels in train_data.take(1): # .take method will take one sample from the data and every time we rn these we get random values because we set shuffle = True \n",
        "  print(f'''\n",
        "  image shape: {img.shape}\n",
        "  image dtype: {img.dtype}\n",
        "  label : {labels}\n",
        "  label name: {class_names[labels.numpy()]}\n",
        "  '''\n",
        "  )"
      ],
      "metadata": {
        "colab": {
          "base_uri": "https://localhost:8080/"
        },
        "id": "1pdtTrJw9mji",
        "outputId": "89cc7b6d-d0f8-4c64-852f-67d0a064104e"
      },
      "execution_count": null,
      "outputs": [
        {
          "output_type": "stream",
          "name": "stdout",
          "text": [
            "\n",
            "  image shape: (512, 512, 3)\n",
            "  image dtype: <dtype: 'uint8'>\n",
            "  label : 72\n",
            "  label name: pancakes\n",
            "  \n"
          ]
        }
      ]
    },
    {
      "cell_type": "markdown",
      "source": [
        "lets visualize some of the images"
      ],
      "metadata": {
        "id": "UndaCkEWCnX4"
      }
    },
    {
      "cell_type": "code",
      "source": [
        "import tensorflow as tf\n",
        "import numpy as np\n",
        "import matplotlib.pyplot as plt\n",
        "\n",
        "plt.figure(figsize=(15,15))\n",
        "for i,(img ,labels) in enumerate(train_data.take(9)):\n",
        "  plt.subplot(3,3,i+1)\n",
        "  plt.imshow(img)\n",
        "  plt.title(class_names[labels.numpy()])\n",
        "  plt.axis(False)"
      ],
      "metadata": {
        "id": "XIYBx2Sb_UbO"
      },
      "execution_count": null,
      "outputs": []
    },
    {
      "cell_type": "markdown",
      "source": [
        "## 3.preprocess our data"
      ],
      "metadata": {
        "id": "DSKithYWLiF-"
      }
    },
    {
      "cell_type": "code",
      "source": [
        "# lets create a function that will  preprocess our data\n",
        "\n",
        "def preprocess_image_data(images,labels,img_size=(224,224)):\n",
        "  '''\n",
        "  This function will reduce image size and change dtype int float32\n",
        "\n",
        "  '''\n",
        "  image  = tf.image.resize(images,img_size)\n",
        "\n",
        "  return tf.cast(image,dtype=tf.float32),labels"
      ],
      "metadata": {
        "id": "7yhBE1doDr1r"
      },
      "execution_count": null,
      "outputs": []
    },
    {
      "cell_type": "code",
      "source": [
        "# lets check our function \n",
        "\n",
        "prep_img ,label = preprocess_image_data(img,labels)\n",
        "\n",
        "print(f'image_shape : {prep_img.shape} image_dtype : {prep_img.dtype} ')"
      ],
      "metadata": {
        "colab": {
          "base_uri": "https://localhost:8080/"
        },
        "id": "uTpm0QG5MmiK",
        "outputId": "6393a2ae-815c-41f3-f455-3c1a33169603"
      },
      "execution_count": null,
      "outputs": [
        {
          "output_type": "stream",
          "name": "stdout",
          "text": [
            "image_shape : (224, 224, 3) image_dtype : <dtype: 'float32'> \n"
          ]
        }
      ]
    },
    {
      "cell_type": "markdown",
      "source": [
        "As you can see the image is resized and dtype is changed "
      ],
      "metadata": {
        "id": "gP6K-ZoaNPby"
      }
    },
    {
      "cell_type": "markdown",
      "source": [
        "## 4.Create into Batches"
      ],
      "metadata": {
        "id": "RgjKxnVuNcZf"
      }
    },
    {
      "cell_type": "code",
      "source": [
        "# we are going to use map method to map our preprocess_image_data function for preprocessing\n",
        "\n",
        "train_data = train_data.map(map_func=preprocess_image_data,num_parallel_calls=tf.data.AUTOTUNE)\n",
        "\n",
        "# making into batches for training data\n",
        "\n",
        "train_data = train_data.shuffle(buffer_size=1000).batch(batch_size=32).prefetch(buffer_size=tf.data.AUTOTUNE)\n",
        "\n",
        "# preprocess and making batches for testing data\n",
        "\n",
        "test_data  = test_data.map(map_func=preprocess_image_data,num_parallel_calls=tf.data.AUTOTUNE).batch(32).prefetch(buffer_size=tf.data.AUTOTUNE)"
      ],
      "metadata": {
        "id": "hjqOwfXSNNWa"
      },
      "execution_count": null,
      "outputs": []
    },
    {
      "cell_type": "code",
      "source": [
        "train_data,test_data"
      ],
      "metadata": {
        "colab": {
          "base_uri": "https://localhost:8080/"
        },
        "id": "zsDMQThIRPqo",
        "outputId": "b0c0894b-3242-45b4-b369-6e21fc879765"
      },
      "execution_count": null,
      "outputs": [
        {
          "output_type": "execute_result",
          "data": {
            "text/plain": [
              "(<PrefetchDataset element_spec=(TensorSpec(shape=(None, 224, 224, 3), dtype=tf.float32, name=None), TensorSpec(shape=(None,), dtype=tf.int64, name=None))>,\n",
              " <PrefetchDataset element_spec=(TensorSpec(shape=(None, 224, 224, 3), dtype=tf.float32, name=None), TensorSpec(shape=(None,), dtype=tf.int64, name=None))>)"
            ]
          },
          "metadata": {},
          "execution_count": 11
        }
      ]
    },
    {
      "cell_type": "markdown",
      "source": [
        "lets create callbacks for our model\n",
        "\n",
        "* TensorBoard callback\n",
        "* Modelcheckpoint callback"
      ],
      "metadata": {
        "id": "Y4z4Q1KbEM7l"
      }
    },
    {
      "cell_type": "code",
      "source": [
        "import os \n",
        "import datetime\n",
        "# creating the tensoboard callback\n",
        "def create_tensorboard_callback(dir_name,experiment):\n",
        "  date_time = datetime.datetime.now().strftime('%Y/%m/%d:%H-%M-%S')\n",
        "  path = os.path.join(dir_name,experiment,date_time)\n",
        "  return tf.keras.callbacks.TensorBoard(log_dir=path)"
      ],
      "metadata": {
        "id": "wGTG8Klc9YZ4"
      },
      "execution_count": null,
      "outputs": []
    },
    {
      "cell_type": "code",
      "source": [
        "# model check point callback\n",
        "\n",
        "checkpoint_path = 'model_checkpoints/cp.cpkt'\n",
        "\n",
        "checkpoint_callback = tf.keras.callbacks.ModelCheckpoint(checkpoint_path,\n",
        "                                                         monitor='val_accuracy',\n",
        "                                                         save_best_only=True,\n",
        "                                                         save_weights_only=True,\n",
        "                                                         verbose=0)"
      ],
      "metadata": {
        "id": "K-tQ3LmxGAec"
      },
      "execution_count": null,
      "outputs": []
    },
    {
      "cell_type": "markdown",
      "source": [
        "we are going to use the mixed precision technique in this notebook \n",
        "mixed precision is the technique that changes the precision types like float32,float16 to get better performance and reduce the time on training the large datasets \n",
        "\n",
        "you can go through this too https://www.tensorflow.org/guide/mixed_precision"
      ],
      "metadata": {
        "id": "MyFtz0eoICnY"
      }
    },
    {
      "cell_type": "code",
      "source": [
        "# start by importing it \n",
        "from tensorflow.keras import mixed_precision\n",
        "\n",
        "mixed_precision.set_global_policy('mixed_float16') # this will do the job"
      ],
      "metadata": {
        "id": "779CbmedHbMJ"
      },
      "execution_count": null,
      "outputs": []
    },
    {
      "cell_type": "code",
      "source": [
        "!nvidia-smi -L  # offcourse mixed precision will only works on the gpu with computing capability of above 7.0, likely our's tesla t4 got 7.5 :)  "
      ],
      "metadata": {
        "colab": {
          "base_uri": "https://localhost:8080/"
        },
        "id": "1mgCm_cbJQUs",
        "outputId": "935041b7-0e4e-4845-f473-f441b72cfa3d"
      },
      "execution_count": null,
      "outputs": [
        {
          "output_type": "stream",
          "name": "stdout",
          "text": [
            "GPU 0: Tesla T4 (UUID: GPU-aab2323a-3d8f-9a74-f435-ccb791c46749)\n"
          ]
        }
      ]
    },
    {
      "cell_type": "code",
      "source": [
        "mixed_precision.global_policy() # you can use this we utilize large amount of data"
      ],
      "metadata": {
        "colab": {
          "base_uri": "https://localhost:8080/"
        },
        "id": "AuAqiIvsJgcA",
        "outputId": "8414921a-f192-4b57-8e6b-85955a197bd8"
      },
      "execution_count": null,
      "outputs": [
        {
          "output_type": "execute_result",
          "data": {
            "text/plain": [
              "<Policy \"mixed_float16\">"
            ]
          },
          "metadata": {},
          "execution_count": 16
        }
      ]
    },
    {
      "cell_type": "markdown",
      "source": [
        "## 5.Build our model"
      ],
      "metadata": {
        "id": "OQXdpb5iOSok"
      }
    },
    {
      "cell_type": "code",
      "source": [
        "from tensorflow.keras import layers\n",
        "from tensorflow.keras.layers.experimental import preprocessing \n",
        "\n",
        "# we are going t use the transfer learning - feature extraction\n",
        "\n",
        "input_shape = (224,224,3)\n",
        "\n",
        "# our base model will be EfficientNetB0\n",
        "base_model = tf.keras.applications.EfficientNetV2B0(include_top=False)\n",
        "base_model.trainable = False\n",
        "\n",
        "input = layers.Input(shape=input_shape,name='input_layer')\n",
        "\n",
        "# data_augmentation = tf.keras.Sequential([ # this is for  data augmentation\n",
        "#     preprocessing.RandomRotation(20),\n",
        "#     preprocessing.RandomZoom(0.2),\n",
        "#     preprocessing.RandomFlip(mode='horizontal'), \n",
        "#     preprocessing.RandomWidth(0.2),\n",
        "#     preprocessing.RandomHeight(0.2),\n",
        "#     preprocessing.Rescaling(1/255.)      \n",
        "# ])(input)\n",
        "\n",
        "x = base_model(input)\n",
        "\n",
        "x = layers.GlobalAveragePooling2D(name='globalAvgPooling_layer')(x)\n",
        "\n",
        "x = layers.Dense(101,name='output_layer')(x)\n",
        "\n",
        "output = layers.Activation(activation='softmax',dtype=tf.float32,name='prediction')(x)\n",
        "\n",
        "model = tf.keras.Model(input,output,name='food_vision_model')\n",
        "\n",
        "model.compile(loss='sparse_categorical_crossentropy',\n",
        "              optimizer=tf.keras.optimizers.Adam(),\n",
        "              metrics=['accuracy'])"
      ],
      "metadata": {
        "id": "juAZD4wPMVUV"
      },
      "execution_count": null,
      "outputs": []
    },
    {
      "cell_type": "code",
      "source": [
        "model.summary()"
      ],
      "metadata": {
        "colab": {
          "base_uri": "https://localhost:8080/"
        },
        "id": "jDLklEGTTQQ9",
        "outputId": "89103b67-d4f2-4c4f-a380-d4855b2d411c"
      },
      "execution_count": null,
      "outputs": [
        {
          "output_type": "stream",
          "name": "stdout",
          "text": [
            "Model: \"food_vision_model\"\n",
            "_________________________________________________________________\n",
            " Layer (type)                Output Shape              Param #   \n",
            "=================================================================\n",
            " input_layer (InputLayer)    [(None, 224, 224, 3)]     0         \n",
            "                                                                 \n",
            " efficientnetv2-b0 (Function  (None, None, None, 1280)  5919312  \n",
            " al)                                                             \n",
            "                                                                 \n",
            " globalAvgPooling_layer (Glo  (None, 1280)             0         \n",
            " balAveragePooling2D)                                            \n",
            "                                                                 \n",
            " output_layer (Dense)        (None, 101)               129381    \n",
            "                                                                 \n",
            " prediction (Activation)     (None, 101)               0         \n",
            "                                                                 \n",
            "=================================================================\n",
            "Total params: 6,048,693\n",
            "Trainable params: 129,381\n",
            "Non-trainable params: 5,919,312\n",
            "_________________________________________________________________\n"
          ]
        }
      ]
    },
    {
      "cell_type": "markdown",
      "source": [
        "## 6.Mixed precision "
      ],
      "metadata": {
        "id": "l1n5l_Bejvlg"
      }
    },
    {
      "cell_type": "code",
      "source": [
        "# mixed precision works or not \n",
        "\n",
        "for layer in model.layers:\n",
        "  print(layer.name,layer.trainable,layer.dtype,layer.dtype_policy)"
      ],
      "metadata": {
        "id": "KrFhZzyPTUbW",
        "colab": {
          "base_uri": "https://localhost:8080/"
        },
        "outputId": "52f4a9ec-80ce-489c-e862-c4b321186ea4"
      },
      "execution_count": null,
      "outputs": [
        {
          "output_type": "stream",
          "name": "stdout",
          "text": [
            "input_layer True float32 <Policy \"float32\">\n",
            "efficientnetv2-b0 False float32 <Policy \"mixed_float16\">\n",
            "globalAvgPooling_layer True float32 <Policy \"mixed_float16\">\n",
            "output_layer True float32 <Policy \"mixed_float16\">\n",
            "prediction True float32 <Policy \"float32\">\n"
          ]
        }
      ]
    },
    {
      "cell_type": "code",
      "source": [
        "# lets check it in our base model\n",
        "\n",
        "for layer in model.layers[1].layers[:20]:\n",
        "  print(layer.name,layer.trainable,layer.dtype,layer.dtype_policy)"
      ],
      "metadata": {
        "colab": {
          "base_uri": "https://localhost:8080/"
        },
        "id": "F0ZNGLy6kQwQ",
        "outputId": "1a1325ca-31a0-451f-e207-985784a2f7af"
      },
      "execution_count": null,
      "outputs": [
        {
          "output_type": "stream",
          "name": "stdout",
          "text": [
            "input_4 False float32 <Policy \"float32\">\n",
            "rescaling_5 False float32 <Policy \"mixed_float16\">\n",
            "normalization_3 False float32 <Policy \"mixed_float16\">\n",
            "stem_conv False float32 <Policy \"mixed_float16\">\n",
            "stem_bn False float32 <Policy \"mixed_float16\">\n",
            "stem_activation False float32 <Policy \"mixed_float16\">\n",
            "block1a_project_conv False float32 <Policy \"mixed_float16\">\n",
            "block1a_project_bn False float32 <Policy \"mixed_float16\">\n",
            "block1a_project_activation False float32 <Policy \"mixed_float16\">\n",
            "block2a_expand_conv False float32 <Policy \"mixed_float16\">\n",
            "block2a_expand_bn False float32 <Policy \"mixed_float16\">\n",
            "block2a_expand_activation False float32 <Policy \"mixed_float16\">\n",
            "block2a_project_conv False float32 <Policy \"mixed_float16\">\n",
            "block2a_project_bn False float32 <Policy \"mixed_float16\">\n",
            "block2b_expand_conv False float32 <Policy \"mixed_float16\">\n",
            "block2b_expand_bn False float32 <Policy \"mixed_float16\">\n",
            "block2b_expand_activation False float32 <Policy \"mixed_float16\">\n",
            "block2b_project_conv False float32 <Policy \"mixed_float16\">\n",
            "block2b_project_bn False float32 <Policy \"mixed_float16\">\n",
            "block2b_drop False float32 <Policy \"mixed_float16\">\n"
          ]
        }
      ]
    },
    {
      "cell_type": "markdown",
      "source": [
        "## 7.fit our model"
      ],
      "metadata": {
        "id": "ED1h3LWfkrHt"
      }
    },
    {
      "cell_type": "code",
      "source": [
        "feature_extraction_history = model.fit(train_data,\n",
        "                                       epochs=5,\n",
        "                                       steps_per_epoch=len(train_data),\n",
        "                                       validation_data=test_data,\n",
        "                                       validation_steps=int(.15*len(test_data)),\n",
        "                                       callbacks=[create_tensorboard_callback('models','FX_efficientnet0'),checkpoint_callback])"
      ],
      "metadata": {
        "colab": {
          "base_uri": "https://localhost:8080/"
        },
        "id": "p0BLD0DJkdj7",
        "outputId": "f4555600-1531-4f7c-8c9c-ff750c5d9a2e"
      },
      "execution_count": null,
      "outputs": [
        {
          "output_type": "stream",
          "name": "stdout",
          "text": [
            "Epoch 1/5\n",
            "2368/2368 [==============================] - 238s 78ms/step - loss: 1.8379 - accuracy: 0.5541 - val_loss: 1.1653 - val_accuracy: 0.6970\n",
            "Epoch 2/5\n",
            "2368/2368 [==============================] - 181s 76ms/step - loss: 1.3188 - accuracy: 0.6600 - val_loss: 1.0383 - val_accuracy: 0.7182\n",
            "Epoch 3/5\n",
            "2368/2368 [==============================] - 181s 76ms/step - loss: 1.1842 - accuracy: 0.6899 - val_loss: 1.0035 - val_accuracy: 0.7262\n",
            "Epoch 4/5\n",
            "2368/2368 [==============================] - 181s 75ms/step - loss: 1.0978 - accuracy: 0.7086 - val_loss: 0.9810 - val_accuracy: 0.7373\n",
            "Epoch 5/5\n",
            "2368/2368 [==============================] - 183s 76ms/step - loss: 1.0393 - accuracy: 0.7245 - val_loss: 0.9727 - val_accuracy: 0.7383\n"
          ]
        }
      ]
    },
    {
      "cell_type": "code",
      "source": [
        "fx_results = model.evaluate(test_data)\n",
        "fx_results"
      ],
      "metadata": {
        "colab": {
          "base_uri": "https://localhost:8080/"
        },
        "id": "XRCg2YarljSU",
        "outputId": "064fc515-281b-4775-bc1d-21eff2abe688"
      },
      "execution_count": null,
      "outputs": [
        {
          "output_type": "stream",
          "name": "stdout",
          "text": [
            "790/790 [==============================] - 53s 67ms/step - loss: 0.9661 - accuracy: 0.7362\n"
          ]
        },
        {
          "output_type": "execute_result",
          "data": {
            "text/plain": [
              "[0.9661417603492737, 0.7361980080604553]"
            ]
          },
          "metadata": {},
          "execution_count": 33
        }
      ]
    },
    {
      "cell_type": "code",
      "source": [
        "# we are going to create a plot of history of the model\n",
        "import matplotlib.pyplot as plt\n",
        "\n",
        "\n",
        "def plot_history(history):\n",
        "  \"\"\"\n",
        "  this will give you the plot of the history instance\n",
        "  \"\"\"\n",
        "  acc = history.history['accuracy']\n",
        "  val_acc = history.history['val_accuracy']\n",
        "\n",
        "  loss = history.history['loss']\n",
        "  val_loss = history.history['val_loss']\n",
        "\n",
        "  # plot accuracy \n",
        "  plt.figure()\n",
        "  plt.plot(acc,label='Training')\n",
        "  plt.plot(val_acc,label='validation')\n",
        "  plt.title('Accuracy scores')\n",
        "  plt.legend()\n",
        "  #plot loss\n",
        "  plt.figure()\n",
        "  plt.plot(loss,label='Training')\n",
        "  plt.plot(val_loss,label='validation')\n",
        "  plt.title('Losses')\n",
        "  plt.legend()"
      ],
      "metadata": {
        "id": "kM1zdcfnoCxk"
      },
      "execution_count": null,
      "outputs": []
    },
    {
      "cell_type": "code",
      "source": [
        "plot_history(feature_extraction_history)"
      ],
      "metadata": {
        "colab": {
          "base_uri": "https://localhost:8080/",
          "height": 545
        },
        "id": "5eJsmQ2up-wJ",
        "outputId": "8606eb1f-85f3-4744-ef59-4440e342aac6"
      },
      "execution_count": null,
      "outputs": [
        {
          "output_type": "display_data",
          "data": {
            "text/plain": [
              "<Figure size 432x288 with 1 Axes>"
            ],
            "image/png": "[encoded data removed]"
          },
          "metadata": {
            "needs_background": "light"
          }
        },
        {
          "output_type": "display_data",
          "data": {
            "text/plain": [
              "<Figure size 432x288 with 1 Axes>"
            ],
            "image/png": "[encoded data removed]"
          },
          "metadata": {
            "needs_background": "light"
          }
        }
      ]
    },
    {
      "cell_type": "markdown",
      "source": [
        "## 8.Fine tunned model"
      ],
      "metadata": {
        "id": "Euuc6xlBrvFu"
      }
    },
    {
      "cell_type": "code",
      "source": [
        "# lets make it up\n",
        "\n",
        "base_model.trainable = True\n",
        "\n",
        "\n",
        "for layer in base_model.layers[:-20]:\n",
        "  layer.trainable = False"
      ],
      "metadata": {
        "id": "YLikYOfnqHBo"
      },
      "execution_count": null,
      "outputs": []
    },
    {
      "cell_type": "code",
      "source": [
        "model.compile(loss='sparse_categorical_crossentropy',\n",
        "              optimizer=tf.keras.optimizers.Adam(1e-4), # we are reducing the learning rate so pretrained weights does not change too much \n",
        "              metrics=['accuracy'])"
      ],
      "metadata": {
        "id": "xOn_umvAsbYA"
      },
      "execution_count": null,
      "outputs": []
    },
    {
      "cell_type": "code",
      "source": [
        "for layer in model.layers:\n",
        "  print(layer.name,layer.trainable)"
      ],
      "metadata": {
        "colab": {
          "base_uri": "https://localhost:8080/"
        },
        "id": "p_j7UJwCsy2b",
        "outputId": "740b2c22-4b14-4f55-a9b4-6d4c87d5e07c"
      },
      "execution_count": null,
      "outputs": [
        {
          "output_type": "stream",
          "name": "stdout",
          "text": [
            "input_layer True\n",
            "efficientnetv2-b0 True\n",
            "globalAvgPooling_layer True\n",
            "output_layer True\n",
            "prediction True\n"
          ]
        }
      ]
    },
    {
      "cell_type": "code",
      "source": [
        "for num,layer in enumerate(model.layers[1].layers):\n",
        "  print(num,layer.name,layer.trainable)"
      ],
      "metadata": {
        "colab": {
          "base_uri": "https://localhost:8080/"
        },
        "id": "udjs1yPIs-4W",
        "outputId": "857fc52e-197b-4fd0-aa8b-de5548079d13"
      },
      "execution_count": null,
      "outputs": [
        {
          "output_type": "stream",
          "name": "stdout",
          "text": [
            "0 input_4 False\n",
            "1 rescaling_5 False\n",
            "2 normalization_3 False\n",
            "3 stem_conv False\n",
            "4 stem_bn False\n",
            "5 stem_activation False\n",
            "6 block1a_project_conv False\n",
            "7 block1a_project_bn False\n",
            "8 block1a_project_activation False\n",
            "9 block2a_expand_conv False\n",
            "10 block2a_expand_bn False\n",
            "11 block2a_expand_activation False\n",
            "12 block2a_project_conv False\n",
            "13 block2a_project_bn False\n",
            "14 block2b_expand_conv False\n",
            "15 block2b_expand_bn False\n",
            "16 block2b_expand_activation False\n",
            "17 block2b_project_conv False\n",
            "18 block2b_project_bn False\n",
            "19 block2b_drop False\n",
            "20 block2b_add False\n",
            "21 block3a_expand_conv False\n",
            "22 block3a_expand_bn False\n",
            "23 block3a_expand_activation False\n",
            "24 block3a_project_conv False\n",
            "25 block3a_project_bn False\n",
            "26 block3b_expand_conv False\n",
            "27 block3b_expand_bn False\n",
            "28 block3b_expand_activation False\n",
            "29 block3b_project_conv False\n",
            "30 block3b_project_bn False\n",
            "31 block3b_drop False\n",
            "32 block3b_add False\n",
            "33 block4a_expand_conv False\n",
            "34 block4a_expand_bn False\n",
            "35 block4a_expand_activation False\n",
            "36 block4a_dwconv2 False\n",
            "37 block4a_bn False\n",
            "38 block4a_activation False\n",
            "39 block4a_se_squeeze False\n",
            "40 block4a_se_reshape False\n",
            "41 block4a_se_reduce False\n",
            "42 block4a_se_expand False\n",
            "43 block4a_se_excite False\n",
            "44 block4a_project_conv False\n",
            "45 block4a_project_bn False\n",
            "46 block4b_expand_conv False\n",
            "47 block4b_expand_bn False\n",
            "48 block4b_expand_activation False\n",
            "49 block4b_dwconv2 False\n",
            "50 block4b_bn False\n",
            "51 block4b_activation False\n",
            "52 block4b_se_squeeze False\n",
            "53 block4b_se_reshape False\n",
            "54 block4b_se_reduce False\n",
            "55 block4b_se_expand False\n",
            "56 block4b_se_excite False\n",
            "57 block4b_project_conv False\n",
            "58 block4b_project_bn False\n",
            "59 block4b_drop False\n",
            "60 block4b_add False\n",
            "61 block4c_expand_conv False\n",
            "62 block4c_expand_bn False\n",
            "63 block4c_expand_activation False\n",
            "64 block4c_dwconv2 False\n",
            "65 block4c_bn False\n",
            "66 block4c_activation False\n",
            "67 block4c_se_squeeze False\n",
            "68 block4c_se_reshape False\n",
            "69 block4c_se_reduce False\n",
            "70 block4c_se_expand False\n",
            "71 block4c_se_excite False\n",
            "72 block4c_project_conv False\n",
            "73 block4c_project_bn False\n",
            "74 block4c_drop False\n",
            "75 block4c_add False\n",
            "76 block5a_expand_conv False\n",
            "77 block5a_expand_bn False\n",
            "78 block5a_expand_activation False\n",
            "79 block5a_dwconv2 False\n",
            "80 block5a_bn False\n",
            "81 block5a_activation False\n",
            "82 block5a_se_squeeze False\n",
            "83 block5a_se_reshape False\n",
            "84 block5a_se_reduce False\n",
            "85 block5a_se_expand False\n",
            "86 block5a_se_excite False\n",
            "87 block5a_project_conv False\n",
            "88 block5a_project_bn False\n",
            "89 block5b_expand_conv False\n",
            "90 block5b_expand_bn False\n",
            "91 block5b_expand_activation False\n",
            "92 block5b_dwconv2 False\n",
            "93 block5b_bn False\n",
            "94 block5b_activation False\n",
            "95 block5b_se_squeeze False\n",
            "96 block5b_se_reshape False\n",
            "97 block5b_se_reduce False\n",
            "98 block5b_se_expand False\n",
            "99 block5b_se_excite False\n",
            "100 block5b_project_conv False\n",
            "101 block5b_project_bn False\n",
            "102 block5b_drop False\n",
            "103 block5b_add False\n",
            "104 block5c_expand_conv False\n",
            "105 block5c_expand_bn False\n",
            "106 block5c_expand_activation False\n",
            "107 block5c_dwconv2 False\n",
            "108 block5c_bn False\n",
            "109 block5c_activation False\n",
            "110 block5c_se_squeeze False\n",
            "111 block5c_se_reshape False\n",
            "112 block5c_se_reduce False\n",
            "113 block5c_se_expand False\n",
            "114 block5c_se_excite False\n",
            "115 block5c_project_conv False\n",
            "116 block5c_project_bn False\n",
            "117 block5c_drop False\n",
            "118 block5c_add False\n",
            "119 block5d_expand_conv False\n",
            "120 block5d_expand_bn False\n",
            "121 block5d_expand_activation False\n",
            "122 block5d_dwconv2 False\n",
            "123 block5d_bn False\n",
            "124 block5d_activation False\n",
            "125 block5d_se_squeeze False\n",
            "126 block5d_se_reshape False\n",
            "127 block5d_se_reduce False\n",
            "128 block5d_se_expand False\n",
            "129 block5d_se_excite False\n",
            "130 block5d_project_conv False\n",
            "131 block5d_project_bn False\n",
            "132 block5d_drop False\n",
            "133 block5d_add False\n",
            "134 block5e_expand_conv False\n",
            "135 block5e_expand_bn False\n",
            "136 block5e_expand_activation False\n",
            "137 block5e_dwconv2 False\n",
            "138 block5e_bn False\n",
            "139 block5e_activation False\n",
            "140 block5e_se_squeeze False\n",
            "141 block5e_se_reshape False\n",
            "142 block5e_se_reduce False\n",
            "143 block5e_se_expand False\n",
            "144 block5e_se_excite False\n",
            "145 block5e_project_conv False\n",
            "146 block5e_project_bn False\n",
            "147 block5e_drop False\n",
            "148 block5e_add False\n",
            "149 block6a_expand_conv False\n",
            "150 block6a_expand_bn False\n",
            "151 block6a_expand_activation False\n",
            "152 block6a_dwconv2 False\n",
            "153 block6a_bn False\n",
            "154 block6a_activation False\n",
            "155 block6a_se_squeeze False\n",
            "156 block6a_se_reshape False\n",
            "157 block6a_se_reduce False\n",
            "158 block6a_se_expand False\n",
            "159 block6a_se_excite False\n",
            "160 block6a_project_conv False\n",
            "161 block6a_project_bn False\n",
            "162 block6b_expand_conv False\n",
            "163 block6b_expand_bn False\n",
            "164 block6b_expand_activation False\n",
            "165 block6b_dwconv2 False\n",
            "166 block6b_bn False\n",
            "167 block6b_activation False\n",
            "168 block6b_se_squeeze False\n",
            "169 block6b_se_reshape False\n",
            "170 block6b_se_reduce False\n",
            "171 block6b_se_expand False\n",
            "172 block6b_se_excite False\n",
            "173 block6b_project_conv False\n",
            "174 block6b_project_bn False\n",
            "175 block6b_drop False\n",
            "176 block6b_add False\n",
            "177 block6c_expand_conv False\n",
            "178 block6c_expand_bn False\n",
            "179 block6c_expand_activation False\n",
            "180 block6c_dwconv2 False\n",
            "181 block6c_bn False\n",
            "182 block6c_activation False\n",
            "183 block6c_se_squeeze False\n",
            "184 block6c_se_reshape False\n",
            "185 block6c_se_reduce False\n",
            "186 block6c_se_expand False\n",
            "187 block6c_se_excite False\n",
            "188 block6c_project_conv False\n",
            "189 block6c_project_bn False\n",
            "190 block6c_drop False\n",
            "191 block6c_add False\n",
            "192 block6d_expand_conv False\n",
            "193 block6d_expand_bn False\n",
            "194 block6d_expand_activation False\n",
            "195 block6d_dwconv2 False\n",
            "196 block6d_bn False\n",
            "197 block6d_activation False\n",
            "198 block6d_se_squeeze False\n",
            "199 block6d_se_reshape False\n",
            "200 block6d_se_reduce False\n",
            "201 block6d_se_expand False\n",
            "202 block6d_se_excite False\n",
            "203 block6d_project_conv False\n",
            "204 block6d_project_bn False\n",
            "205 block6d_drop False\n",
            "206 block6d_add False\n",
            "207 block6e_expand_conv False\n",
            "208 block6e_expand_bn False\n",
            "209 block6e_expand_activation False\n",
            "210 block6e_dwconv2 False\n",
            "211 block6e_bn False\n",
            "212 block6e_activation False\n",
            "213 block6e_se_squeeze False\n",
            "214 block6e_se_reshape False\n",
            "215 block6e_se_reduce False\n",
            "216 block6e_se_expand False\n",
            "217 block6e_se_excite False\n",
            "218 block6e_project_conv False\n",
            "219 block6e_project_bn False\n",
            "220 block6e_drop False\n",
            "221 block6e_add False\n",
            "222 block6f_expand_conv False\n",
            "223 block6f_expand_bn False\n",
            "224 block6f_expand_activation False\n",
            "225 block6f_dwconv2 False\n",
            "226 block6f_bn False\n",
            "227 block6f_activation False\n",
            "228 block6f_se_squeeze False\n",
            "229 block6f_se_reshape False\n",
            "230 block6f_se_reduce False\n",
            "231 block6f_se_expand False\n",
            "232 block6f_se_excite False\n",
            "233 block6f_project_conv False\n",
            "234 block6f_project_bn False\n",
            "235 block6f_drop False\n",
            "236 block6f_add False\n",
            "237 block6g_expand_conv False\n",
            "238 block6g_expand_bn False\n",
            "239 block6g_expand_activation False\n",
            "240 block6g_dwconv2 False\n",
            "241 block6g_bn False\n",
            "242 block6g_activation False\n",
            "243 block6g_se_squeeze False\n",
            "244 block6g_se_reshape False\n",
            "245 block6g_se_reduce False\n",
            "246 block6g_se_expand False\n",
            "247 block6g_se_excite False\n",
            "248 block6g_project_conv False\n",
            "249 block6g_project_bn False\n",
            "250 block6g_drop True\n",
            "251 block6g_add True\n",
            "252 block6h_expand_conv True\n",
            "253 block6h_expand_bn True\n",
            "254 block6h_expand_activation True\n",
            "255 block6h_dwconv2 True\n",
            "256 block6h_bn True\n",
            "257 block6h_activation True\n",
            "258 block6h_se_squeeze True\n",
            "259 block6h_se_reshape True\n",
            "260 block6h_se_reduce True\n",
            "261 block6h_se_expand True\n",
            "262 block6h_se_excite True\n",
            "263 block6h_project_conv True\n",
            "264 block6h_project_bn True\n",
            "265 block6h_drop True\n",
            "266 block6h_add True\n",
            "267 top_conv True\n",
            "268 top_bn True\n",
            "269 top_activation True\n"
          ]
        }
      ]
    },
    {
      "cell_type": "code",
      "source": [
        "# Setup EarlyStopping callback to stop training if model's val_loss doesn't improve for 3 epochs\n",
        "early_stopping = tf.keras.callbacks.EarlyStopping(monitor=\"val_loss\", # watch the val loss metric\n",
        "                                                  patience=3) # if val loss decreases for 3 epochs in a row, stop training\n",
        "\n",
        "# Create ModelCheckpoint callback to save best model during fine-tuning\n",
        "checkpoint_path = \"fine_tune_checkpoints/\"\n",
        "model_checkpoint = tf.keras.callbacks.ModelCheckpoint(checkpoint_path,\n",
        "                                                      save_best_only=True,\n",
        "                                                      monitor=\"val_loss\")"
      ],
      "metadata": {
        "id": "p5_o0oQYaDXZ"
      },
      "execution_count": null,
      "outputs": []
    },
    {
      "cell_type": "code",
      "source": [
        "# creating the callbacks to reduce learning rate of the model\n",
        "reduce_lr = tf.keras.callbacks.ReduceLROnPlateau(monitor=\"val_loss\",  \n",
        "                                                 factor=0.2, # multiply the learning rate by 0.2 (reduce by 5x)\n",
        "                                                 patience=2,\n",
        "                                                 verbose=1, # print out when learning rate goes down \n",
        "                                                 min_lr=1e-7)"
      ],
      "metadata": {
        "id": "d3L9oO0taL9s"
      },
      "execution_count": null,
      "outputs": []
    },
    {
      "cell_type": "markdown",
      "source": [
        "lets train the model"
      ],
      "metadata": {
        "id": "OsF3TWfaai4v"
      }
    },
    {
      "cell_type": "code",
      "source": [
        "best_model = model.fit(train_data,\n",
        "                       epochs=100,\n",
        "                       steps_per_epoch=len(train_data),\n",
        "                       validation_data=test_data,\n",
        "                       validation_steps=int(.15 * len(test_data)),\n",
        "                       callbacks=[create_tensorboard_callback('models','best_fine_effb0'),\n",
        "                                  early_stopping,reduce_lr,model_checkpoint])"
      ],
      "metadata": {
        "colab": {
          "base_uri": "https://localhost:8080/"
        },
        "id": "L5ax1dUns-uQ",
        "outputId": "bce89dc9-01e2-41b5-835d-e5d6a7622d93"
      },
      "execution_count": null,
      "outputs": [
        {
          "metadata": {
            "tags": null
          },
          "name": "stdout",
          "output_type": "stream",
          "text": [
            "Epoch 1/100\n",
            "2368/2368 [==============================] - ETA: 0s - loss: 1.0128 - accuracy: 0.7341"
          ]
        },
        {
          "metadata": {
            "tags": null
          },
          "name": "stderr",
          "output_type": "stream",
          "text": [
            "WARNING:absl:Found untraced functions such as _jit_compiled_convolution_op, _jit_compiled_convolution_op, _jit_compiled_convolution_op, _jit_compiled_convolution_op, _jit_compiled_convolution_op while saving (showing 5 of 91). These functions will not be directly callable after loading.\n"
          ]
        },
        {
          "metadata": {
            "tags": null
          },
          "name": "stdout",
          "output_type": "stream",
          "text": [
            "2368/2368 [==============================] - 267s 106ms/step - loss: 1.0128 - accuracy: 0.7341 - val_loss: 0.8779 - val_accuracy: 0.7609 - lr: 1.0000e-04\n",
            "Epoch 2/100\n",
            "2368/2368 [==============================] - ETA: 0s - loss: 0.8711 - accuracy: 0.7675"
          ]
        },
        {
          "metadata": {
            "tags": null
          },
          "name": "stderr",
          "output_type": "stream",
          "text": [
            "WARNING:absl:Found untraced functions such as _jit_compiled_convolution_op, _jit_compiled_convolution_op, _jit_compiled_convolution_op, _jit_compiled_convolution_op, _jit_compiled_convolution_op while saving (showing 5 of 91). These functions will not be directly callable after loading.\n"
          ]
        },
        {
          "metadata": {
            "tags": null
          },
          "name": "stdout",
          "output_type": "stream",
          "text": [
            "2368/2368 [==============================] - 250s 104ms/step - loss: 0.8711 - accuracy: 0.7675 - val_loss: 0.8239 - val_accuracy: 0.7754 - lr: 1.0000e-04\n",
            "Epoch 3/100\n",
            "2368/2368 [==============================] - ETA: 0s - loss: 0.7879 - accuracy: 0.7898"
          ]
        },
        {
          "metadata": {
            "tags": null
          },
          "name": "stderr",
          "output_type": "stream",
          "text": [
            "WARNING:absl:Found untraced functions such as _jit_compiled_convolution_op, _jit_compiled_convolution_op, _jit_compiled_convolution_op, _jit_compiled_convolution_op, _jit_compiled_convolution_op while saving (showing 5 of 91). These functions will not be directly callable after loading.\n"
          ]
        },
        {
          "metadata": {
            "tags": null
          },
          "name": "stdout",
          "output_type": "stream",
          "text": [
            "2368/2368 [==============================] - 235s 98ms/step - loss: 0.7879 - accuracy: 0.7898 - val_loss: 0.8065 - val_accuracy: 0.7760 - lr: 1.0000e-04\n",
            "Epoch 4/100\n",
            "2368/2368 [==============================] - ETA: 0s - loss: 0.7277 - accuracy: 0.8056"
          ]
        },
        {
          "metadata": {
            "tags": null
          },
          "name": "stderr",
          "output_type": "stream",
          "text": [
            "WARNING:absl:Found untraced functions such as _jit_compiled_convolution_op, _jit_compiled_convolution_op, _jit_compiled_convolution_op, _jit_compiled_convolution_op, _jit_compiled_convolution_op while saving (showing 5 of 91). These functions will not be directly callable after loading.\n"
          ]
        },
        {
          "metadata": {
            "tags": null
          },
          "name": "stdout",
          "output_type": "stream",
          "text": [
            "2368/2368 [==============================] - 233s 97ms/step - loss: 0.7277 - accuracy: 0.8056 - val_loss: 0.7902 - val_accuracy: 0.7852 - lr: 1.0000e-04\n",
            "Epoch 5/100\n",
            "2368/2368 [==============================] - ETA: 0s - loss: 0.6741 - accuracy: 0.8205"
          ]
        },
        {
          "metadata": {
            "tags": null
          },
          "name": "stderr",
          "output_type": "stream",
          "text": [
            "WARNING:absl:Found untraced functions such as _jit_compiled_convolution_op, _jit_compiled_convolution_op, _jit_compiled_convolution_op, _jit_compiled_convolution_op, _jit_compiled_convolution_op while saving (showing 5 of 91). These functions will not be directly callable after loading.\n"
          ]
        },
        {
          "output_type": "stream",
          "name": "stdout",
          "text": [
            "2368/2368 [==============================] - 235s 98ms/step - loss: 0.6741 - accuracy: 0.8205 - val_loss: 0.7766 - val_accuracy: 0.7910 - lr: 1.0000e-04\n",
            "Epoch 6/100\n",
            "2368/2368 [==============================] - ETA: 0s - loss: 0.6221 - accuracy: 0.8334"
          ]
        },
        {
          "output_type": "stream",
          "name": "stderr",
          "text": [
            "WARNING:absl:Found untraced functions such as _jit_compiled_convolution_op, _jit_compiled_convolution_op, _jit_compiled_convolution_op, _jit_compiled_convolution_op, _jit_compiled_convolution_op while saving (showing 5 of 91). These functions will not be directly callable after loading.\n"
          ]
        },
        {
          "output_type": "stream",
          "name": "stdout",
          "text": [
            "\b\b\b\b\b\b\b\b\b\b\b\b\b\b\b\b\b\b\b\b\b\b\b\b\b\b\b\b\b\b\b\b\b\b\b\b\b\b\b\b\b\b\b\b\b\b\b\b\b\b\b\b\b\b\b\b\b\b\b\b\b\b\b\b\b\b\b\b\b\b\b\b\b\b\b\b\b\b\b\b\b\b\b\b\b\b\r2368/2368 [==============================] - 232s 97ms/step - loss: 0.6221 - accuracy: 0.8334 - val_loss: 0.7640 - val_accuracy: 0.7908 - lr: 1.0000e-04\n",
            "Epoch 7/100\n",
            "2368/2368 [==============================] - 183s 76ms/step - loss: 0.5793 - accuracy: 0.8468 - val_loss: 0.7665 - val_accuracy: 0.7945 - lr: 1.0000e-04\n",
            "Epoch 8/100\n",
            "2368/2368 [==============================] - ETA: 0s - loss: 0.5408 - accuracy: 0.8573"
          ]
        },
        {
          "output_type": "stream",
          "name": "stderr",
          "text": [
            "WARNING:absl:Found untraced functions such as _jit_compiled_convolution_op, _jit_compiled_convolution_op, _jit_compiled_convolution_op, _jit_compiled_convolution_op, _jit_compiled_convolution_op while saving (showing 5 of 91). These functions will not be directly callable after loading.\n"
          ]
        },
        {
          "output_type": "stream",
          "name": "stdout",
          "text": [
            "\b\b\b\b\b\b\b\b\b\b\b\b\b\b\b\b\b\b\b\b\b\b\b\b\b\b\b\b\b\b\b\b\b\b\b\b\b\b\b\b\b\b\b\b\b\b\b\b\b\b\b\b\b\b\b\b\b\b\b\b\b\b\b\b\b\b\b\b\b\b\b\b\b\b\b\b\b\b\b\b\b\b\b\b\b\b\r2368/2368 [==============================] - 236s 98ms/step - loss: 0.5408 - accuracy: 0.8573 - val_loss: 0.7570 - val_accuracy: 0.7958 - lr: 1.0000e-04\n",
            "Epoch 9/100\n",
            "2368/2368 [==============================] - 184s 77ms/step - loss: 0.5026 - accuracy: 0.8675 - val_loss: 0.7579 - val_accuracy: 0.7950 - lr: 1.0000e-04\n",
            "Epoch 10/100\n",
            "2368/2368 [==============================] - ETA: 0s - loss: 0.4758 - accuracy: 0.8748"
          ]
        },
        {
          "output_type": "stream",
          "name": "stderr",
          "text": [
            "WARNING:absl:Found untraced functions such as _jit_compiled_convolution_op, _jit_compiled_convolution_op, _jit_compiled_convolution_op, _jit_compiled_convolution_op, _jit_compiled_convolution_op while saving (showing 5 of 91). These functions will not be directly callable after loading.\n"
          ]
        },
        {
          "output_type": "stream",
          "name": "stdout",
          "text": [
            "\b\b\b\b\b\b\b\b\b\b\b\b\b\b\b\b\b\b\b\b\b\b\b\b\b\b\b\b\b\b\b\b\b\b\b\b\b\b\b\b\b\b\b\b\b\b\b\b\b\b\b\b\b\b\b\b\b\b\b\b\b\b\b\b\b\b\b\b\b\b\b\b\b\b\b\b\b\b\b\b\b\b\b\b\b\b\r2368/2368 [==============================] - 242s 101ms/step - loss: 0.4758 - accuracy: 0.8748 - val_loss: 0.7513 - val_accuracy: 0.7948 - lr: 1.0000e-04\n",
            "Epoch 11/100\n",
            "2368/2368 [==============================] - 184s 77ms/step - loss: 0.4423 - accuracy: 0.8839 - val_loss: 0.7602 - val_accuracy: 0.7998 - lr: 1.0000e-04\n",
            "Epoch 12/100\n",
            "2368/2368 [==============================] - ETA: 0s - loss: 0.4157 - accuracy: 0.8912\n",
            "Epoch 12: ReduceLROnPlateau reducing learning rate to 1.9999999494757503e-05.\n",
            "2368/2368 [==============================] - 190s 79ms/step - loss: 0.4157 - accuracy: 0.8912 - val_loss: 0.7647 - val_accuracy: 0.7953 - lr: 1.0000e-04\n",
            "Epoch 13/100\n",
            "2368/2368 [==============================] - 184s 77ms/step - loss: 0.3679 - accuracy: 0.9083 - val_loss: 0.7658 - val_accuracy: 0.7979 - lr: 2.0000e-05\n"
          ]
        }
      ]
    },
    {
      "cell_type": "code",
      "source": [
        "best_results = model.evaluate(test_data)\n",
        "best_results"
      ],
      "metadata": {
        "id": "JdFZK08A_FQs",
        "colab": {
          "base_uri": "https://localhost:8080/"
        },
        "outputId": "6a8bea66-bb6d-4edb-e3a3-f4e3814f13f4"
      },
      "execution_count": null,
      "outputs": [
        {
          "output_type": "stream",
          "name": "stdout",
          "text": [
            "790/790 [==============================] - 57s 72ms/step - loss: 0.7531 - accuracy: 0.7967\n"
          ]
        },
        {
          "output_type": "execute_result",
          "data": {
            "text/plain": [
              "[0.7531286478042603, 0.7967128753662109]"
            ]
          },
          "metadata": {},
          "execution_count": 54
        }
      ]
    },
    {
      "cell_type": "code",
      "source": [
        "plot_history(best_model)"
      ],
      "metadata": {
        "colab": {
          "base_uri": "https://localhost:8080/",
          "height": 545
        },
        "id": "KaHCcd3Yq9ou",
        "outputId": "e47034a0-b600-467d-b8cd-8c57ed78f574"
      },
      "execution_count": null,
      "outputs": [
        {
          "output_type": "display_data",
          "data": {
            "text/plain": [
              "<Figure size 432x288 with 1 Axes>"
            ],
            "image/png": "[encoded data removed]"
          },
          "metadata": {
            "needs_background": "light"
          }
        },
        {
          "output_type": "display_data",
          "data": {
            "text/plain": [
              "<Figure size 432x288 with 1 Axes>"
            ],
            "image/png": "[encoded data removed]"
          },
          "metadata": {
            "needs_background": "light"
          }
        }
      ]
    },
    {
      "cell_type": "code",
      "source": [],
      "metadata": {
        "id": "TlDZ16pjrAy3"
      },
      "execution_count": null,
      "outputs": []
    }
  ]
}