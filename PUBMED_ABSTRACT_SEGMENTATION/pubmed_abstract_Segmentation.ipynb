{
  "cells": [
    {
      "cell_type": "markdown",
      "metadata": {
        "id": "view-in-github",
        "colab_type": "text"
      },
      "source": [
        "<a href=\"https://colab.research.google.com/github/jeeva-18/Deep-learning-projects/blob/main/PUBMED_ABSTRACT_SEGMENTATION/pubmed_abstract_Segmentation.ipynb\" target=\"_parent\"><img src=\"https://colab.research.google.com/assets/colab-badge.svg\" alt=\"Open In Colab\"/></a>"
      ]
    },
    {
      "cell_type": "markdown",
      "metadata": {
        "id": "mXkCX5eBRS_B"
      },
      "source": [
        "# SKIMLIT PROJECT - PUBMED 200K RCT\n",
        "\n",
        "We are going to develope some models that is mentioned on the [paper](https://arxiv.org/abs/1710.06071) and try to improve their performances    "
      ]
    },
    {
      "cell_type": "code",
      "execution_count": 1,
      "metadata": {
        "id": "KSKBoub4O_N4"
      },
      "outputs": [],
      "source": [
        "import tensorflow as tf\n",
        "from tensorflow.keras import layers\n",
        "import pandas as pd\n",
        "import numpy as np\n",
        "import matplotlib.pyplot as plt\n",
        "import seaborn as sns"
      ]
    },
    {
      "cell_type": "markdown",
      "metadata": {
        "id": "qzwdfCLhUcvJ"
      },
      "source": [
        "## Get dataset\n",
        "\n",
        "We are going to get dataset from https://github.com/Franck-Dernoncourt/pubmed-rct \n"
      ]
    },
    {
      "cell_type": "code",
      "execution_count": 2,
      "metadata": {
        "colab": {
          "base_uri": "https://localhost:8080/"
        },
        "id": "qgz4aZT2UcKG",
        "outputId": "37eec29e-a312-4361-df8f-f10d191f2af9"
      },
      "outputs": [
        {
          "output_type": "stream",
          "name": "stdout",
          "text": [
            "Cloning into 'pubmed-rct'...\n",
            "remote: Enumerating objects: 33, done.\u001b[K\n",
            "remote: Counting objects: 100% (8/8), done.\u001b[K\n",
            "remote: Compressing objects: 100% (3/3), done.\u001b[K\n",
            "remote: Total 33 (delta 5), reused 5 (delta 5), pack-reused 25\u001b[K\n",
            "Unpacking objects: 100% (33/33), 177.08 MiB | 14.47 MiB/s, done.\n",
            "PubMed_200k_RCT\n",
            "PubMed_200k_RCT_numbers_replaced_with_at_sign\n",
            "PubMed_20k_RCT\n",
            "PubMed_20k_RCT_numbers_replaced_with_at_sign\n",
            "README.md\n"
          ]
        }
      ],
      "source": [
        "!git clone https://github.com/Franck-Dernoncourt/pubmed-rct\n",
        "!ls pubmed-rct"
      ]
    },
    {
      "cell_type": "code",
      "execution_count": 3,
      "metadata": {
        "colab": {
          "base_uri": "https://localhost:8080/"
        },
        "id": "2JVEXS7qWoHT",
        "outputId": "bdc81c40-afac-49eb-fc71-fab26d76b0f7"
      },
      "outputs": [
        {
          "output_type": "stream",
          "name": "stdout",
          "text": [
            "dev.txt  test.txt  train.txt\n"
          ]
        }
      ],
      "source": [
        "# At first we are going to use the pubmed_20k_rct dataset \n",
        "!ls pubmed-rct/PubMed_20k_RCT_numbers_replaced_with_at_sign"
      ]
    },
    {
      "cell_type": "code",
      "execution_count": 4,
      "metadata": {
        "id": "7kBKdzh7Xatf"
      },
      "outputs": [],
      "source": [
        "data_dir_20percent = '/content/pubmed-rct/PubMed_20k_RCT_numbers_replaced_with_at_sign/'"
      ]
    },
    {
      "cell_type": "code",
      "execution_count": 5,
      "metadata": {
        "colab": {
          "base_uri": "https://localhost:8080/"
        },
        "id": "7xikex11Ygfm",
        "outputId": "9c93bad0-68aa-4bcf-995e-23ff8148414c"
      },
      "outputs": [
        {
          "output_type": "execute_result",
          "data": {
            "text/plain": [
              "['dev.txt', 'train.txt', 'test.txt']"
            ]
          },
          "metadata": {},
          "execution_count": 5
        }
      ],
      "source": [
        "import os \n",
        "\n",
        "os.listdir(data_dir_20percent)"
      ]
    },
    {
      "cell_type": "markdown",
      "metadata": {
        "id": "m_ESP2cwalyG"
      },
      "source": [
        "## Preprocess Data \n",
        "\n",
        "our data is in txt file format we have to preprocess them"
      ]
    },
    {
      "cell_type": "code",
      "execution_count": 6,
      "metadata": {
        "id": "23ALOS82Ymhn"
      },
      "outputs": [],
      "source": [
        "# get lines from the textfile\n",
        "\n",
        "def get_lines(filename):\n",
        "  '''\n",
        "  This will read your file(.txt) and give you the lines that written on it in the form of list\n",
        "  '''\n",
        "  with open(filename,'r') as f:\n",
        "    return f.readlines()"
      ]
    },
    {
      "cell_type": "code",
      "execution_count": 7,
      "metadata": {
        "colab": {
          "base_uri": "https://localhost:8080/"
        },
        "id": "zgmSe_UubuiW",
        "outputId": "41916272-79e1-4060-9f78-2695ad05b81e"
      },
      "outputs": [
        {
          "output_type": "execute_result",
          "data": {
            "text/plain": [
              "['###24293578\\n',\n",
              " 'OBJECTIVE\\tTo investigate the efficacy of @ weeks of daily low-dose oral prednisolone in improving pain , mobility , and systemic low-grade inflammation in the short term and whether the effect would be sustained at @ weeks in older adults with moderate to severe knee osteoarthritis ( OA ) .\\n',\n",
              " 'METHODS\\tA total of @ patients with primary knee OA were randomized @:@ ; @ received @ mg/day of prednisolone and @ received placebo for @ weeks .\\n',\n",
              " 'METHODS\\tOutcome measures included pain reduction and improvement in function scores and systemic inflammation markers .\\n',\n",
              " 'METHODS\\tPain was assessed using the visual analog pain scale ( @-@ mm ) .\\n',\n",
              " 'METHODS\\tSecondary outcome measures included the Western Ontario and McMaster Universities Osteoarthritis Index scores , patient global assessment ( PGA ) of the severity of knee OA , and @-min walk distance ( @MWD ) .\\n',\n",
              " 'METHODS\\tSerum levels of interleukin @ ( IL-@ ) , IL-@ , tumor necrosis factor ( TNF ) - , and high-sensitivity C-reactive protein ( hsCRP ) were measured .\\n',\n",
              " 'RESULTS\\tThere was a clinically relevant reduction in the intervention group compared to the placebo group for knee pain , physical function , PGA , and @MWD at @ weeks .\\n',\n",
              " 'RESULTS\\tThe mean difference between treatment arms ( @ % CI ) was @ ( @-@ @ ) , p < @ ; @ ( @-@ @ ) , p < @ ; @ ( @-@ @ ) , p < @ ; and @ ( @-@ @ ) , p < @ , respectively .\\n',\n",
              " 'RESULTS\\tFurther , there was a clinically relevant reduction in the serum levels of IL-@ , IL-@ , TNF - , and hsCRP at @ weeks in the intervention group when compared to the placebo group .\\n']"
            ]
          },
          "metadata": {},
          "execution_count": 7
        }
      ],
      "source": [
        "train_lines = get_lines(os.path.join(data_dir_20percent,'train.txt'))\n",
        "train_lines[:10]"
      ]
    },
    {
      "cell_type": "code",
      "execution_count": 8,
      "metadata": {
        "id": "NrPoD1OhsFAY"
      },
      "outputs": [],
      "source": [
        "def get_prep_lines(filename):\n",
        "  text_lines = get_lines(filename)\n",
        "  lines = []\n",
        "  for line in text_lines:\n",
        "    if line.startswith('###'):\n",
        "      ab_lines = ''\n",
        "    elif line.isspace():\n",
        "      ab_lines_split = ab_lines.splitlines()\n",
        "      # train_dict = dict()\n",
        "      for line_no,ab_line in enumerate(ab_lines_split):\n",
        "        train_dict = dict()\n",
        "        target_text_split = ab_line.split('\\t')\n",
        "        train_dict['line_no'] = line_no\n",
        "        train_dict['target'] = target_text_split[0]\n",
        "        train_dict['text'] = target_text_split[1] \n",
        "        train_dict['total_lines'] = len(ab_lines_split)-1\n",
        "        lines.append(train_dict)\n",
        "    else:\n",
        "      ab_lines += line\n",
        "  return lines"
      ]
    },
    {
      "cell_type": "code",
      "execution_count": 9,
      "metadata": {
        "colab": {
          "base_uri": "https://localhost:8080/"
        },
        "id": "QUsU7Vugfk0Z",
        "outputId": "1b7cb466-7d6f-43e3-dc19-de6c810361ae"
      },
      "outputs": [
        {
          "output_type": "stream",
          "name": "stdout",
          "text": [
            "180040 30212 30135\n",
            "CPU times: user 308 ms, sys: 75.9 ms, total: 384 ms\n",
            "Wall time: 386 ms\n"
          ]
        }
      ],
      "source": [
        "%%time\n",
        "\n",
        "train_samples = get_prep_lines(data_dir_20percent+'train.txt')\n",
        "val_samples = get_prep_lines(data_dir_20percent+'dev.txt')\n",
        "test_samples = get_prep_lines(data_dir_20percent+'test.txt') \n",
        "print(len(train_samples),len(val_samples),len(test_samples))"
      ]
    },
    {
      "cell_type": "code",
      "execution_count": 10,
      "metadata": {
        "colab": {
          "base_uri": "https://localhost:8080/"
        },
        "id": "pbL-gfnOr1kY",
        "outputId": "308225ac-b9e8-4f53-89a4-c204896c7dd5"
      },
      "outputs": [
        {
          "output_type": "execute_result",
          "data": {
            "text/plain": [
              "[{'line_no': 0,\n",
              "  'target': 'OBJECTIVE',\n",
              "  'text': 'To investigate the efficacy of @ weeks of daily low-dose oral prednisolone in improving pain , mobility , and systemic low-grade inflammation in the short term and whether the effect would be sustained at @ weeks in older adults with moderate to severe knee osteoarthritis ( OA ) .',\n",
              "  'total_lines': 11},\n",
              " {'line_no': 1,\n",
              "  'target': 'METHODS',\n",
              "  'text': 'A total of @ patients with primary knee OA were randomized @:@ ; @ received @ mg/day of prednisolone and @ received placebo for @ weeks .',\n",
              "  'total_lines': 11},\n",
              " {'line_no': 2,\n",
              "  'target': 'METHODS',\n",
              "  'text': 'Outcome measures included pain reduction and improvement in function scores and systemic inflammation markers .',\n",
              "  'total_lines': 11},\n",
              " {'line_no': 3,\n",
              "  'target': 'METHODS',\n",
              "  'text': 'Pain was assessed using the visual analog pain scale ( @-@ mm ) .',\n",
              "  'total_lines': 11},\n",
              " {'line_no': 4,\n",
              "  'target': 'METHODS',\n",
              "  'text': 'Secondary outcome measures included the Western Ontario and McMaster Universities Osteoarthritis Index scores , patient global assessment ( PGA ) of the severity of knee OA , and @-min walk distance ( @MWD ) .',\n",
              "  'total_lines': 11},\n",
              " {'line_no': 5,\n",
              "  'target': 'METHODS',\n",
              "  'text': 'Serum levels of interleukin @ ( IL-@ ) , IL-@ , tumor necrosis factor ( TNF ) - , and high-sensitivity C-reactive protein ( hsCRP ) were measured .',\n",
              "  'total_lines': 11},\n",
              " {'line_no': 6,\n",
              "  'target': 'RESULTS',\n",
              "  'text': 'There was a clinically relevant reduction in the intervention group compared to the placebo group for knee pain , physical function , PGA , and @MWD at @ weeks .',\n",
              "  'total_lines': 11},\n",
              " {'line_no': 7,\n",
              "  'target': 'RESULTS',\n",
              "  'text': 'The mean difference between treatment arms ( @ % CI ) was @ ( @-@ @ ) , p < @ ; @ ( @-@ @ ) , p < @ ; @ ( @-@ @ ) , p < @ ; and @ ( @-@ @ ) , p < @ , respectively .',\n",
              "  'total_lines': 11},\n",
              " {'line_no': 8,\n",
              "  'target': 'RESULTS',\n",
              "  'text': 'Further , there was a clinically relevant reduction in the serum levels of IL-@ , IL-@ , TNF - , and hsCRP at @ weeks in the intervention group when compared to the placebo group .',\n",
              "  'total_lines': 11},\n",
              " {'line_no': 9,\n",
              "  'target': 'RESULTS',\n",
              "  'text': 'These differences remained significant at @ weeks .',\n",
              "  'total_lines': 11},\n",
              " {'line_no': 10,\n",
              "  'target': 'RESULTS',\n",
              "  'text': 'The Outcome Measures in Rheumatology Clinical Trials-Osteoarthritis Research Society International responder rate was @ % in the intervention group and @ % in the placebo group ( p < @ ) .',\n",
              "  'total_lines': 11},\n",
              " {'line_no': 11,\n",
              "  'target': 'CONCLUSIONS',\n",
              "  'text': 'Low-dose oral prednisolone had both a short-term and a longer sustained effect resulting in less knee pain , better physical function , and attenuation of systemic inflammation in older patients with knee OA ( ClinicalTrials.gov identifier NCT@ ) .',\n",
              "  'total_lines': 11}]"
            ]
          },
          "metadata": {},
          "execution_count": 10
        }
      ],
      "source": [
        "train_samples[:12]"
      ]
    },
    {
      "cell_type": "code",
      "execution_count": 11,
      "metadata": {
        "id": "zC5J6rjQBwhR"
      },
      "outputs": [],
      "source": [
        "train_df = pd.DataFrame(train_samples)\n",
        "val_df = pd.DataFrame(val_samples)\n",
        "test_df = pd.DataFrame(test_samples)"
      ]
    },
    {
      "cell_type": "code",
      "execution_count": 12,
      "metadata": {
        "colab": {
          "base_uri": "https://localhost:8080/",
          "height": 424
        },
        "id": "CYLVh4TLC2nE",
        "outputId": "9ac755ed-6747-494a-d571-45f11a8274df"
      },
      "outputs": [
        {
          "output_type": "execute_result",
          "data": {
            "text/plain": [
              "        line_no       target  \\\n",
              "0             0    OBJECTIVE   \n",
              "1             1      METHODS   \n",
              "2             2      METHODS   \n",
              "3             3      METHODS   \n",
              "4             4      METHODS   \n",
              "...         ...          ...   \n",
              "180035        7      RESULTS   \n",
              "180036        8      RESULTS   \n",
              "180037        9      RESULTS   \n",
              "180038       10  CONCLUSIONS   \n",
              "180039       11  CONCLUSIONS   \n",
              "\n",
              "                                                     text  total_lines  \n",
              "0       To investigate the efficacy of @ weeks of dail...           11  \n",
              "1       A total of @ patients with primary knee OA wer...           11  \n",
              "2       Outcome measures included pain reduction and i...           11  \n",
              "3       Pain was assessed using the visual analog pain...           11  \n",
              "4       Secondary outcome measures included the Wester...           11  \n",
              "...                                                   ...          ...  \n",
              "180035  For the absolute change in percent atheroma vo...           11  \n",
              "180036  For PAV , a significantly greater percentage o...           11  \n",
              "180037  Both strategies had acceptable side effect pro...           11  \n",
              "180038  Compared with standard statin monotherapy , th...           11  \n",
              "180039  ( Plaque Regression With Cholesterol Absorptio...           11  \n",
              "\n",
              "[180040 rows x 4 columns]"
            ],
            "text/html": [
              "\n",
              "  <div id=\"df-5c27d59a-54b7-4751-8495-c5c8f0f123e9\">\n",
              "    <div class=\"colab-df-container\">\n",
              "      <div>\n",
              "<style scoped>\n",
              "    .dataframe tbody tr th:only-of-type {\n",
              "        vertical-align: middle;\n",
              "    }\n",
              "\n",
              "    .dataframe tbody tr th {\n",
              "        vertical-align: top;\n",
              "    }\n",
              "\n",
              "    .dataframe thead th {\n",
              "        text-align: right;\n",
              "    }\n",
              "</style>\n",
              "<table border=\"1\" class=\"dataframe\">\n",
              "  <thead>\n",
              "    <tr style=\"text-align: right;\">\n",
              "      <th></th>\n",
              "      <th>line_no</th>\n",
              "      <th>target</th>\n",
              "      <th>text</th>\n",
              "      <th>total_lines</th>\n",
              "    </tr>\n",
              "  </thead>\n",
              "  <tbody>\n",
              "    <tr>\n",
              "      <th>0</th>\n",
              "      <td>0</td>\n",
              "      <td>OBJECTIVE</td>\n",
              "      <td>To investigate the efficacy of @ weeks of dail...</td>\n",
              "      <td>11</td>\n",
              "    </tr>\n",
              "    <tr>\n",
              "      <th>1</th>\n",
              "      <td>1</td>\n",
              "      <td>METHODS</td>\n",
              "      <td>A total of @ patients with primary knee OA wer...</td>\n",
              "      <td>11</td>\n",
              "    </tr>\n",
              "    <tr>\n",
              "      <th>2</th>\n",
              "      <td>2</td>\n",
              "      <td>METHODS</td>\n",
              "      <td>Outcome measures included pain reduction and i...</td>\n",
              "      <td>11</td>\n",
              "    </tr>\n",
              "    <tr>\n",
              "      <th>3</th>\n",
              "      <td>3</td>\n",
              "      <td>METHODS</td>\n",
              "      <td>Pain was assessed using the visual analog pain...</td>\n",
              "      <td>11</td>\n",
              "    </tr>\n",
              "    <tr>\n",
              "      <th>4</th>\n",
              "      <td>4</td>\n",
              "      <td>METHODS</td>\n",
              "      <td>Secondary outcome measures included the Wester...</td>\n",
              "      <td>11</td>\n",
              "    </tr>\n",
              "    <tr>\n",
              "      <th>...</th>\n",
              "      <td>...</td>\n",
              "      <td>...</td>\n",
              "      <td>...</td>\n",
              "      <td>...</td>\n",
              "    </tr>\n",
              "    <tr>\n",
              "      <th>180035</th>\n",
              "      <td>7</td>\n",
              "      <td>RESULTS</td>\n",
              "      <td>For the absolute change in percent atheroma vo...</td>\n",
              "      <td>11</td>\n",
              "    </tr>\n",
              "    <tr>\n",
              "      <th>180036</th>\n",
              "      <td>8</td>\n",
              "      <td>RESULTS</td>\n",
              "      <td>For PAV , a significantly greater percentage o...</td>\n",
              "      <td>11</td>\n",
              "    </tr>\n",
              "    <tr>\n",
              "      <th>180037</th>\n",
              "      <td>9</td>\n",
              "      <td>RESULTS</td>\n",
              "      <td>Both strategies had acceptable side effect pro...</td>\n",
              "      <td>11</td>\n",
              "    </tr>\n",
              "    <tr>\n",
              "      <th>180038</th>\n",
              "      <td>10</td>\n",
              "      <td>CONCLUSIONS</td>\n",
              "      <td>Compared with standard statin monotherapy , th...</td>\n",
              "      <td>11</td>\n",
              "    </tr>\n",
              "    <tr>\n",
              "      <th>180039</th>\n",
              "      <td>11</td>\n",
              "      <td>CONCLUSIONS</td>\n",
              "      <td>( Plaque Regression With Cholesterol Absorptio...</td>\n",
              "      <td>11</td>\n",
              "    </tr>\n",
              "  </tbody>\n",
              "</table>\n",
              "<p>180040 rows × 4 columns</p>\n",
              "</div>\n",
              "      <button class=\"colab-df-convert\" onclick=\"convertToInteractive('df-5c27d59a-54b7-4751-8495-c5c8f0f123e9')\"\n",
              "              title=\"Convert this dataframe to an interactive table.\"\n",
              "              style=\"display:none;\">\n",
              "        \n",
              "  <svg xmlns=\"http://www.w3.org/2000/svg\" height=\"24px\"viewBox=\"0 0 24 24\"\n",
              "       width=\"24px\">\n",
              "    <path d=\"M0 0h24v24H0V0z\" fill=\"none\"/>\n",
              "    <path d=\"M18.56 5.44l.94 2.06.94-2.06 2.06-.94-2.06-.94-.94-2.06-.94 2.06-2.06.94zm-11 1L8.5 8.5l.94-2.06 2.06-.94-2.06-.94L8.5 2.5l-.94 2.06-2.06.94zm10 10l.94 2.06.94-2.06 2.06-.94-2.06-.94-.94-2.06-.94 2.06-2.06.94z\"/><path d=\"M17.41 7.96l-1.37-1.37c-.4-.4-.92-.59-1.43-.59-.52 0-1.04.2-1.43.59L10.3 9.45l-7.72 7.72c-.78.78-.78 2.05 0 2.83L4 21.41c.39.39.9.59 1.41.59.51 0 1.02-.2 1.41-.59l7.78-7.78 2.81-2.81c.8-.78.8-2.07 0-2.86zM5.41 20L4 18.59l7.72-7.72 1.47 1.35L5.41 20z\"/>\n",
              "  </svg>\n",
              "      </button>\n",
              "      \n",
              "  <style>\n",
              "    .colab-df-container {\n",
              "      display:flex;\n",
              "      flex-wrap:wrap;\n",
              "      gap: 12px;\n",
              "    }\n",
              "\n",
              "    .colab-df-convert {\n",
              "      background-color: #E8F0FE;\n",
              "      border: none;\n",
              "      border-radius: 50%;\n",
              "      cursor: pointer;\n",
              "      display: none;\n",
              "      fill: #1967D2;\n",
              "      height: 32px;\n",
              "      padding: 0 0 0 0;\n",
              "      width: 32px;\n",
              "    }\n",
              "\n",
              "    .colab-df-convert:hover {\n",
              "      background-color: #E2EBFA;\n",
              "      box-shadow: 0px 1px 2px rgba(60, 64, 67, 0.3), 0px 1px 3px 1px rgba(60, 64, 67, 0.15);\n",
              "      fill: #174EA6;\n",
              "    }\n",
              "\n",
              "    [theme=dark] .colab-df-convert {\n",
              "      background-color: #3B4455;\n",
              "      fill: #D2E3FC;\n",
              "    }\n",
              "\n",
              "    [theme=dark] .colab-df-convert:hover {\n",
              "      background-color: #434B5C;\n",
              "      box-shadow: 0px 1px 3px 1px rgba(0, 0, 0, 0.15);\n",
              "      filter: drop-shadow(0px 1px 2px rgba(0, 0, 0, 0.3));\n",
              "      fill: #FFFFFF;\n",
              "    }\n",
              "  </style>\n",
              "\n",
              "      <script>\n",
              "        const buttonEl =\n",
              "          document.querySelector('#df-5c27d59a-54b7-4751-8495-c5c8f0f123e9 button.colab-df-convert');\n",
              "        buttonEl.style.display =\n",
              "          google.colab.kernel.accessAllowed ? 'block' : 'none';\n",
              "\n",
              "        async function convertToInteractive(key) {\n",
              "          const element = document.querySelector('#df-5c27d59a-54b7-4751-8495-c5c8f0f123e9');\n",
              "          const dataTable =\n",
              "            await google.colab.kernel.invokeFunction('convertToInteractive',\n",
              "                                                     [key], {});\n",
              "          if (!dataTable) return;\n",
              "\n",
              "          const docLinkHtml = 'Like what you see? Visit the ' +\n",
              "            '<a target=\"_blank\" href=https://colab.research.google.com/notebooks/data_table.ipynb>data table notebook</a>'\n",
              "            + ' to learn more about interactive tables.';\n",
              "          element.innerHTML = '';\n",
              "          dataTable['output_type'] = 'display_data';\n",
              "          await google.colab.output.renderOutput(dataTable, element);\n",
              "          const docLink = document.createElement('div');\n",
              "          docLink.innerHTML = docLinkHtml;\n",
              "          element.appendChild(docLink);\n",
              "        }\n",
              "      </script>\n",
              "    </div>\n",
              "  </div>\n",
              "  "
            ]
          },
          "metadata": {},
          "execution_count": 12
        }
      ],
      "source": [
        "train_df"
      ]
    },
    {
      "cell_type": "code",
      "execution_count": 13,
      "metadata": {
        "colab": {
          "base_uri": "https://localhost:8080/",
          "height": 447
        },
        "id": "NMcL2F1-GNPw",
        "outputId": "f97b7c5b-db15-4210-a456-d736c8335e24"
      },
      "outputs": [
        {
          "output_type": "execute_result",
          "data": {
            "text/plain": [
              "<Axes: >"
            ]
          },
          "metadata": {},
          "execution_count": 13
        },
        {
          "output_type": "display_data",
          "data": {
            "text/plain": [
              "<Figure size 640x480 with 1 Axes>"
            ],
            "image/png": "[encoded data removed]"
          },
          "metadata": {}
        }
      ],
      "source": [
        "train_df.target.value_counts(ascending=True).plot(kind='barh')"
      ]
    },
    {
      "cell_type": "markdown",
      "metadata": {
        "id": "x8VfuafCG5bC"
      },
      "source": [
        " It looks like the methods and results are showing majority.\n",
        " Conclusion has lower values than others "
      ]
    },
    {
      "cell_type": "code",
      "execution_count": 14,
      "metadata": {
        "colab": {
          "base_uri": "https://localhost:8080/",
          "height": 469
        },
        "id": "AuGngQdLC42K",
        "outputId": "2d73e4d5-8900-4a09-8628-bf792bacc15d"
      },
      "outputs": [
        {
          "output_type": "execute_result",
          "data": {
            "text/plain": [
              "<Axes: title={'center': 'Total_lines'}, ylabel='Frequency'>"
            ]
          },
          "metadata": {},
          "execution_count": 14
        },
        {
          "output_type": "display_data",
          "data": {
            "text/plain": [
              "<Figure size 640x480 with 1 Axes>"
            ],
            "image/png": "[encoded data removed]"
          },
          "metadata": {}
        }
      ],
      "source": [
        "plt.title('Total_lines')\n",
        "train_df.total_lines.plot(kind='hist')"
      ]
    },
    {
      "cell_type": "code",
      "execution_count": 15,
      "metadata": {
        "colab": {
          "base_uri": "https://localhost:8080/"
        },
        "id": "OG64P7iAHhDM",
        "outputId": "da407520-5c87-41a8-b343-94ada6a34eb9"
      },
      "outputs": [
        {
          "output_type": "execute_result",
          "data": {
            "text/plain": [
              "11.789135747611642"
            ]
          },
          "metadata": {},
          "execution_count": 15
        }
      ],
      "source": [
        "train_df.total_lines.mean()"
      ]
    },
    {
      "cell_type": "markdown",
      "metadata": {
        "id": "9yWW8Oo4HOXF"
      },
      "source": [
        "The most of the abstracts have 10 to 11 lines "
      ]
    },
    {
      "cell_type": "code",
      "execution_count": 16,
      "metadata": {
        "colab": {
          "base_uri": "https://localhost:8080/",
          "height": 469
        },
        "id": "9uRZzQ4sK_yU",
        "outputId": "b5210858-e058-4693-c52a-b97756954d0c"
      },
      "outputs": [
        {
          "output_type": "execute_result",
          "data": {
            "text/plain": [
              "Text(0, 0.5, 'words_count')"
            ]
          },
          "metadata": {},
          "execution_count": 16
        },
        {
          "output_type": "display_data",
          "data": {
            "text/plain": [
              "<Figure size 640x480 with 1 Axes>"
            ],
            "image/png": "[encoded data removed]"
          },
          "metadata": {}
        }
      ],
      "source": [
        "plt.title('No of Words in texts')\n",
        "sns.histplot([len(i.split()) for i in train_df.text],binrange=(0,120))\n",
        "plt.ylabel('words_count')"
      ]
    },
    {
      "cell_type": "code",
      "execution_count": 17,
      "metadata": {
        "colab": {
          "base_uri": "https://localhost:8080/"
        },
        "id": "094Hn1JJFSln",
        "outputId": "ac61d259-3abb-41b9-a3c6-24d96306d787"
      },
      "outputs": [
        {
          "output_type": "stream",
          "name": "stdout",
          "text": [
            "Average words in text:  26\n"
          ]
        }
      ],
      "source": [
        "# lets see the avearge lenght of the texts\n",
        "\n",
        "print('Average words in text: ',round(sum([len(i.split()) for i in train_df.text])/len(train_df.text)))"
      ]
    },
    {
      "cell_type": "code",
      "execution_count": 18,
      "metadata": {
        "id": "9gOjLQnSNnrD"
      },
      "outputs": [],
      "source": [
        "train_sentences = train_df['text'].tolist()\n",
        "val_sentences = val_df['text'].tolist()\n",
        "test_sentences = test_df['text'].tolist()"
      ]
    },
    {
      "cell_type": "code",
      "execution_count": 19,
      "metadata": {
        "colab": {
          "base_uri": "https://localhost:8080/"
        },
        "id": "cjbO6QerOLQv",
        "outputId": "b02c4ca0-a032-43da-db4c-a243f1afabb1"
      },
      "outputs": [
        {
          "output_type": "execute_result",
          "data": {
            "text/plain": [
              "['To investigate the efficacy of @ weeks of daily low-dose oral prednisolone in improving pain , mobility , and systemic low-grade inflammation in the short term and whether the effect would be sustained at @ weeks in older adults with moderate to severe knee osteoarthritis ( OA ) .',\n",
              " 'A total of @ patients with primary knee OA were randomized @:@ ; @ received @ mg/day of prednisolone and @ received placebo for @ weeks .',\n",
              " 'Outcome measures included pain reduction and improvement in function scores and systemic inflammation markers .',\n",
              " 'Pain was assessed using the visual analog pain scale ( @-@ mm ) .',\n",
              " 'Secondary outcome measures included the Western Ontario and McMaster Universities Osteoarthritis Index scores , patient global assessment ( PGA ) of the severity of knee OA , and @-min walk distance ( @MWD ) .',\n",
              " 'Serum levels of interleukin @ ( IL-@ ) , IL-@ , tumor necrosis factor ( TNF ) - , and high-sensitivity C-reactive protein ( hsCRP ) were measured .',\n",
              " 'There was a clinically relevant reduction in the intervention group compared to the placebo group for knee pain , physical function , PGA , and @MWD at @ weeks .',\n",
              " 'The mean difference between treatment arms ( @ % CI ) was @ ( @-@ @ ) , p < @ ; @ ( @-@ @ ) , p < @ ; @ ( @-@ @ ) , p < @ ; and @ ( @-@ @ ) , p < @ , respectively .',\n",
              " 'Further , there was a clinically relevant reduction in the serum levels of IL-@ , IL-@ , TNF - , and hsCRP at @ weeks in the intervention group when compared to the placebo group .',\n",
              " 'These differences remained significant at @ weeks .']"
            ]
          },
          "metadata": {},
          "execution_count": 19
        }
      ],
      "source": [
        "train_sentences[:10]"
      ]
    },
    {
      "cell_type": "code",
      "execution_count": 20,
      "metadata": {
        "id": "ipHaeyXcMupv"
      },
      "outputs": [],
      "source": [
        "from sklearn.preprocessing import OneHotEncoder\n",
        "\n",
        "onehotencoder = OneHotEncoder(sparse_output=False)\n",
        "\n",
        "train_target_onehot = onehotencoder.fit_transform(train_df['target'].to_numpy().reshape(-1,1))\n",
        "val_target_onehot = onehotencoder.transform(val_df['target'].to_numpy().reshape(-1,1))\n",
        "test_target_onehot = onehotencoder.transform(test_df['target'].to_numpy().reshape(-1,1)) "
      ]
    },
    {
      "cell_type": "code",
      "execution_count": 21,
      "metadata": {
        "colab": {
          "base_uri": "https://localhost:8080/"
        },
        "id": "MyHMzLIqNebU",
        "outputId": "11afa123-b0d8-4bb6-c74b-2771ddc56d11"
      },
      "outputs": [
        {
          "output_type": "execute_result",
          "data": {
            "text/plain": [
              "array([[0., 0., 0., 1., 0.],\n",
              "       [0., 0., 1., 0., 0.],\n",
              "       [0., 0., 1., 0., 0.],\n",
              "       [0., 0., 1., 0., 0.],\n",
              "       [0., 0., 1., 0., 0.],\n",
              "       [0., 0., 1., 0., 0.],\n",
              "       [0., 0., 0., 0., 1.],\n",
              "       [0., 0., 0., 0., 1.],\n",
              "       [0., 0., 0., 0., 1.],\n",
              "       [0., 0., 0., 0., 1.]])"
            ]
          },
          "metadata": {},
          "execution_count": 21
        }
      ],
      "source": [
        "train_target_onehot[:10]"
      ]
    },
    {
      "cell_type": "code",
      "execution_count": 22,
      "metadata": {
        "id": "1b2LygP_fWmL"
      },
      "outputs": [],
      "source": [
        "from sklearn.preprocessing import LabelEncoder\n",
        "\n",
        "label_encoder  = LabelEncoder()\n",
        "\n",
        "train_labels_enc = label_encoder.fit_transform(train_df['target'].to_numpy())\n",
        "val_labels_enc = label_encoder.transform(val_df['target'].to_numpy())\n",
        "test_labels_enc = label_encoder.transform(test_df['target'].to_numpy()) "
      ]
    },
    {
      "cell_type": "code",
      "execution_count": 23,
      "metadata": {
        "colab": {
          "base_uri": "https://localhost:8080/"
        },
        "id": "48jjZwxPgpZN",
        "outputId": "0460c16d-6c8a-40db-deeb-c4e6a79995f7"
      },
      "outputs": [
        {
          "output_type": "execute_result",
          "data": {
            "text/plain": [
              "array([3, 2, 2, ..., 4, 1, 1])"
            ]
          },
          "metadata": {},
          "execution_count": 23
        }
      ],
      "source": [
        "train_labels_enc"
      ]
    },
    {
      "cell_type": "code",
      "execution_count": 24,
      "metadata": {
        "id": "mi9jh6z0gyLU"
      },
      "outputs": [],
      "source": [
        "num_classes = len(label_encoder.classes_)\n",
        "class_names = label_encoder.classes_ "
      ]
    },
    {
      "cell_type": "markdown",
      "metadata": {
        "id": "9I5gbnJvhnhv"
      },
      "source": [
        "## Model_0(Naive_Bayes_classifier)\n",
        "\n",
        "well it is our baseline model"
      ]
    },
    {
      "cell_type": "code",
      "execution_count": 25,
      "metadata": {
        "id": "pev8J83ahBzU"
      },
      "outputs": [],
      "source": [
        "from sklearn.feature_extraction.text import TfidfVectorizer\n",
        "\n",
        "vectorizer = TfidfVectorizer()\n",
        "\n",
        "train_sent_idf = vectorizer.fit_transform(train_sentences)\n",
        "val_sent_idf  = vectorizer.transform(val_sentences)\n",
        "test_sent_idf = vectorizer.transform(test_sentences) "
      ]
    },
    {
      "cell_type": "code",
      "execution_count": 26,
      "metadata": {
        "colab": {
          "base_uri": "https://localhost:8080/",
          "height": 75
        },
        "id": "Jf2S5_SuijAq",
        "outputId": "6b254bb4-43c8-486c-c829-da247a879dfa"
      },
      "outputs": [
        {
          "output_type": "execute_result",
          "data": {
            "text/plain": [
              "MultinomialNB(alpha=0.75)"
            ],
            "text/html": [
              "<style>#sk-container-id-1 {color: black;background-color: white;}#sk-container-id-1 pre{padding: 0;}#sk-container-id-1 div.sk-toggleable {background-color: white;}#sk-container-id-1 label.sk-toggleable__label {cursor: pointer;display: block;width: 100%;margin-bottom: 0;padding: 0.3em;box-sizing: border-box;text-align: center;}#sk-container-id-1 label.sk-toggleable__label-arrow:before {content: \"▸\";float: left;margin-right: 0.25em;color: #696969;}#sk-container-id-1 label.sk-toggleable__label-arrow:hover:before {color: black;}#sk-container-id-1 div.sk-estimator:hover label.sk-toggleable__label-arrow:before {color: black;}#sk-container-id-1 div.sk-toggleable__content {max-height: 0;max-width: 0;overflow: hidden;text-align: left;background-color: #f0f8ff;}#sk-container-id-1 div.sk-toggleable__content pre {margin: 0.2em;color: black;border-radius: 0.25em;background-color: #f0f8ff;}#sk-container-id-1 input.sk-toggleable__control:checked~div.sk-toggleable__content {max-height: 200px;max-width: 100%;overflow: auto;}#sk-container-id-1 input.sk-toggleable__control:checked~label.sk-toggleable__label-arrow:before {content: \"▾\";}#sk-container-id-1 div.sk-estimator input.sk-toggleable__control:checked~label.sk-toggleable__label {background-color: #d4ebff;}#sk-container-id-1 div.sk-label input.sk-toggleable__control:checked~label.sk-toggleable__label {background-color: #d4ebff;}#sk-container-id-1 input.sk-hidden--visually {border: 0;clip: rect(1px 1px 1px 1px);clip: rect(1px, 1px, 1px, 1px);height: 1px;margin: -1px;overflow: hidden;padding: 0;position: absolute;width: 1px;}#sk-container-id-1 div.sk-estimator {font-family: monospace;background-color: #f0f8ff;border: 1px dotted black;border-radius: 0.25em;box-sizing: border-box;margin-bottom: 0.5em;}#sk-container-id-1 div.sk-estimator:hover {background-color: #d4ebff;}#sk-container-id-1 div.sk-parallel-item::after {content: \"\";width: 100%;border-bottom: 1px solid gray;flex-grow: 1;}#sk-container-id-1 div.sk-label:hover label.sk-toggleable__label {background-color: #d4ebff;}#sk-container-id-1 div.sk-serial::before {content: \"\";position: absolute;border-left: 1px solid gray;box-sizing: border-box;top: 0;bottom: 0;left: 50%;z-index: 0;}#sk-container-id-1 div.sk-serial {display: flex;flex-direction: column;align-items: center;background-color: white;padding-right: 0.2em;padding-left: 0.2em;position: relative;}#sk-container-id-1 div.sk-item {position: relative;z-index: 1;}#sk-container-id-1 div.sk-parallel {display: flex;align-items: stretch;justify-content: center;background-color: white;position: relative;}#sk-container-id-1 div.sk-item::before, #sk-container-id-1 div.sk-parallel-item::before {content: \"\";position: absolute;border-left: 1px solid gray;box-sizing: border-box;top: 0;bottom: 0;left: 50%;z-index: -1;}#sk-container-id-1 div.sk-parallel-item {display: flex;flex-direction: column;z-index: 1;position: relative;background-color: white;}#sk-container-id-1 div.sk-parallel-item:first-child::after {align-self: flex-end;width: 50%;}#sk-container-id-1 div.sk-parallel-item:last-child::after {align-self: flex-start;width: 50%;}#sk-container-id-1 div.sk-parallel-item:only-child::after {width: 0;}#sk-container-id-1 div.sk-dashed-wrapped {border: 1px dashed gray;margin: 0 0.4em 0.5em 0.4em;box-sizing: border-box;padding-bottom: 0.4em;background-color: white;}#sk-container-id-1 div.sk-label label {font-family: monospace;font-weight: bold;display: inline-block;line-height: 1.2em;}#sk-container-id-1 div.sk-label-container {text-align: center;}#sk-container-id-1 div.sk-container {/* jupyter's `normalize.less` sets `[hidden] { display: none; }` but bootstrap.min.css set `[hidden] { display: none !important; }` so we also need the `!important` here to be able to override the default hidden behavior on the sphinx rendered scikit-learn.org. See: https://github.com/scikit-learn/scikit-learn/issues/21755 */display: inline-block !important;position: relative;}#sk-container-id-1 div.sk-text-repr-fallback {display: none;}</style><div id=\"sk-container-id-1\" class=\"sk-top-container\"><div class=\"sk-text-repr-fallback\"><pre>MultinomialNB(alpha=0.75)</pre><b>In a Jupyter environment, please rerun this cell to show the HTML representation or trust the notebook. <br />On GitHub, the HTML representation is unable to render, please try loading this page with nbviewer.org.</b></div><div class=\"sk-container\" hidden><div class=\"sk-item\"><div class=\"sk-estimator sk-toggleable\"><input class=\"sk-toggleable__control sk-hidden--visually\" id=\"sk-estimator-id-1\" type=\"checkbox\" checked><label for=\"sk-estimator-id-1\" class=\"sk-toggleable__label sk-toggleable__label-arrow\">MultinomialNB</label><div class=\"sk-toggleable__content\"><pre>MultinomialNB(alpha=0.75)</pre></div></div></div></div></div>"
            ]
          },
          "metadata": {},
          "execution_count": 26
        }
      ],
      "source": [
        "from sklearn.naive_bayes import MultinomialNB\n",
        "\n",
        "model_0 = MultinomialNB(alpha=0.75)\n",
        "\n",
        "model_0.fit(train_sent_idf,train_labels_enc)"
      ]
    },
    {
      "cell_type": "code",
      "execution_count": 27,
      "metadata": {
        "colab": {
          "base_uri": "https://localhost:8080/"
        },
        "id": "oMWCvulTjBrz",
        "outputId": "04b7eec8-5a19-4645-c275-35775e9610c5"
      },
      "outputs": [
        {
          "output_type": "execute_result",
          "data": {
            "text/plain": [
              "0.7287501654971534"
            ]
          },
          "metadata": {},
          "execution_count": 27
        }
      ],
      "source": [
        "model_0.score(val_sent_idf,val_labels_enc)"
      ]
    },
    {
      "cell_type": "code",
      "execution_count": 28,
      "metadata": {
        "colab": {
          "base_uri": "https://localhost:8080/"
        },
        "id": "jxbBpgqGjQvi",
        "outputId": "e79d7686-b08a-4991-825b-9d8cde628c77"
      },
      "outputs": [
        {
          "output_type": "execute_result",
          "data": {
            "text/plain": [
              "0.7240418118466899"
            ]
          },
          "metadata": {},
          "execution_count": 28
        }
      ],
      "source": [
        "model_0.score(test_sent_idf,test_labels_enc)"
      ]
    },
    {
      "cell_type": "code",
      "execution_count": 29,
      "metadata": {
        "id": "uHVEE2SQjg6D"
      },
      "outputs": [],
      "source": [
        "from sklearn.metrics import precision_recall_fscore_support,accuracy_score\n",
        "\n",
        "def calculate_results(y_true,y_pred):\n",
        "  acc = accuracy_score(y_true,y_pred)\n",
        "  pres,rec,f1,_= precision_recall_fscore_support(y_true,y_pred,average=\"weighted\") \n",
        "  results = {\n",
        "      'Accuracy': acc,\n",
        "      'Precision': pres,\n",
        "      'F1_score':f1,\n",
        "      'Recall':rec\n",
        "  }\n",
        "  return results"
      ]
    },
    {
      "cell_type": "code",
      "execution_count": 30,
      "metadata": {
        "id": "WzHLcPRngH_E"
      },
      "outputs": [],
      "source": [
        "pred_0_probs = model_0.predict_proba(val_sent_idf)"
      ]
    },
    {
      "cell_type": "code",
      "execution_count": 31,
      "metadata": {
        "colab": {
          "base_uri": "https://localhost:8080/"
        },
        "id": "YmN7fH5RsQQi",
        "outputId": "b06d2339-e13d-4f4d-8da5-3ef0fe225654"
      },
      "outputs": [
        {
          "output_type": "execute_result",
          "data": {
            "text/plain": [
              "array([4, 1, 3, 2, 2, 2, 2, 2, 4, 4])"
            ]
          },
          "metadata": {},
          "execution_count": 31
        }
      ],
      "source": [
        "val_pred = model_0.predict(val_sent_idf)\n",
        "val_pred[:10]"
      ]
    },
    {
      "cell_type": "code",
      "execution_count": 32,
      "metadata": {
        "colab": {
          "base_uri": "https://localhost:8080/"
        },
        "id": "rdpLvMDksdeb",
        "outputId": "db0b0e3e-3aec-4a67-e8d5-388b323de785"
      },
      "outputs": [
        {
          "output_type": "execute_result",
          "data": {
            "text/plain": [
              "{'Accuracy': 0.7287501654971534,\n",
              " 'Precision': 0.7233706887108281,\n",
              " 'F1_score': 0.7100887574597206,\n",
              " 'Recall': 0.7287501654971534}"
            ]
          },
          "metadata": {},
          "execution_count": 32
        }
      ],
      "source": [
        "model_0_results = calculate_results(val_labels_enc,val_pred)\n",
        "model_0_results"
      ]
    },
    {
      "cell_type": "markdown",
      "metadata": {
        "id": "blg9TX31tTxU"
      },
      "source": [
        "## Model_1 (CONV1D)"
      ]
    },
    {
      "cell_type": "code",
      "execution_count": 33,
      "metadata": {
        "id": "stIx3EMisuA6"
      },
      "outputs": [],
      "source": [
        "from tensorflow.keras.layers import TextVectorization\n",
        "max_features = 68000  # Maximum vocab size.\n",
        "max_len = 55 \n",
        "\n",
        "text_vect = TextVectorization(\n",
        "    max_tokens=max_features,\n",
        "    pad_to_max_tokens=True,\n",
        "    output_sequence_length = max_len,\n",
        ")"
      ]
    },
    {
      "cell_type": "code",
      "execution_count": 34,
      "metadata": {
        "id": "dIvJUzb0txZV"
      },
      "outputs": [],
      "source": [
        "text_vect.adapt(train_sentences)"
      ]
    },
    {
      "cell_type": "markdown",
      "metadata": {
        "id": "4B9mVj9Iw-1b"
      },
      "source": [
        "lets check with random sentences"
      ]
    },
    {
      "cell_type": "code",
      "execution_count": 35,
      "metadata": {
        "colab": {
          "base_uri": "https://localhost:8080/"
        },
        "id": "5yJJgObpwnXE",
        "outputId": "dcfaa28b-00a0-484d-c310-b573beddb507"
      },
      "outputs": [
        {
          "output_type": "stream",
          "name": "stdout",
          "text": [
            "Text : Australian New Zealand Clinical Trials Registry : ACTRN@ . \n",
            "\n",
            " text_lenght:9\n",
            "\n",
            " vector : [[1561  319 1691   47  233 1150 1776    0    0    0    0    0    0    0\n",
            "     0    0    0    0    0    0    0    0    0    0    0    0    0    0\n",
            "     0    0    0    0    0    0    0    0    0    0    0    0    0    0\n",
            "     0    0    0    0    0    0    0    0    0    0    0    0    0]]\n",
            "\n"
          ]
        }
      ],
      "source": [
        "import random\n",
        "\n",
        "random_sent = random.choice(train_sentences)\n",
        "\n",
        "print(f'''Text : {random_sent} \n",
        "\\n text_lenght:{len(random_sent.split())}\n",
        "\\n vector : {text_vect([random_sent])}\n",
        "''')"
      ]
    },
    {
      "cell_type": "code",
      "execution_count": 36,
      "metadata": {
        "colab": {
          "base_uri": "https://localhost:8080/"
        },
        "id": "yUXkT90qx5dL",
        "outputId": "d7b585ca-7f4c-40af-9312-4f3167347303"
      },
      "outputs": [
        {
          "output_type": "stream",
          "name": "stdout",
          "text": [
            "The most common words : ['', '[UNK]', 'the', 'and', 'of', 'in', 'to', 'with', 'a', 'were']\n",
            "\n",
            "The least common words : ['aarm', 'aaqol', 'aaq', 'aanhui', 'aana', 'aainduced', 'aaigroup', 'aachener', 'aachen', 'aaacp']\n"
          ]
        }
      ],
      "source": [
        "vocab_words  = text_vect.get_vocabulary()\n",
        "\n",
        "print(f'The most common words : {vocab_words[:10]}\\n')\n",
        "print(f\"The least common words : {vocab_words[-10:]}\")"
      ]
    },
    {
      "cell_type": "code",
      "execution_count": 37,
      "metadata": {
        "colab": {
          "base_uri": "https://localhost:8080/"
        },
        "id": "fuBgncwFsK0i",
        "outputId": "38acdc91-fb9f-4218-ca88-1f843bcb8329"
      },
      "outputs": [
        {
          "output_type": "execute_result",
          "data": {
            "text/plain": [
              "{'name': 'text_vectorization',\n",
              " 'trainable': True,\n",
              " 'dtype': 'string',\n",
              " 'batch_input_shape': (None,),\n",
              " 'max_tokens': 68000,\n",
              " 'standardize': 'lower_and_strip_punctuation',\n",
              " 'split': 'whitespace',\n",
              " 'ngrams': None,\n",
              " 'output_mode': 'int',\n",
              " 'output_sequence_length': 55,\n",
              " 'pad_to_max_tokens': True,\n",
              " 'sparse': False,\n",
              " 'ragged': False,\n",
              " 'vocabulary': None,\n",
              " 'idf_weights': None,\n",
              " 'encoding': 'utf-8',\n",
              " 'vocabulary_size': 64841}"
            ]
          },
          "metadata": {},
          "execution_count": 37
        }
      ],
      "source": [
        "text_vect.get_config()"
      ]
    },
    {
      "cell_type": "code",
      "execution_count": 38,
      "metadata": {
        "id": "XBYb8AGoyugs"
      },
      "outputs": [],
      "source": [
        "from tensorflow.keras.layers import Embedding\n",
        "\n",
        "embed = Embedding(input_dim=len(vocab_words),\n",
        "                  output_dim=128,\n",
        "                  mask_zero=False)"
      ]
    },
    {
      "cell_type": "code",
      "execution_count": 39,
      "metadata": {
        "colab": {
          "base_uri": "https://localhost:8080/"
        },
        "id": "Pt-wdNJ5q-y6",
        "outputId": "1a69286b-05a8-40a1-9c68-2cf248f2c232"
      },
      "outputs": [
        {
          "output_type": "stream",
          "name": "stdout",
          "text": [
            "Text : Using a two-arm randomized controlled trial , this @-month study builds upon the community-based progressive resistance training ( PRT ) programme Lift for Life to evaluate whether ingestion of a whey-protein drink combined with vitamin D supplementation can enhance the effects of PRT on glycaemic control , body composition and cardiometabolic health in older adults with type @ diabetes . \n",
            "\n",
            " text_lenght:60\n",
            "\n",
            " vector : [[   59     8  3796    29   106    32    23   178    17 15154  1864     2\n",
            "   2086  1754   504   155  6884   755  9660    11   195     6   164   180\n",
            "   2548     4     8 24071  2244   286     7   412   187   464   171  1335\n",
            "      2    71     4  6884    18  2633    35   239  1311     3  3364    97\n",
            "      5   350   266     7   248   223     0]]\n",
            "\n",
            " embedding: [[[-0.00900127  0.03411437 -0.02146124 ...  0.01646331 -0.03127535\n",
            "    0.00894219]\n",
            "  [-0.02979807  0.04256704 -0.02268467 ... -0.02188739  0.03957218\n",
            "    0.0168083 ]\n",
            "  [-0.04966936 -0.00166859  0.00548428 ... -0.00754669  0.04189874\n",
            "   -0.04679278]\n",
            "  ...\n",
            "  [ 0.03137991  0.00366445  0.01840517 ...  0.03895289 -0.02768371\n",
            "   -0.04609954]\n",
            "  [-0.03007085  0.0387292  -0.03215452 ...  0.00211738  0.02154757\n",
            "    0.0071689 ]\n",
            "  [ 0.02505678 -0.00382514  0.01619608 ... -0.01914674 -0.02476146\n",
            "   -0.01130482]]]\n",
            "\n",
            " embedding_shape: (1, 55, 128)\n",
            "\n"
          ]
        }
      ],
      "source": [
        "random_sent = random.choice(train_sentences)\n",
        "\n",
        "print(f'''Text : {random_sent} \n",
        "\\n text_lenght:{len(random_sent.split())}\n",
        "\\n vector : {text_vect([random_sent])}\n",
        "\\n embedding: {embed(text_vect([random_sent]))}\n",
        "\\n embedding_shape: {embed(text_vect([random_sent])).shape}\n",
        "''')"
      ]
    },
    {
      "cell_type": "markdown",
      "metadata": {
        "id": "b5Cp7R02xXaO"
      },
      "source": [
        "since we are using the tensorflow as our backend so we have to use all of its potential"
      ]
    },
    {
      "cell_type": "code",
      "execution_count": 40,
      "metadata": {
        "colab": {
          "base_uri": "https://localhost:8080/"
        },
        "id": "4v28qYPpu9FN",
        "outputId": "af344e4d-027a-4751-d8c1-1136b2bdbe96"
      },
      "outputs": [
        {
          "output_type": "execute_result",
          "data": {
            "text/plain": [
              "<_TensorSliceDataset element_spec=(TensorSpec(shape=(), dtype=tf.string, name=None), TensorSpec(shape=(5,), dtype=tf.float64, name=None))>"
            ]
          },
          "metadata": {},
          "execution_count": 40
        }
      ],
      "source": [
        "train_dataset = tf.data.Dataset.from_tensor_slices((train_sentences,train_target_onehot))\n",
        "val_dataset = tf.data.Dataset.from_tensor_slices((val_sentences,val_target_onehot))\n",
        "test_dataset = tf.data.Dataset.from_tensor_slices((test_sentences,test_target_onehot))\n",
        "\n",
        "train_dataset"
      ]
    },
    {
      "cell_type": "code",
      "execution_count": 41,
      "metadata": {
        "id": "dnhgqD6Tx938"
      },
      "outputs": [],
      "source": [
        "train_dataset = train_dataset.batch(32).prefetch(tf.data.AUTOTUNE)\n",
        "val_dataset = val_dataset.batch(32).prefetch(tf.data.AUTOTUNE)\n",
        "test_dataset = test_dataset.batch(32).prefetch(tf.data.AUTOTUNE)"
      ]
    },
    {
      "cell_type": "code",
      "execution_count": 83,
      "metadata": {
        "id": "9vjfq_U-zLlH"
      },
      "outputs": [],
      "source": [
        "#model_1\n",
        "\n",
        "inputs = layers.Input(shape=(1,), dtype=tf.string)\n",
        "text_vectors = text_vect(inputs) # vectorize text inputs\n",
        "token_embeddings = embed(text_vectors) # create embedding\n",
        "x = layers.Conv1D(128, kernel_size=5, activation=\"relu\")(token_embeddings)\n",
        "# x = layers.Conv1D(64, kernel_size=5, padding=\"same\", activation=\"relu\")(x)\n",
        "x = layers.GlobalAveragePooling1D()(x) # condense the output of our feature vector\n",
        "# x = layers.Dropout(0.3)(x)\n",
        "outputs = layers.Dense(num_classes, activation=\"softmax\")(x)\n",
        "model_1 = tf.keras.Model(inputs, outputs)\n",
        "\n",
        "\n",
        "model_1.compile(loss = 'categorical_crossentropy',\n",
        "                optimizer = tf.keras.optimizers.Adam(),\n",
        "                metrics=['accuracy'])"
      ]
    },
    {
      "cell_type": "code",
      "execution_count": 84,
      "metadata": {
        "colab": {
          "base_uri": "https://localhost:8080/"
        },
        "id": "ooB7V28w7gbl",
        "outputId": "8d8902bd-0992-4720-aeee-b95230c84c89"
      },
      "outputs": [
        {
          "output_type": "stream",
          "name": "stdout",
          "text": [
            "Model: \"model_3\"\n",
            "_________________________________________________________________\n",
            " Layer (type)                Output Shape              Param #   \n",
            "=================================================================\n",
            " input_5 (InputLayer)        [(None, 1)]               0         \n",
            "                                                                 \n",
            " text_vectorization (TextVec  (None, 55)               0         \n",
            " torization)                                                     \n",
            "                                                                 \n",
            " embedding (Embedding)       (None, 55, 128)           8299648   \n",
            "                                                                 \n",
            " conv1d_1 (Conv1D)           (None, 51, 128)           82048     \n",
            "                                                                 \n",
            " global_average_pooling1d (G  (None, 128)              0         \n",
            " lobalAveragePooling1D)                                          \n",
            "                                                                 \n",
            " dense_4 (Dense)             (None, 5)                 645       \n",
            "                                                                 \n",
            "=================================================================\n",
            "Total params: 8,382,341\n",
            "Trainable params: 8,382,341\n",
            "Non-trainable params: 0\n",
            "_________________________________________________________________\n"
          ]
        }
      ],
      "source": [
        "model_1.summary()"
      ]
    },
    {
      "cell_type": "code",
      "execution_count": 85,
      "metadata": {
        "id": "nR4MDdUn2lkC"
      },
      "outputs": [],
      "source": [
        "import datetime\n",
        "\n",
        "def create_tensorboard_callback(dir_name,experiment_name):\n",
        "  \"\"\"\n",
        "  Creates a TensorBoard callback instand to store log files.\n",
        "  Stores log files with the filepath:\n",
        "    \"dir_name/experiment_name/current_datetime/\"\n",
        "  Args:\n",
        "    dir_name: target directory to store TensorBoard log files\n",
        "    experiment_name: name of experiment directory (e.g. efficientnet_model_1)\n",
        "  \"\"\"\n",
        "  log_dir = dir_name + \"/\" + experiment_name + \"/\" + datetime.datetime.now().strftime(\"%Y%m%d-%H%M%S\")\n",
        "  tensorboard_callback = tf.keras.callbacks.TensorBoard(\n",
        "      log_dir=log_dir\n",
        "  )\n",
        "  print(f\"Saving TensorBoard log files to: {log_dir}\")\n",
        "  return tensorboard_callback"
      ]
    },
    {
      "cell_type": "code",
      "execution_count": 86,
      "metadata": {
        "id": "cJ5jTo__7zg_"
      },
      "outputs": [],
      "source": [
        "cpkt_path = '/check_point'\n",
        "\n",
        "model_cpkt = tf.keras.callbacks.ModelCheckpoint(cpkt_path,save_best_only=True,save_weights_only=True) "
      ]
    },
    {
      "cell_type": "code",
      "execution_count": 87,
      "metadata": {
        "colab": {
          "base_uri": "https://localhost:8080/"
        },
        "id": "Vg8D0Cv-1W8O",
        "outputId": "954370ad-0b0b-4f19-c0ce-b1730bae0838"
      },
      "outputs": [
        {
          "output_type": "stream",
          "name": "stdout",
          "text": [
            "Saving TensorBoard log files to: pubmed_models/model_0(conv1D)/20230523-085035\n",
            "Epoch 1/3\n",
            "5627/5627 [==============================] - 97s 17ms/step - loss: 0.6152 - accuracy: 0.7749 - val_loss: 0.5328 - val_accuracy: 0.8039\n",
            "Epoch 2/3\n",
            "5627/5627 [==============================] - 35s 6ms/step - loss: 0.4408 - accuracy: 0.8449 - val_loss: 0.5317 - val_accuracy: 0.8039\n",
            "Epoch 3/3\n",
            "5627/5627 [==============================] - 37s 7ms/step - loss: 0.3480 - accuracy: 0.8809 - val_loss: 0.5785 - val_accuracy: 0.7999\n"
          ]
        }
      ],
      "source": [
        "dir_name = 'pubmed_models'\n",
        "\n",
        "history_1 = model_1.fit(train_dataset,epochs=3,\n",
        "                        steps_per_epoch = len(train_dataset),\n",
        "                        validation_data = val_dataset,\n",
        "                        validation_steps = int(0.1*len(val_dataset)),\n",
        "                        callbacks=[create_tensorboard_callback(dir_name,'model_0(conv1D)'),model_cpkt])"
      ]
    },
    {
      "cell_type": "code",
      "execution_count": 88,
      "metadata": {
        "colab": {
          "base_uri": "https://localhost:8080/"
        },
        "id": "VDFbE-xEh9rm",
        "outputId": "47cc83b7-34f4-49a3-8f2f-fa458f7e6a78"
      },
      "outputs": [
        {
          "output_type": "execute_result",
          "data": {
            "text/plain": [
              "<tensorflow.python.checkpoint.checkpoint.CheckpointLoadStatus at 0x7f16ddc23dc0>"
            ]
          },
          "metadata": {},
          "execution_count": 88
        }
      ],
      "source": [
        "model_1.load_weights(cpkt_path)"
      ]
    },
    {
      "cell_type": "code",
      "execution_count": 89,
      "metadata": {
        "colab": {
          "base_uri": "https://localhost:8080/"
        },
        "id": "nQ3AcgFU3WoD",
        "outputId": "b77fcad2-6a24-4602-fdfe-c6a4a7bcdb14"
      },
      "outputs": [
        {
          "output_type": "stream",
          "name": "stdout",
          "text": [
            "945/945 [==============================] - 3s 3ms/step - loss: 0.5316 - accuracy: 0.8122\n"
          ]
        },
        {
          "output_type": "execute_result",
          "data": {
            "text/plain": [
              "[0.5316047072410583, 0.8121607303619385]"
            ]
          },
          "metadata": {},
          "execution_count": 89
        }
      ],
      "source": [
        "model_1.evaluate(val_dataset)"
      ]
    },
    {
      "cell_type": "code",
      "execution_count": 90,
      "metadata": {
        "colab": {
          "base_uri": "https://localhost:8080/"
        },
        "id": "fLrWtino6XcI",
        "outputId": "3e7a8228-8b56-4098-d815-c0d66c3ad4bc"
      },
      "outputs": [
        {
          "output_type": "stream",
          "name": "stdout",
          "text": [
            "945/945 [==============================] - 2s 2ms/step\n"
          ]
        }
      ],
      "source": [
        "pred_1_probs = model_1.predict(val_dataset)\n",
        "pred_1 = pred_1_probs.argmax(axis=1)"
      ]
    },
    {
      "cell_type": "code",
      "execution_count": 91,
      "metadata": {
        "colab": {
          "base_uri": "https://localhost:8080/"
        },
        "id": "eUqXJ3sB350_",
        "outputId": "1f320060-f0c1-4150-f263-0f300b13d2e1"
      },
      "outputs": [
        {
          "output_type": "execute_result",
          "data": {
            "text/plain": [
              "{'Accuracy': 0.8121607308354296,\n",
              " 'Precision': 0.8218842792726962,\n",
              " 'F1_score': 0.8150497323834135,\n",
              " 'Recall': 0.8121607308354296}"
            ]
          },
          "metadata": {},
          "execution_count": 91
        }
      ],
      "source": [
        "model_1_results = calculate_results(pred_1,val_labels_enc)\n",
        "model_1_results"
      ]
    },
    {
      "cell_type": "markdown",
      "metadata": {
        "id": "rj7aLVi1gq-i"
      },
      "source": [
        "## Model_2 (pretrained model)"
      ]
    },
    {
      "cell_type": "code",
      "execution_count": 66,
      "metadata": {
        "id": "Z3eq73eVftGc"
      },
      "outputs": [],
      "source": [
        "import tensorflow_hub as hub\n",
        "\n",
        "use_encoder = hub.KerasLayer('https://tfhub.dev/google/universal-sentence-encoder/4',\n",
        "                             trainable=False,\n",
        "                             input_shape=[]\n",
        "                             ,dtype=tf.string)"
      ]
    },
    {
      "cell_type": "code",
      "execution_count": 67,
      "metadata": {
        "colab": {
          "base_uri": "https://localhost:8080/"
        },
        "id": "iljDys5Q38ex",
        "outputId": "75a6ad54-271e-4eed-ee66-928dc3ff89ba"
      },
      "outputs": [
        {
          "output_type": "stream",
          "name": "stdout",
          "text": [
            "Text : Before widespread implementation , however , the use of these adjuncts requires proper scrutiny of their effects on psychological practice . \n",
            "\n",
            " text_lenght:21\n",
            "\n",
            " embedding: [[ 0.03092964  0.05102318  0.05192336 -0.06629844  0.02967609 -0.038968\n",
            "   0.06649394  0.04895967 -0.07745887  0.0089832  -0.01754853  0.03972314\n",
            "   0.03235834  0.05213372  0.00431085 -0.00563433 -0.04696249 -0.03110986\n",
            "  -0.08878756 -0.0873074  -0.01181083  0.04210256 -0.07362629 -0.02610035\n",
            "  -0.00266171  0.03711939  0.04815395 -0.06402978 -0.00080401 -0.00872062\n",
            "  -0.0144858  -0.05380649 -0.00983894  0.01932731 -0.03027769  0.03199298\n",
            "  -0.00630439 -0.06823976 -0.03604343 -0.03591812 -0.05412351  0.02559732\n",
            "   0.02326147 -0.03254508  0.0346324   0.04320396  0.04651416  0.06605162\n",
            "  -0.04921876  0.01783539 -0.02969939  0.01071341  0.03904055 -0.01926976\n",
            "   0.04001122 -0.0437864   0.04932922  0.02183786  0.06510969  0.03063783\n",
            "   0.00347195  0.00829979  0.03263506  0.02059123  0.00225843 -0.03114697\n",
            "   0.00872841  0.04548271  0.04561279  0.04934214 -0.04876893 -0.06226621\n",
            "   0.02075669 -0.01040183 -0.02470144 -0.03438665 -0.06657764 -0.03047379\n",
            "   0.04399722  0.0537159  -0.00322897 -0.04549706 -0.03962681  0.0092231\n",
            "   0.0255186  -0.02021877  0.04357919  0.06540263 -0.03411247 -0.0130886\n",
            "  -0.01468675  0.04871889 -0.05529881 -0.01394025 -0.02161313  0.05176574\n",
            "  -0.04592508  0.07596882 -0.02952189 -0.07940451  0.00105728 -0.00211493\n",
            "   0.04855287 -0.00112658 -0.04384875 -0.08927964  0.00558919 -0.00576149\n",
            "  -0.03089488  0.01326678  0.03384162  0.02059667  0.08355899 -0.09124611\n",
            "   0.05447946  0.08890697 -0.00848702  0.0802397   0.0521007   0.03501032\n",
            "   0.07589848 -0.04776555  0.00655995 -0.02937479 -0.02358657  0.04178244\n",
            "  -0.06195186  0.02345386 -0.00817802  0.05801399  0.06117818  0.05635025\n",
            "   0.07016034 -0.07437264 -0.04569827  0.05144457  0.00109298 -0.07253875\n",
            "  -0.05882728 -0.06947913  0.01815716 -0.05667961  0.02699224  0.03641472\n",
            "  -0.06194224  0.0126343   0.06895702  0.04152015  0.06041283 -0.03996233\n",
            "   0.04747357  0.02624547 -0.0541724   0.06248306 -0.06110077 -0.07389484\n",
            "   0.01995705 -0.00921943 -0.00684808 -0.05387148  0.05707828  0.06725902\n",
            "   0.02784562 -0.03892209 -0.00030005  0.0830989   0.04511844  0.01138695\n",
            "  -0.05172602  0.03310046  0.03129548 -0.05993316  0.04940158 -0.00134583\n",
            "  -0.05208363  0.00256301 -0.05843317  0.06163561  0.03714575  0.05458061\n",
            "   0.05629865 -0.03205391 -0.03139706  0.02336317 -0.05377165 -0.02041172\n",
            "  -0.00739051  0.05397478 -0.0511975   0.05948241 -0.05905828  0.0534208\n",
            "  -0.04118716 -0.0033376   0.01243261  0.07400309  0.0654677   0.00369262\n",
            "  -0.05875011 -0.07797026  0.02746905  0.04334258 -0.00760106 -0.03481317\n",
            "   0.00511202 -0.06147269 -0.07353885 -0.04294628 -0.06056078 -0.02215101\n",
            "  -0.06331069 -0.04304044  0.07280067  0.03145101  0.06411971 -0.00413347\n",
            "  -0.04113738 -0.03230987  0.02072163  0.00304986 -0.05411327  0.01241991\n",
            "  -0.01916188 -0.02605202 -0.02358609  0.057278   -0.02142738  0.0698218\n",
            "  -0.00160425  0.02497863  0.02284507 -0.01154871  0.0082429   0.03542516\n",
            "  -0.05054493 -0.06287336  0.03020154 -0.02878927 -0.0397742  -0.03477174\n",
            "  -0.01813742 -0.02322046  0.02372376 -0.02955697 -0.07618553 -0.04638615\n",
            "  -0.05178627 -0.09150876 -0.02393513 -0.05690426  0.02301079 -0.05838549\n",
            "  -0.04126288 -0.00766435  0.01372297  0.06678659 -0.08095136  0.04241541\n",
            "  -0.04991486 -0.01847596 -0.04605591  0.03749162 -0.04570498 -0.06217285\n",
            "  -0.00799279 -0.02649141  0.00986975 -0.02479577 -0.01662756 -0.04760807\n",
            "   0.05351214 -0.04175997 -0.03485721  0.06276426 -0.00828844 -0.03694719\n",
            "   0.08012737 -0.0379538   0.02454284 -0.02449486 -0.03180466 -0.05762352\n",
            "  -0.01583352 -0.05191384  0.03996458 -0.02691934  0.06999537 -0.02774203\n",
            "  -0.00798464 -0.00193705 -0.01691999  0.05619153  0.02716151 -0.04237336\n",
            "   0.08135836 -0.01263933  0.0278239  -0.03062568  0.04685125  0.01549525\n",
            "  -0.01139158 -0.00603456 -0.04090713 -0.03149308 -0.05030792  0.06623792\n",
            "   0.04133495 -0.00642684 -0.03652706 -0.03021503 -0.01702546  0.06563817\n",
            "   0.00042339  0.04396169 -0.076247    0.02041029  0.01372958 -0.010181\n",
            "   0.07087371 -0.02256153 -0.07207207 -0.03021177  0.02327075  0.05341767\n",
            "  -0.06038347 -0.0124442   0.05279431 -0.02549107  0.06298824 -0.06220411\n",
            "  -0.03858621  0.03314026  0.04602976  0.01900296  0.02692111 -0.00667858\n",
            "   0.04158161 -0.05216176  0.0232149  -0.0177665  -0.02087883  0.00425077\n",
            "  -0.00827395  0.00826117 -0.03021189  0.02125548  0.01918792 -0.02370293\n",
            "  -0.03644238  0.01131549 -0.01573125 -0.06081048  0.02130807 -0.04923542\n",
            "   0.06474411 -0.07297164 -0.01384061 -0.0605976  -0.01241038 -0.04427897\n",
            "  -0.01006206  0.05278618 -0.02350236  0.01614789  0.01536959 -0.03584957\n",
            "  -0.00433476  0.07398486 -0.03044446 -0.01378164  0.01831476  0.0465018\n",
            "  -0.03897016  0.02856093 -0.05261334 -0.03232278 -0.09123845  0.02507571\n",
            "  -0.01769641 -0.01769785 -0.05562625 -0.04712398  0.05277091 -0.00017466\n",
            "  -0.07919511  0.03335675  0.06349301  0.04254313  0.02618155  0.04351329\n",
            "   0.03987972  0.03754578 -0.02366986 -0.03973447 -0.01735143 -0.02965115\n",
            "   0.08870223  0.00313967 -0.04785512  0.01617949  0.06541611  0.0114376\n",
            "  -0.08360372 -0.07324548 -0.04463895  0.06648491 -0.00524751 -0.00755706\n",
            "  -0.0291892   0.05642906  0.08894157  0.06869264 -0.06478018  0.04752518\n",
            "  -0.07962958 -0.07938584  0.04144375 -0.00090774 -0.0287763  -0.01853369\n",
            "  -0.00876055 -0.08986887  0.02531563 -0.00126412 -0.01315036  0.05897993\n",
            "  -0.03888394 -0.08725196 -0.00523095  0.06691279 -0.01241378  0.00775518\n",
            "   0.01941582  0.08035976 -0.00268466  0.07478819 -0.00319416 -0.0569415\n",
            "   0.06338324  0.04949128  0.0439208   0.06498724  0.07140638 -0.00506998\n",
            "  -0.04522075  0.06028324  0.0781234  -0.0618952   0.02252774 -0.00811246\n",
            "  -0.00351497 -0.02399183 -0.02340637 -0.02978253 -0.07213685  0.05938416\n",
            "   0.01747813  0.00715111  0.0083753  -0.01135198  0.01652189  0.08500624\n",
            "   0.02968341  0.0237468  -0.02094986  0.01155051 -0.06849907 -0.03910102\n",
            "   0.04114039 -0.01822544  0.03864237  0.05580258 -0.03058698 -0.02156229\n",
            "  -0.02069051 -0.02206447 -0.00174366 -0.02391179  0.02332167  0.07839138\n",
            "  -0.005765   -0.02634921  0.02435428 -0.06099446 -0.01776124  0.01651522\n",
            "  -0.08935777  0.05392206 -0.01059337 -0.05221342 -0.06693534  0.01966074\n",
            "  -0.02810163  0.03117172 -0.02306888 -0.01172448  0.07760668  0.00793043\n",
            "  -0.05032915  0.05401423  0.0591995  -0.02456775 -0.07378282 -0.07063599\n",
            "   0.02641685 -0.01967503 -0.02352275 -0.0214342   0.06441912 -0.02193101\n",
            "  -0.02034532  0.00842885]]\n",
            "\n",
            " embedding_shape: (1, 512)\n",
            "\n"
          ]
        }
      ],
      "source": [
        "random_sent = random.choice(train_sentences)\n",
        "\n",
        "print(f'''Text : {random_sent} \n",
        "\\n text_lenght:{len(random_sent.split())}\n",
        "\\n embedding: {use_encoder([random_sent])}\n",
        "\\n embedding_shape: {use_encoder([random_sent]).shape}\n",
        "''')"
      ]
    },
    {
      "cell_type": "code",
      "execution_count": 92,
      "metadata": {
        "id": "W7cFopemkXy-"
      },
      "outputs": [],
      "source": [
        "inputs = layers.Input(shape=[],dtype=tf.string)\n",
        "encoder = use_encoder(inputs)\n",
        "x = layers.Dense(128,activation='relu')(encoder)\n",
        "outputs = layers.Dense(5,activation='softmax')(x)\n",
        "\n",
        "model_2 = tf.keras.Model(inputs,outputs)\n",
        "\n",
        "model_2.compile(loss='categorical_crossentropy',\n",
        "                optimizer=tf.keras.optimizers.Adam(),\n",
        "                metrics=['accuracy'])"
      ]
    },
    {
      "cell_type": "code",
      "execution_count": 93,
      "metadata": {
        "colab": {
          "base_uri": "https://localhost:8080/"
        },
        "id": "Sr1ffk_9lpbS",
        "outputId": "a439e728-13de-4263-cd13-9894dead4ba1"
      },
      "outputs": [
        {
          "output_type": "stream",
          "name": "stdout",
          "text": [
            "Model: \"model_4\"\n",
            "_________________________________________________________________\n",
            " Layer (type)                Output Shape              Param #   \n",
            "=================================================================\n",
            " input_6 (InputLayer)        [(None,)]                 0         \n",
            "                                                                 \n",
            " keras_layer (KerasLayer)    (None, 512)               256797824 \n",
            "                                                                 \n",
            " dense_5 (Dense)             (None, 128)               65664     \n",
            "                                                                 \n",
            " dense_6 (Dense)             (None, 5)                 645       \n",
            "                                                                 \n",
            "=================================================================\n",
            "Total params: 256,864,133\n",
            "Trainable params: 66,309\n",
            "Non-trainable params: 256,797,824\n",
            "_________________________________________________________________\n"
          ]
        }
      ],
      "source": [
        "model_2.summary()"
      ]
    },
    {
      "cell_type": "code",
      "execution_count": 94,
      "metadata": {
        "colab": {
          "base_uri": "https://localhost:8080/"
        },
        "id": "iyGh8Iv4lpJT",
        "outputId": "b3bbddf0-a5f7-4f74-dae3-6813edf66376"
      },
      "outputs": [
        {
          "output_type": "stream",
          "name": "stdout",
          "text": [
            "Saving TensorBoard log files to: pubmed_models/model_1(use)/20230523-085423\n",
            "Epoch 1/3\n",
            "5627/5627 [==============================] - 73s 13ms/step - loss: 0.7317 - accuracy: 0.7201 - val_loss: 0.6551 - val_accuracy: 0.7523\n",
            "Epoch 2/3\n",
            "5627/5627 [==============================] - 70s 12ms/step - loss: 0.6372 - accuracy: 0.7584 - val_loss: 0.6181 - val_accuracy: 0.7663\n",
            "Epoch 3/3\n",
            "5627/5627 [==============================] - 71s 13ms/step - loss: 0.6024 - accuracy: 0.7719 - val_loss: 0.6046 - val_accuracy: 0.7729\n"
          ]
        }
      ],
      "source": [
        "history_2 = model_2.fit(train_dataset,epochs=3,\n",
        "                        steps_per_epoch = len(train_dataset),\n",
        "                        validation_data = val_dataset,\n",
        "                        validation_steps = int(0.1*len(val_dataset)),\n",
        "                        callbacks=[create_tensorboard_callback(dir_name,'model_1(use)'),model_cpkt])"
      ]
    },
    {
      "cell_type": "code",
      "execution_count": 95,
      "metadata": {
        "colab": {
          "base_uri": "https://localhost:8080/"
        },
        "id": "z8pyg2CPn3T8",
        "outputId": "40b9197f-a698-4cf4-899f-8cad01a4a28a"
      },
      "outputs": [
        {
          "output_type": "stream",
          "name": "stdout",
          "text": [
            "945/945 [==============================] - 11s 11ms/step - loss: 0.6089 - accuracy: 0.7675\n"
          ]
        },
        {
          "output_type": "execute_result",
          "data": {
            "text/plain": [
              "[0.6089118719100952, 0.7675427198410034]"
            ]
          },
          "metadata": {},
          "execution_count": 95
        }
      ],
      "source": [
        "model_2.evaluate(val_dataset)"
      ]
    },
    {
      "cell_type": "code",
      "execution_count": 96,
      "metadata": {
        "colab": {
          "base_uri": "https://localhost:8080/"
        },
        "id": "40a4bHYTn-4k",
        "outputId": "9a44ab03-4e35-4346-a0cf-8dbe02f07599"
      },
      "outputs": [
        {
          "output_type": "stream",
          "name": "stdout",
          "text": [
            "945/945 [==============================] - 12s 12ms/step\n"
          ]
        }
      ],
      "source": [
        "pred_2_probs = model_2.predict(val_dataset)\n",
        "pred_2 = pred_2_probs.argmax(axis=1)"
      ]
    },
    {
      "cell_type": "code",
      "execution_count": 97,
      "metadata": {
        "colab": {
          "base_uri": "https://localhost:8080/"
        },
        "id": "00d1wRySoZZW",
        "outputId": "4b4387bd-954d-4c28-f64d-90988f4ee118"
      },
      "outputs": [
        {
          "output_type": "execute_result",
          "data": {
            "text/plain": [
              "{'Accuracy': 0.7675426982655899,\n",
              " 'Precision': 0.7656447147201143,\n",
              " 'F1_score': 0.7630869620768698,\n",
              " 'Recall': 0.7675426982655899}"
            ]
          },
          "metadata": {},
          "execution_count": 97
        }
      ],
      "source": [
        "model_2_results = calculate_results(val_labels_enc,pred_2)\n",
        "model_2_results"
      ]
    },
    {
      "cell_type": "markdown",
      "metadata": {
        "id": "WT-oKd1nO1MO"
      },
      "source": [
        "lets create model_1 with character embbedings "
      ]
    },
    {
      "cell_type": "code",
      "execution_count": 45,
      "metadata": {
        "id": "hwy6MeIKOxAu"
      },
      "outputs": [],
      "source": [
        "# create function that spilt and add space between the words in sentences \n",
        "\n",
        "def split_chars(text):\n",
        "  return ' '.join(list(text))"
      ]
    },
    {
      "cell_type": "code",
      "execution_count": 46,
      "metadata": {
        "colab": {
          "base_uri": "https://localhost:8080/",
          "height": 87
        },
        "id": "ur2qqOOGPMZJ",
        "outputId": "a9506556-f606-476a-dfcb-5152f2ca5fe4"
      },
      "outputs": [
        {
          "output_type": "execute_result",
          "data": {
            "text/plain": [
              "'T o   i n v e s t i g a t e   t h e   e f f i c a c y   o f   @   w e e k s   o f   d a i l y   l o w - d o s e   o r a l   p r e d n i s o l o n e   i n   i m p r o v i n g   p a i n   ,   m o b i l i t y   ,   a n d   s y s t e m i c   l o w - g r a d e   i n f l a m m a t i o n   i n   t h e   s h o r t   t e r m   a n d   w h e t h e r   t h e   e f f e c t   w o u l d   b e   s u s t a i n e d   a t   @   w e e k s   i n   o l d e r   a d u l t s   w i t h   m o d e r a t e   t o   s e v e r e   k n e e   o s t e o a r t h r i t i s   (   O A   )   .'"
            ],
            "application/vnd.google.colaboratory.intrinsic+json": {
              "type": "string"
            }
          },
          "metadata": {},
          "execution_count": 46
        }
      ],
      "source": [
        "split_chars(train_sentences[0])"
      ]
    },
    {
      "cell_type": "code",
      "execution_count": 47,
      "metadata": {
        "id": "Yxj7MK9APRHz"
      },
      "outputs": [],
      "source": [
        "train_chars = [split_chars(i) for i in train_sentences]\n",
        "val_chars = [split_chars(i) for i in val_sentences]\n",
        "test_chars = [split_chars(i) for i in test_sentences]"
      ]
    },
    {
      "cell_type": "code",
      "execution_count": 48,
      "metadata": {
        "colab": {
          "base_uri": "https://localhost:8080/",
          "height": 87
        },
        "id": "hDL6ym77PxSy",
        "outputId": "94febb2e-a5d3-4ca9-fc28-360384e83c3b"
      },
      "outputs": [
        {
          "output_type": "execute_result",
          "data": {
            "text/plain": [
              "'T o   i n v e s t i g a t e   t h e   e f f i c a c y   o f   @   w e e k s   o f   d a i l y   l o w - d o s e   o r a l   p r e d n i s o l o n e   i n   i m p r o v i n g   p a i n   ,   m o b i l i t y   ,   a n d   s y s t e m i c   l o w - g r a d e   i n f l a m m a t i o n   i n   t h e   s h o r t   t e r m   a n d   w h e t h e r   t h e   e f f e c t   w o u l d   b e   s u s t a i n e d   a t   @   w e e k s   i n   o l d e r   a d u l t s   w i t h   m o d e r a t e   t o   s e v e r e   k n e e   o s t e o a r t h r i t i s   (   O A   )   .'"
            ],
            "application/vnd.google.colaboratory.intrinsic+json": {
              "type": "string"
            }
          },
          "metadata": {},
          "execution_count": 48
        }
      ],
      "source": [
        "train_chars[0]"
      ]
    },
    {
      "cell_type": "markdown",
      "metadata": {
        "id": "lARJxonYP5BJ"
      },
      "source": [
        "create textvectorization for the character level tokenenization"
      ]
    },
    {
      "cell_type": "code",
      "execution_count": 49,
      "metadata": {
        "colab": {
          "base_uri": "https://localhost:8080/",
          "height": 35
        },
        "id": "CLv6HOjjPzPH",
        "outputId": "cdea223c-b21f-44d8-83f3-475af945a97a"
      },
      "outputs": [
        {
          "output_type": "execute_result",
          "data": {
            "text/plain": [
              "'abcdefghijklmnopqrstuvwxyz0123456789!\"#$%&\\'()*+,-./:;<=>?@[\\\\]^_`{|}~'"
            ],
            "application/vnd.google.colaboratory.intrinsic+json": {
              "type": "string"
            }
          },
          "metadata": {},
          "execution_count": 49
        }
      ],
      "source": [
        "import string \n",
        "\n",
        "chars = string.ascii_lowercase+ string.digits + string.punctuation\n",
        "chars "
      ]
    },
    {
      "cell_type": "code",
      "execution_count": 50,
      "metadata": {
        "colab": {
          "base_uri": "https://localhost:8080/"
        },
        "id": "S9XZ5WenQzR4",
        "outputId": "ed07ba8d-7008-44c1-caef-3707e9a88002"
      },
      "outputs": [
        {
          "output_type": "execute_result",
          "data": {
            "text/plain": [
              "149.3662574983337"
            ]
          },
          "metadata": {},
          "execution_count": 50
        }
      ],
      "source": [
        "char_lens = [len(i) for i in train_sentences]\n",
        "np.mean(char_lens)"
      ]
    },
    {
      "cell_type": "code",
      "execution_count": 51,
      "metadata": {
        "colab": {
          "base_uri": "https://localhost:8080/"
        },
        "id": "reCku_TLSDcr",
        "outputId": "af51f318-e8e8-4139-bd7a-583cacb3b0b4"
      },
      "outputs": [
        {
          "output_type": "execute_result",
          "data": {
            "text/plain": [
              "290.0"
            ]
          },
          "metadata": {},
          "execution_count": 51
        }
      ],
      "source": [
        "np.percentile(char_lens,95) # this value would cover 95% of the lengths"
      ]
    },
    {
      "cell_type": "code",
      "execution_count": 52,
      "metadata": {
        "colab": {
          "base_uri": "https://localhost:8080/",
          "height": 469
        },
        "id": "KeI3mGGORCU2",
        "outputId": "8af2f922-cf20-4dba-95f2-066659795421"
      },
      "outputs": [
        {
          "output_type": "execute_result",
          "data": {
            "text/plain": [
              "<Axes: title={'center': 'Characters in Sentences'}, ylabel='Count'>"
            ]
          },
          "metadata": {},
          "execution_count": 52
        },
        {
          "output_type": "display_data",
          "data": {
            "text/plain": [
              "<Figure size 640x480 with 1 Axes>"
            ],
            "image/png": "[encoded data removed]"
          },
          "metadata": {}
        }
      ],
      "source": [
        "plt.title('Characters in Sentences')\n",
        "sns.histplot(char_lens)"
      ]
    },
    {
      "cell_type": "code",
      "execution_count": 53,
      "metadata": {
        "id": "6opihcqKQYca"
      },
      "outputs": [],
      "source": [
        "char_vectorizer = TextVectorization(max_tokens = len(chars)+2,\n",
        "                                    output_sequence_length = 290)\n",
        "char_vectorizer.adapt(train_chars)"
      ]
    },
    {
      "cell_type": "code",
      "execution_count": 54,
      "metadata": {
        "colab": {
          "base_uri": "https://localhost:8080/"
        },
        "id": "aZ1ro3faUYMk",
        "outputId": "a694d26c-7a86-4ff9-a04f-47a3c017efb3"
      },
      "outputs": [
        {
          "output_type": "execute_result",
          "data": {
            "text/plain": [
              "(['', '[UNK]', 'e', 't', 'i', 'a', 'n', 'o', 'r', 's'], 28)"
            ]
          },
          "metadata": {},
          "execution_count": 54
        }
      ],
      "source": [
        "char_vocab = char_vectorizer.get_vocabulary()\n",
        "char_vocab[:10],len(char_vocab)"
      ]
    },
    {
      "cell_type": "code",
      "execution_count": 55,
      "metadata": {
        "colab": {
          "base_uri": "https://localhost:8080/"
        },
        "id": "r0dOCYfxTDLS",
        "outputId": "b2c6dc94-d0df-4390-e28c-dfb8f16b407e"
      },
      "outputs": [
        {
          "output_type": "stream",
          "name": "stdout",
          "text": [
            "Text : A   t o t a l   o f   @   p a t i e n t s   w e r e   r a n d o m l y   a s s i g n e d   t o   r e c e i v e   e i t h e r   t h e   C h u a n h u   a n t i - g o u t   m i x t u r e   o r   C o l c h i c i n e   . \n",
            "\n",
            " text_lenght:91\n",
            "\n",
            " vector : [[ 5  3  7  3  5 12  7 17 14  5  3  4  2  6  3  9 20  2  8  2  8  5  6 10\n",
            "   7 15 12 19  5  9  9  4 18  6  2 10  3  7  8  2 11  2  4 21  2  2  4  3\n",
            "  13  2  8  3 13  2 11 13 16  5  6 13 16  5  6  3  4 18  7 16  3 15  4 24\n",
            "   3 16  8  2  7  8 11  7 12 11 13  4 11  4  6  2  0  0  0  0  0  0  0  0\n",
            "   0  0  0  0  0  0  0  0  0  0  0  0  0  0  0  0  0  0  0  0  0  0  0  0\n",
            "   0  0  0  0  0  0  0  0  0  0  0  0  0  0  0  0  0  0  0  0  0  0  0  0\n",
            "   0  0  0  0  0  0  0  0  0  0  0  0  0  0  0  0  0  0  0  0  0  0  0  0\n",
            "   0  0  0  0  0  0  0  0  0  0  0  0  0  0  0  0  0  0  0  0  0  0  0  0\n",
            "   0  0  0  0  0  0  0  0  0  0  0  0  0  0  0  0  0  0  0  0  0  0  0  0\n",
            "   0  0  0  0  0  0  0  0  0  0  0  0  0  0  0  0  0  0  0  0  0  0  0  0\n",
            "   0  0  0  0  0  0  0  0  0  0  0  0  0  0  0  0  0  0  0  0  0  0  0  0\n",
            "   0  0  0  0  0  0  0  0  0  0  0  0  0  0  0  0  0  0  0  0  0  0  0  0\n",
            "   0  0]]\n",
            "\n"
          ]
        }
      ],
      "source": [
        "random_sent = random.choice(train_chars)\n",
        "\n",
        "print(f'''Text : {random_sent} \n",
        "\\n text_lenght:{len(random_sent.split())}\n",
        "\\n vector : {char_vectorizer([random_sent])}\n",
        "''')"
      ]
    },
    {
      "cell_type": "code",
      "execution_count": 56,
      "metadata": {
        "id": "Mba1Nz6oTWvt"
      },
      "outputs": [],
      "source": [
        "# lets create character embedding for our model\n",
        "\n",
        "char_embed = Embedding(input_dim=len(char_vocab),\n",
        "                       output_dim = 25,\n",
        "                       mask_zero = True)"
      ]
    },
    {
      "cell_type": "code",
      "execution_count": 57,
      "metadata": {
        "colab": {
          "base_uri": "https://localhost:8080/"
        },
        "id": "JzY7nousVVZK",
        "outputId": "7a6004bf-ad5c-477d-a1bb-7205bea8e8d5"
      },
      "outputs": [
        {
          "output_type": "stream",
          "name": "stdout",
          "text": [
            "Text : M u l t i v a r i a t e   a n a l y s i s   s h o w e d   t h a t   o n l y   r e c e i v i n g   f i s h - o i l   e m u l s i o n   i n   p a r e n t e r a l   n u t r i t i o n   d e c r e a s e d   t h e   r i s k   o f   d e v e l o p m e n t   o f   r e t i n o p a t h y   o f   p r e m a t u r i t y   - L S B -   O R   :   @   ,   @   %   C I   (   @ - @   @   )   ,   p   =   @   - R S B -   . \n",
            "\n",
            " text_lenght:165\n",
            "\n",
            " vector : [[15 16 12  3  4 21  5  8  4  5  3  2  5  6  5 12 19  9  4  9  9 13  7 20\n",
            "   2 10  3 13  5  3  7  6 12 19  8  2 11  2  4 21  4  6 18 17  4  9 13  7\n",
            "   4 12  2 15 16 12  9  4  7  6  4  6 14  5  8  2  6  3  2  8  5 12  6 16\n",
            "   3  8  4  3  4  7  6 10  2 11  8  2  5  9  2 10  3 13  2  8  4  9 23  7\n",
            "  17 10  2 21  2 12  7 14 15  2  6  3  7 17  8  2  3  4  6  7 14  5  3 13\n",
            "  19  7 17 14  8  2 15  5  3 16  8  4  3 19 12  9 22  7  8 11  4 14  8  9\n",
            "  22  0  0  0  0  0  0  0  0  0  0  0  0  0  0  0  0  0  0  0  0  0  0  0\n",
            "   0  0  0  0  0  0  0  0  0  0  0  0  0  0  0  0  0  0  0  0  0  0  0  0\n",
            "   0  0  0  0  0  0  0  0  0  0  0  0  0  0  0  0  0  0  0  0  0  0  0  0\n",
            "   0  0  0  0  0  0  0  0  0  0  0  0  0  0  0  0  0  0  0  0  0  0  0  0\n",
            "   0  0  0  0  0  0  0  0  0  0  0  0  0  0  0  0  0  0  0  0  0  0  0  0\n",
            "   0  0  0  0  0  0  0  0  0  0  0  0  0  0  0  0  0  0  0  0  0  0  0  0\n",
            "   0  0]]\n",
            "\n",
            " embedding: [[[ 0.00723862  0.03585194  0.03784798 ...  0.04548378 -0.00984494\n",
            "    0.00051893]\n",
            "  [ 0.02646119 -0.04203134  0.00125717 ...  0.01980039 -0.01841617\n",
            "   -0.00615853]\n",
            "  [ 0.04571003 -0.0264594  -0.04389658 ... -0.01472647  0.0093452\n",
            "    0.04101432]\n",
            "  ...\n",
            "  [ 0.04292333 -0.00257821  0.04848976 ...  0.03984071  0.04684037\n",
            "    0.04995592]\n",
            "  [ 0.04292333 -0.00257821  0.04848976 ...  0.03984071  0.04684037\n",
            "    0.04995592]\n",
            "  [ 0.04292333 -0.00257821  0.04848976 ...  0.03984071  0.04684037\n",
            "    0.04995592]]]\n",
            "\n",
            " embedding_shape: (1, 290, 25)\n",
            "\n"
          ]
        }
      ],
      "source": [
        "random_sent = random.choice(train_chars)\n",
        "\n",
        "print(f'''Text : {random_sent} \n",
        "\\n text_lenght:{len(random_sent.split())}\n",
        "\\n vector : {char_vectorizer([random_sent])}\n",
        "\\n embedding: {char_embed(char_vectorizer([random_sent]))}\n",
        "\\n embedding_shape: {char_embed(char_vectorizer([random_sent])).shape}\n",
        "''')"
      ]
    },
    {
      "cell_type": "markdown",
      "source": [
        "## Model_3 (Conv1D with character embeddings)"
      ],
      "metadata": {
        "id": "GhbZtt6szlKb"
      }
    },
    {
      "cell_type": "code",
      "execution_count": 58,
      "metadata": {
        "colab": {
          "base_uri": "https://localhost:8080/"
        },
        "id": "vcAbYL-GVic8",
        "outputId": "7feffaba-e377-4b8d-f4d1-d833b2f70db9"
      },
      "outputs": [
        {
          "output_type": "stream",
          "name": "stdout",
          "text": [
            "Model: \"model\"\n",
            "_________________________________________________________________\n",
            " Layer (type)                Output Shape              Param #   \n",
            "=================================================================\n",
            " input_1 (InputLayer)        [(None, 1)]               0         \n",
            "                                                                 \n",
            " text_vectorization_1 (TextV  (None, 290)              0         \n",
            " ectorization)                                                   \n",
            "                                                                 \n",
            " embedding_1 (Embedding)     (None, 290, 25)           700       \n",
            "                                                                 \n",
            " conv1d (Conv1D)             (None, 290, 128)          16128     \n",
            "                                                                 \n",
            " max_pooling1d (MaxPooling1D  (None, 145, 128)         0         \n",
            " )                                                               \n",
            "                                                                 \n",
            " flatten (Flatten)           (None, 18560)             0         \n",
            "                                                                 \n",
            " dense (Dense)               (None, 5)                 92805     \n",
            "                                                                 \n",
            "=================================================================\n",
            "Total params: 109,633\n",
            "Trainable params: 109,633\n",
            "Non-trainable params: 0\n",
            "_________________________________________________________________\n"
          ]
        }
      ],
      "source": [
        "# lets create conv1D model with the \n",
        "\n",
        "\n",
        "inputs  = layers.Input(shape=(1,),dtype=tf.string)\n",
        "\n",
        "x = char_vectorizer(inputs)\n",
        "x = char_embed(x)\n",
        "x = layers.Conv1D(128,5,padding = 'same',activation='relu')(x)\n",
        "x = layers.MaxPooling1D()(x)\n",
        "x = layers.Flatten()(x)\n",
        "outputs = layers.Dense(5,activation='softmax')(x)\n",
        "\n",
        "\n",
        "model_3 = tf.keras.Model(inputs,outputs)\n",
        "\n",
        "model_3.summary()"
      ]
    },
    {
      "cell_type": "code",
      "execution_count": 59,
      "metadata": {
        "id": "1TsbuU0DW-fz"
      },
      "outputs": [],
      "source": [
        "model_3.compile(loss='categorical_crossentropy',\n",
        "                optimizer = 'adam',\n",
        "                metrics=['acc'])"
      ]
    },
    {
      "cell_type": "code",
      "execution_count": 60,
      "metadata": {
        "id": "Z7s35OckZh_T"
      },
      "outputs": [],
      "source": [
        "#create dataset for the dataset for char level data too\n",
        "\n",
        "train_char_dataset = tf.data.Dataset.from_tensor_slices((train_chars,train_target_onehot))\n",
        "val_char_dataset = tf.data.Dataset.from_tensor_slices((val_chars,val_target_onehot))\n",
        "test_char_dataset = tf.data.Dataset.from_tensor_slices((test_chars,test_target_onehot))\n",
        "\n",
        "train_char_dataset = train_char_dataset.batch(32).prefetch(tf.data.AUTOTUNE)\n",
        "val_char_dataset = val_char_dataset.batch(32).prefetch(tf.data.AUTOTUNE)\n",
        "test_char_dataset = test_char_dataset.batch(32).prefetch(tf.data.AUTOTUNE)"
      ]
    },
    {
      "cell_type": "code",
      "execution_count": 61,
      "metadata": {
        "colab": {
          "base_uri": "https://localhost:8080/"
        },
        "id": "QArm14tyXhj6",
        "outputId": "1326a61e-1842-41b3-f896-97a405517d8d"
      },
      "outputs": [
        {
          "output_type": "stream",
          "name": "stdout",
          "text": [
            "Epoch 1/5\n",
            "5627/5627 [==============================] - 40s 5ms/step - loss: 0.8899 - acc: 0.6495 - val_loss: 0.7151 - val_acc: 0.7314\n",
            "Epoch 2/5\n",
            "5627/5627 [==============================] - 31s 5ms/step - loss: 0.6745 - acc: 0.7473 - val_loss: 0.7140 - val_acc: 0.7197\n",
            "Epoch 3/5\n",
            "5627/5627 [==============================] - 41s 7ms/step - loss: 0.6042 - acc: 0.7761 - val_loss: 0.7240 - val_acc: 0.7224\n",
            "Epoch 4/5\n",
            "5627/5627 [==============================] - 30s 5ms/step - loss: 0.5639 - acc: 0.7928 - val_loss: 0.7465 - val_acc: 0.7211\n",
            "Epoch 5/5\n",
            "5627/5627 [==============================] - 48s 9ms/step - loss: 0.5363 - acc: 0.8045 - val_loss: 0.7668 - val_acc: 0.7194\n"
          ]
        }
      ],
      "source": [
        "history_3 = model_3.fit(train_char_dataset,epochs=5,\n",
        "                        validation_data=val_char_dataset,\n",
        "                        validation_steps=int(0.1*len(val_char_dataset)))"
      ]
    },
    {
      "cell_type": "code",
      "execution_count": 62,
      "metadata": {
        "colab": {
          "base_uri": "https://localhost:8080/"
        },
        "id": "HNp92lPiXua2",
        "outputId": "88f15cae-6488-40d4-a4c3-76cf6a7297f2"
      },
      "outputs": [
        {
          "output_type": "stream",
          "name": "stdout",
          "text": [
            "945/945 [==============================] - 6s 6ms/step - loss: 0.7540 - acc: 0.7279\n"
          ]
        },
        {
          "output_type": "execute_result",
          "data": {
            "text/plain": [
              "[0.7540214657783508, 0.7278895974159241]"
            ]
          },
          "metadata": {},
          "execution_count": 62
        }
      ],
      "source": [
        "model_3.evaluate(val_char_dataset)"
      ]
    },
    {
      "cell_type": "code",
      "execution_count": 63,
      "metadata": {
        "colab": {
          "base_uri": "https://localhost:8080/"
        },
        "id": "QzNFOFLebpFs",
        "outputId": "9b55ec00-641b-48eb-e3f3-2fe586fba3ba"
      },
      "outputs": [
        {
          "output_type": "stream",
          "name": "stdout",
          "text": [
            "945/945 [==============================] - 3s 3ms/step\n"
          ]
        }
      ],
      "source": [
        "pred_3_probs = model_3.predict(val_char_dataset)\n",
        "pred_3 = pred_3_probs.argmax(axis=1)"
      ]
    },
    {
      "cell_type": "code",
      "execution_count": 64,
      "metadata": {
        "colab": {
          "base_uri": "https://localhost:8080/"
        },
        "id": "xAzWg1IEb3Zt",
        "outputId": "6694e353-65e0-42c6-8787-b6bad4cbe171"
      },
      "outputs": [
        {
          "output_type": "execute_result",
          "data": {
            "text/plain": [
              "{'Accuracy': 0.7278895802992189,\n",
              " 'Precision': 0.7305237695915626,\n",
              " 'F1_score': 0.7256307986806187,\n",
              " 'Recall': 0.7278895802992189}"
            ]
          },
          "metadata": {},
          "execution_count": 64
        }
      ],
      "source": [
        "model_3_results = calculate_results(val_labels_enc,pred_3)\n",
        "model_3_results"
      ]
    },
    {
      "cell_type": "markdown",
      "metadata": {
        "id": "cKjjo91tchPr"
      },
      "source": [
        "## Model 4 with multimodal model \n",
        "\n",
        "In this model we are going to concatenate two models that we are previously created `model 1` and `model 3`"
      ]
    },
    {
      "cell_type": "code",
      "execution_count": 68,
      "metadata": {
        "id": "tKSr4bxCnoqp"
      },
      "outputs": [],
      "source": [
        "#model1\n",
        "token_inputs = layers.Input(shape=[],dtype=tf.string)\n",
        "token_encoder = use_encoder(token_inputs)\n",
        "token_outputs = layers.Dense(128,activation='relu')(token_encoder)\n",
        "token_model = tf.keras.Model(inputs=token_inputs,outputs=token_outputs)\n",
        "\n",
        "#model_3\n",
        "char_inputs  = layers.Input(shape=(1,),dtype=tf.string)\n",
        "char_vect = char_vectorizer(char_inputs)\n",
        "char_embeddings = char_embed(char_vect)\n",
        "char_layer_1 = layers.Bidirectional(layers.LSTM(25))(char_embeddings)\n",
        "char_model = tf.keras.Model(inputs=char_inputs,outputs=char_layer_1)\n",
        "\n",
        "#concatenate layer\n",
        "\n",
        "token_char_concat = layers.Concatenate(name='Token_char_hybrid')([token_model.output,char_model.output])\n",
        "\n",
        "combined_dropout = layers.Dropout(0.5)(token_char_concat)\n",
        "combined_dense_layer = layers.Dense(200,activation='relu')(combined_dropout)\n",
        "final_dropout = layers.Dropout(0.5)(combined_dense_layer)\n",
        "final_output = layers.Dense(5,activation='softmax')(final_dropout)\n",
        "\n",
        "#finally we can create model\n",
        "\n",
        "model_4 = tf.keras.Model(inputs=[token_model.input,char_model.input],\n",
        "                         outputs=final_output,\n",
        "                         name='model_4_token_char_embeddings')\n"
      ]
    },
    {
      "cell_type": "code",
      "execution_count": 69,
      "metadata": {
        "colab": {
          "base_uri": "https://localhost:8080/"
        },
        "id": "wV4Uz1mg1UOw",
        "outputId": "771e517f-3dea-4d84-f721-0f287a4b5645"
      },
      "outputs": [
        {
          "output_type": "stream",
          "name": "stdout",
          "text": [
            "Model: \"model_4_token_char_embeddings\"\n",
            "__________________________________________________________________________________________________\n",
            " Layer (type)                   Output Shape         Param #     Connected to                     \n",
            "==================================================================================================\n",
            " input_4 (InputLayer)           [(None, 1)]          0           []                               \n",
            "                                                                                                  \n",
            " input_3 (InputLayer)           [(None,)]            0           []                               \n",
            "                                                                                                  \n",
            " text_vectorization_1 (TextVect  (None, 290)         0           ['input_4[0][0]']                \n",
            " orization)                                                                                       \n",
            "                                                                                                  \n",
            " keras_layer (KerasLayer)       (None, 512)          256797824   ['input_3[0][0]']                \n",
            "                                                                                                  \n",
            " embedding_1 (Embedding)        (None, 290, 25)      700         ['text_vectorization_1[1][0]']   \n",
            "                                                                                                  \n",
            " dense_1 (Dense)                (None, 128)          65664       ['keras_layer[0][0]']            \n",
            "                                                                                                  \n",
            " bidirectional (Bidirectional)  (None, 50)           10200       ['embedding_1[1][0]']            \n",
            "                                                                                                  \n",
            " Token_char_hybrid (Concatenate  (None, 178)         0           ['dense_1[0][0]',                \n",
            " )                                                                'bidirectional[0][0]']          \n",
            "                                                                                                  \n",
            " dropout (Dropout)              (None, 178)          0           ['Token_char_hybrid[0][0]']      \n",
            "                                                                                                  \n",
            " dense_2 (Dense)                (None, 128)          22912       ['dropout[0][0]']                \n",
            "                                                                                                  \n",
            " dropout_1 (Dropout)            (None, 128)          0           ['dense_2[0][0]']                \n",
            "                                                                                                  \n",
            " dense_3 (Dense)                (None, 5)            645         ['dropout_1[0][0]']              \n",
            "                                                                                                  \n",
            "==================================================================================================\n",
            "Total params: 256,897,945\n",
            "Trainable params: 100,121\n",
            "Non-trainable params: 256,797,824\n",
            "__________________________________________________________________________________________________\n"
          ]
        }
      ],
      "source": [
        "model_4.summary()"
      ]
    },
    {
      "cell_type": "code",
      "execution_count": 73,
      "metadata": {
        "colab": {
          "base_uri": "https://localhost:8080/",
          "height": 976
        },
        "id": "sRlrVcUS4RZs",
        "outputId": "c58ff0bd-5b09-443a-c441-ae21839aacd0"
      },
      "outputs": [
        {
          "output_type": "execute_result",
          "data": {
            "image/png": "[encoded data removed]",
            "text/plain": [
              "<IPython.core.display.Image object>"
            ]
          },
          "metadata": {},
          "execution_count": 73
        }
      ],
      "source": [
        "from keras.utils import plot_model\n",
        "plot_model(model_4,show_shapes=True,)"
      ]
    },
    {
      "cell_type": "code",
      "execution_count": 74,
      "metadata": {
        "id": "2ONCxzxF5gtH"
      },
      "outputs": [],
      "source": [
        "train_char_token_data = tf.data.Dataset.from_tensor_slices((train_sentences,train_chars))\n",
        "train_char_token_labels = tf.data.Dataset.from_tensor_slices(train_target_onehot)\n",
        "train_char_token_dataset = tf.data.Dataset.zip((train_char_token_data,train_char_token_labels))\n",
        "\n",
        "val_char_token_data = tf.data.Dataset.from_tensor_slices((val_sentences,val_chars))\n",
        "val_char_token_labels = tf.data.Dataset.from_tensor_slices(val_target_onehot)\n",
        "val_char_token_dataset = tf.data.Dataset.zip((val_char_token_data,val_char_token_labels))\n",
        "\n",
        "test_char_token_data = tf.data.Dataset.from_tensor_slices((test_sentences,test_chars))\n",
        "test_char_token_labels = tf.data.Dataset.from_tensor_slices(test_target_onehot)\n",
        "test_char_token_dataset = tf.data.Dataset.zip((test_char_token_data,test_char_token_labels))"
      ]
    },
    {
      "cell_type": "code",
      "source": [
        "train_char_token_dataset = train_char_token_dataset.batch(32).prefetch(tf.data.AUTOTUNE)\n",
        "val_char_token_dataset = val_char_token_dataset.batch(32).prefetch(tf.data.AUTOTUNE)\n",
        "test_char_token_dataset = test_char_token_dataset.batch(32).prefetch(tf.data.AUTOTUNE)"
      ],
      "metadata": {
        "id": "7jGmuQcUacXk"
      },
      "execution_count": 75,
      "outputs": []
    },
    {
      "cell_type": "code",
      "source": [
        "model_4.compile(loss='categorical_crossentropy',\n",
        "                optimizer=tf.keras.optimizers.SGD(),\n",
        "                metrics=['acc'])"
      ],
      "metadata": {
        "id": "kiGN3Pnyp_Tt"
      },
      "execution_count": 78,
      "outputs": []
    },
    {
      "cell_type": "code",
      "source": [
        "history_4 = model_4.fit(train_char_token_dataset,epochs=3,\n",
        "                        validation_data=val_char_token_dataset,\n",
        "                        validation_steps=int(0.1*len(val_char_token_dataset)))"
      ],
      "metadata": {
        "colab": {
          "base_uri": "https://localhost:8080/"
        },
        "id": "dmi_XLYIbcSk",
        "outputId": "eed474fd-735d-4dd2-d5bc-c2cc99b7aaf7"
      },
      "execution_count": 80,
      "outputs": [
        {
          "output_type": "stream",
          "name": "stdout",
          "text": [
            "Epoch 1/3\n",
            "5627/5627 [==============================] - 248s 44ms/step - loss: 0.7894 - acc: 0.6952 - val_loss: 0.7219 - val_acc: 0.7261\n",
            "Epoch 2/3\n",
            "5627/5627 [==============================] - 259s 46ms/step - loss: 0.7659 - acc: 0.7058 - val_loss: 0.7026 - val_acc: 0.7320\n",
            "Epoch 3/3\n",
            "5627/5627 [==============================] - 310s 55ms/step - loss: 0.7470 - acc: 0.7140 - val_loss: 0.6850 - val_acc: 0.7417\n"
          ]
        }
      ]
    },
    {
      "cell_type": "code",
      "source": [
        "model_4.evaluate(val_char_token_dataset)"
      ],
      "metadata": {
        "colab": {
          "base_uri": "https://localhost:8080/"
        },
        "id": "jsj0oUQtp9M5",
        "outputId": "b0ceab0c-f519-4bb8-9b3e-cc46628d1d68"
      },
      "execution_count": 81,
      "outputs": [
        {
          "output_type": "stream",
          "name": "stdout",
          "text": [
            "945/945 [==============================] - 19s 20ms/step - loss: 0.6914 - acc: 0.7388\n"
          ]
        },
        {
          "output_type": "execute_result",
          "data": {
            "text/plain": [
              "[0.6913899183273315, 0.7387793064117432]"
            ]
          },
          "metadata": {},
          "execution_count": 81
        }
      ]
    },
    {
      "cell_type": "code",
      "source": [
        "pred_4_probs = model_4.predict(val_char_token_dataset)\n",
        "pred_4 = pred_4_probs.argmax(axis=1)"
      ],
      "metadata": {
        "colab": {
          "base_uri": "https://localhost:8080/"
        },
        "id": "rtncg9G6wFdJ",
        "outputId": "a340582c-a88a-4b07-9927-003578c6dec6"
      },
      "execution_count": 82,
      "outputs": [
        {
          "output_type": "stream",
          "name": "stdout",
          "text": [
            "945/945 [==============================] - 22s 20ms/step\n"
          ]
        }
      ]
    },
    {
      "cell_type": "code",
      "source": [
        "model_4_results = calculate_results(val_labels_enc , pred_4)\n",
        "model_4_results"
      ],
      "metadata": {
        "colab": {
          "base_uri": "https://localhost:8080/"
        },
        "id": "OvDgCeAOwedK",
        "outputId": "3d1323f0-8e7f-43d3-8657-6fc1be04e486"
      },
      "execution_count": 98,
      "outputs": [
        {
          "output_type": "execute_result",
          "data": {
            "text/plain": [
              "{'Accuracy': 0.7387792929961605,\n",
              " 'Precision': 0.7353931288809079,\n",
              " 'F1_score': 0.7343036633240125,\n",
              " 'Recall': 0.7387792929961605}"
            ]
          },
          "metadata": {},
          "execution_count": 98
        }
      ]
    },
    {
      "cell_type": "markdown",
      "source": [
        "### position embeddings \n",
        "we are create a model that takes token, char and positional embeddings to our model "
      ],
      "metadata": {
        "id": "bXQ4_qiH1S8O"
      }
    },
    {
      "cell_type": "code",
      "source": [
        "train_df"
      ],
      "metadata": {
        "colab": {
          "base_uri": "https://localhost:8080/",
          "height": 424
        },
        "id": "KrTi0H561IhS",
        "outputId": "fd70d07b-691f-4b5e-aeda-4780547b140d"
      },
      "execution_count": 99,
      "outputs": [
        {
          "output_type": "execute_result",
          "data": {
            "text/plain": [
              "        line_no       target  \\\n",
              "0             0    OBJECTIVE   \n",
              "1             1      METHODS   \n",
              "2             2      METHODS   \n",
              "3             3      METHODS   \n",
              "4             4      METHODS   \n",
              "...         ...          ...   \n",
              "180035        7      RESULTS   \n",
              "180036        8      RESULTS   \n",
              "180037        9      RESULTS   \n",
              "180038       10  CONCLUSIONS   \n",
              "180039       11  CONCLUSIONS   \n",
              "\n",
              "                                                     text  total_lines  \n",
              "0       To investigate the efficacy of @ weeks of dail...           11  \n",
              "1       A total of @ patients with primary knee OA wer...           11  \n",
              "2       Outcome measures included pain reduction and i...           11  \n",
              "3       Pain was assessed using the visual analog pain...           11  \n",
              "4       Secondary outcome measures included the Wester...           11  \n",
              "...                                                   ...          ...  \n",
              "180035  For the absolute change in percent atheroma vo...           11  \n",
              "180036  For PAV , a significantly greater percentage o...           11  \n",
              "180037  Both strategies had acceptable side effect pro...           11  \n",
              "180038  Compared with standard statin monotherapy , th...           11  \n",
              "180039  ( Plaque Regression With Cholesterol Absorptio...           11  \n",
              "\n",
              "[180040 rows x 4 columns]"
            ],
            "text/html": [
              "\n",
              "  <div id=\"df-1da9c0a8-4105-4a1c-a7e4-e988462265ba\">\n",
              "    <div class=\"colab-df-container\">\n",
              "      <div>\n",
              "<style scoped>\n",
              "    .dataframe tbody tr th:only-of-type {\n",
              "        vertical-align: middle;\n",
              "    }\n",
              "\n",
              "    .dataframe tbody tr th {\n",
              "        vertical-align: top;\n",
              "    }\n",
              "\n",
              "    .dataframe thead th {\n",
              "        text-align: right;\n",
              "    }\n",
              "</style>\n",
              "<table border=\"1\" class=\"dataframe\">\n",
              "  <thead>\n",
              "    <tr style=\"text-align: right;\">\n",
              "      <th></th>\n",
              "      <th>line_no</th>\n",
              "      <th>target</th>\n",
              "      <th>text</th>\n",
              "      <th>total_lines</th>\n",
              "    </tr>\n",
              "  </thead>\n",
              "  <tbody>\n",
              "    <tr>\n",
              "      <th>0</th>\n",
              "      <td>0</td>\n",
              "      <td>OBJECTIVE</td>\n",
              "      <td>To investigate the efficacy of @ weeks of dail...</td>\n",
              "      <td>11</td>\n",
              "    </tr>\n",
              "    <tr>\n",
              "      <th>1</th>\n",
              "      <td>1</td>\n",
              "      <td>METHODS</td>\n",
              "      <td>A total of @ patients with primary knee OA wer...</td>\n",
              "      <td>11</td>\n",
              "    </tr>\n",
              "    <tr>\n",
              "      <th>2</th>\n",
              "      <td>2</td>\n",
              "      <td>METHODS</td>\n",
              "      <td>Outcome measures included pain reduction and i...</td>\n",
              "      <td>11</td>\n",
              "    </tr>\n",
              "    <tr>\n",
              "      <th>3</th>\n",
              "      <td>3</td>\n",
              "      <td>METHODS</td>\n",
              "      <td>Pain was assessed using the visual analog pain...</td>\n",
              "      <td>11</td>\n",
              "    </tr>\n",
              "    <tr>\n",
              "      <th>4</th>\n",
              "      <td>4</td>\n",
              "      <td>METHODS</td>\n",
              "      <td>Secondary outcome measures included the Wester...</td>\n",
              "      <td>11</td>\n",
              "    </tr>\n",
              "    <tr>\n",
              "      <th>...</th>\n",
              "      <td>...</td>\n",
              "      <td>...</td>\n",
              "      <td>...</td>\n",
              "      <td>...</td>\n",
              "    </tr>\n",
              "    <tr>\n",
              "      <th>180035</th>\n",
              "      <td>7</td>\n",
              "      <td>RESULTS</td>\n",
              "      <td>For the absolute change in percent atheroma vo...</td>\n",
              "      <td>11</td>\n",
              "    </tr>\n",
              "    <tr>\n",
              "      <th>180036</th>\n",
              "      <td>8</td>\n",
              "      <td>RESULTS</td>\n",
              "      <td>For PAV , a significantly greater percentage o...</td>\n",
              "      <td>11</td>\n",
              "    </tr>\n",
              "    <tr>\n",
              "      <th>180037</th>\n",
              "      <td>9</td>\n",
              "      <td>RESULTS</td>\n",
              "      <td>Both strategies had acceptable side effect pro...</td>\n",
              "      <td>11</td>\n",
              "    </tr>\n",
              "    <tr>\n",
              "      <th>180038</th>\n",
              "      <td>10</td>\n",
              "      <td>CONCLUSIONS</td>\n",
              "      <td>Compared with standard statin monotherapy , th...</td>\n",
              "      <td>11</td>\n",
              "    </tr>\n",
              "    <tr>\n",
              "      <th>180039</th>\n",
              "      <td>11</td>\n",
              "      <td>CONCLUSIONS</td>\n",
              "      <td>( Plaque Regression With Cholesterol Absorptio...</td>\n",
              "      <td>11</td>\n",
              "    </tr>\n",
              "  </tbody>\n",
              "</table>\n",
              "<p>180040 rows × 4 columns</p>\n",
              "</div>\n",
              "      <button class=\"colab-df-convert\" onclick=\"convertToInteractive('df-1da9c0a8-4105-4a1c-a7e4-e988462265ba')\"\n",
              "              title=\"Convert this dataframe to an interactive table.\"\n",
              "              style=\"display:none;\">\n",
              "        \n",
              "  <svg xmlns=\"http://www.w3.org/2000/svg\" height=\"24px\"viewBox=\"0 0 24 24\"\n",
              "       width=\"24px\">\n",
              "    <path d=\"M0 0h24v24H0V0z\" fill=\"none\"/>\n",
              "    <path d=\"M18.56 5.44l.94 2.06.94-2.06 2.06-.94-2.06-.94-.94-2.06-.94 2.06-2.06.94zm-11 1L8.5 8.5l.94-2.06 2.06-.94-2.06-.94L8.5 2.5l-.94 2.06-2.06.94zm10 10l.94 2.06.94-2.06 2.06-.94-2.06-.94-.94-2.06-.94 2.06-2.06.94z\"/><path d=\"M17.41 7.96l-1.37-1.37c-.4-.4-.92-.59-1.43-.59-.52 0-1.04.2-1.43.59L10.3 9.45l-7.72 7.72c-.78.78-.78 2.05 0 2.83L4 21.41c.39.39.9.59 1.41.59.51 0 1.02-.2 1.41-.59l7.78-7.78 2.81-2.81c.8-.78.8-2.07 0-2.86zM5.41 20L4 18.59l7.72-7.72 1.47 1.35L5.41 20z\"/>\n",
              "  </svg>\n",
              "      </button>\n",
              "      \n",
              "  <style>\n",
              "    .colab-df-container {\n",
              "      display:flex;\n",
              "      flex-wrap:wrap;\n",
              "      gap: 12px;\n",
              "    }\n",
              "\n",
              "    .colab-df-convert {\n",
              "      background-color: #E8F0FE;\n",
              "      border: none;\n",
              "      border-radius: 50%;\n",
              "      cursor: pointer;\n",
              "      display: none;\n",
              "      fill: #1967D2;\n",
              "      height: 32px;\n",
              "      padding: 0 0 0 0;\n",
              "      width: 32px;\n",
              "    }\n",
              "\n",
              "    .colab-df-convert:hover {\n",
              "      background-color: #E2EBFA;\n",
              "      box-shadow: 0px 1px 2px rgba(60, 64, 67, 0.3), 0px 1px 3px 1px rgba(60, 64, 67, 0.15);\n",
              "      fill: #174EA6;\n",
              "    }\n",
              "\n",
              "    [theme=dark] .colab-df-convert {\n",
              "      background-color: #3B4455;\n",
              "      fill: #D2E3FC;\n",
              "    }\n",
              "\n",
              "    [theme=dark] .colab-df-convert:hover {\n",
              "      background-color: #434B5C;\n",
              "      box-shadow: 0px 1px 3px 1px rgba(0, 0, 0, 0.15);\n",
              "      filter: drop-shadow(0px 1px 2px rgba(0, 0, 0, 0.3));\n",
              "      fill: #FFFFFF;\n",
              "    }\n",
              "  </style>\n",
              "\n",
              "      <script>\n",
              "        const buttonEl =\n",
              "          document.querySelector('#df-1da9c0a8-4105-4a1c-a7e4-e988462265ba button.colab-df-convert');\n",
              "        buttonEl.style.display =\n",
              "          google.colab.kernel.accessAllowed ? 'block' : 'none';\n",
              "\n",
              "        async function convertToInteractive(key) {\n",
              "          const element = document.querySelector('#df-1da9c0a8-4105-4a1c-a7e4-e988462265ba');\n",
              "          const dataTable =\n",
              "            await google.colab.kernel.invokeFunction('convertToInteractive',\n",
              "                                                     [key], {});\n",
              "          if (!dataTable) return;\n",
              "\n",
              "          const docLinkHtml = 'Like what you see? Visit the ' +\n",
              "            '<a target=\"_blank\" href=https://colab.research.google.com/notebooks/data_table.ipynb>data table notebook</a>'\n",
              "            + ' to learn more about interactive tables.';\n",
              "          element.innerHTML = '';\n",
              "          dataTable['output_type'] = 'display_data';\n",
              "          await google.colab.output.renderOutput(dataTable, element);\n",
              "          const docLink = document.createElement('div');\n",
              "          docLink.innerHTML = docLinkHtml;\n",
              "          element.appendChild(docLink);\n",
              "        }\n",
              "      </script>\n",
              "    </div>\n",
              "  </div>\n",
              "  "
            ]
          },
          "metadata": {},
          "execution_count": 99
        }
      ]
    },
    {
      "cell_type": "code",
      "source": [
        "train_df.line_no.value_counts(ascending=True).plot(kind='barh')"
      ],
      "metadata": {
        "colab": {
          "base_uri": "https://localhost:8080/",
          "height": 447
        },
        "id": "4uiKyM6P10hc",
        "outputId": "6f984d96-3082-4d51-ee16-4320fec22076"
      },
      "execution_count": 103,
      "outputs": [
        {
          "output_type": "execute_result",
          "data": {
            "text/plain": [
              "<Axes: >"
            ]
          },
          "metadata": {},
          "execution_count": 103
        },
        {
          "output_type": "display_data",
          "data": {
            "text/plain": [
              "<Figure size 640x480 with 1 Axes>"
            ],
            "image/png": "[encoded data removed]"
          },
          "metadata": {}
        }
      ]
    },
    {
      "cell_type": "code",
      "source": [
        "sns.histplot(train_df.line_no)"
      ],
      "metadata": {
        "colab": {
          "base_uri": "https://localhost:8080/",
          "height": 467
        },
        "id": "VUFgt-DQ2LVN",
        "outputId": "839ad3b3-955a-4462-ea50-df1305738e48"
      },
      "execution_count": 105,
      "outputs": [
        {
          "output_type": "execute_result",
          "data": {
            "text/plain": [
              "<Axes: xlabel='line_no', ylabel='Count'>"
            ]
          },
          "metadata": {},
          "execution_count": 105
        },
        {
          "output_type": "display_data",
          "data": {
            "text/plain": [
              "<Figure size 640x480 with 1 Axes>"
            ],
            "image/png": "[encoded data removed]"
          },
          "metadata": {}
        }
      ]
    },
    {
      "cell_type": "code",
      "source": [
        "np.percentile(train_df.line_no.to_numpy(),98)"
      ],
      "metadata": {
        "colab": {
          "base_uri": "https://localhost:8080/"
        },
        "id": "a1RcPBws2iO6",
        "outputId": "8de724cf-21db-4a57-b349-7a1a6f16a9b3"
      },
      "execution_count": 111,
      "outputs": [
        {
          "output_type": "execute_result",
          "data": {
            "text/plain": [
              "15.0"
            ]
          },
          "metadata": {},
          "execution_count": 111
        }
      ]
    },
    {
      "cell_type": "code",
      "source": [
        "# onehot encode the line no column\n",
        "\n",
        "train_line_onehot = tf.one_hot(train_df.line_no.to_numpy(), depth=15)\n",
        "val_line_onehot = tf.one_hot(val_df.line_no.to_numpy(), depth=15)\n",
        "test_line_onehot = tf.one_hot(test_df.line_no.to_numpy(), depth=15)\n",
        "\n",
        "train_line_onehot[:10]"
      ],
      "metadata": {
        "colab": {
          "base_uri": "https://localhost:8080/"
        },
        "id": "H5QLM58H1rYY",
        "outputId": "147e2ee3-b350-490d-aadc-1dc4740bcc67"
      },
      "execution_count": 117,
      "outputs": [
        {
          "output_type": "execute_result",
          "data": {
            "text/plain": [
              "<tf.Tensor: shape=(10, 15), dtype=float32, numpy=\n",
              "array([[1., 0., 0., 0., 0., 0., 0., 0., 0., 0., 0., 0., 0., 0., 0.],\n",
              "       [0., 1., 0., 0., 0., 0., 0., 0., 0., 0., 0., 0., 0., 0., 0.],\n",
              "       [0., 0., 1., 0., 0., 0., 0., 0., 0., 0., 0., 0., 0., 0., 0.],\n",
              "       [0., 0., 0., 1., 0., 0., 0., 0., 0., 0., 0., 0., 0., 0., 0.],\n",
              "       [0., 0., 0., 0., 1., 0., 0., 0., 0., 0., 0., 0., 0., 0., 0.],\n",
              "       [0., 0., 0., 0., 0., 1., 0., 0., 0., 0., 0., 0., 0., 0., 0.],\n",
              "       [0., 0., 0., 0., 0., 0., 1., 0., 0., 0., 0., 0., 0., 0., 0.],\n",
              "       [0., 0., 0., 0., 0., 0., 0., 1., 0., 0., 0., 0., 0., 0., 0.],\n",
              "       [0., 0., 0., 0., 0., 0., 0., 0., 1., 0., 0., 0., 0., 0., 0.],\n",
              "       [0., 0., 0., 0., 0., 0., 0., 0., 0., 1., 0., 0., 0., 0., 0.]],\n",
              "      dtype=float32)>"
            ]
          },
          "metadata": {},
          "execution_count": 117
        }
      ]
    },
    {
      "cell_type": "code",
      "source": [
        "# next we are going to preprocess the total lines\n",
        "\n",
        "train_df.total_lines.value_counts(ascending=True).plot(kind='barh')"
      ],
      "metadata": {
        "colab": {
          "base_uri": "https://localhost:8080/",
          "height": 447
        },
        "id": "51o2jQmn3Ix9",
        "outputId": "39cc0b6b-cf09-4ca4-e673-584d73b94563"
      },
      "execution_count": 121,
      "outputs": [
        {
          "output_type": "execute_result",
          "data": {
            "text/plain": [
              "<Axes: >"
            ]
          },
          "metadata": {},
          "execution_count": 121
        },
        {
          "output_type": "display_data",
          "data": {
            "text/plain": [
              "<Figure size 640x480 with 1 Axes>"
            ],
            "image/png": "[encoded data removed]"
          },
          "metadata": {}
        }
      ]
    },
    {
      "cell_type": "code",
      "source": [
        "sns.histplot(train_df.total_lines.to_numpy())"
      ],
      "metadata": {
        "colab": {
          "base_uri": "https://localhost:8080/",
          "height": 447
        },
        "id": "lsFtKvxM50GV",
        "outputId": "a24d1d37-ae9e-4221-e322-0cab0f97873a"
      },
      "execution_count": 122,
      "outputs": [
        {
          "output_type": "execute_result",
          "data": {
            "text/plain": [
              "<Axes: ylabel='Count'>"
            ]
          },
          "metadata": {},
          "execution_count": 122
        },
        {
          "output_type": "display_data",
          "data": {
            "text/plain": [
              "<Figure size 640x480 with 1 Axes>"
            ],
            "image/png": "[encoded data removed]"
          },
          "metadata": {}
        }
      ]
    },
    {
      "cell_type": "code",
      "source": [
        "np.percentile(train_df.total_lines.to_numpy(),98)"
      ],
      "metadata": {
        "colab": {
          "base_uri": "https://localhost:8080/"
        },
        "id": "bs4hn_St6U6t",
        "outputId": "3282db2d-dd59-43e7-86a5-0aa509cad9b0"
      },
      "execution_count": 124,
      "outputs": [
        {
          "output_type": "execute_result",
          "data": {
            "text/plain": [
              "20.0"
            ]
          },
          "metadata": {},
          "execution_count": 124
        }
      ]
    },
    {
      "cell_type": "code",
      "source": [
        "train_total_line_onehot = tf.one_hot(train_df.total_lines.to_numpy(), depth=20)\n",
        "val_total_line_onehot = tf.one_hot(val_df.total_lines.to_numpy(), depth=20)\n",
        "test_total_line_onehot = tf.one_hot(test_df.total_lines.to_numpy(), depth=20)\n",
        "\n",
        "train_total_line_onehot[:10]"
      ],
      "metadata": {
        "colab": {
          "base_uri": "https://localhost:8080/"
        },
        "id": "qQ_goniF6hmq",
        "outputId": "df7d1289-66d2-4360-d992-ce78813499ca"
      },
      "execution_count": 125,
      "outputs": [
        {
          "output_type": "execute_result",
          "data": {
            "text/plain": [
              "<tf.Tensor: shape=(10, 20), dtype=float32, numpy=\n",
              "array([[0., 0., 0., 0., 0., 0., 0., 0., 0., 0., 0., 1., 0., 0., 0., 0.,\n",
              "        0., 0., 0., 0.],\n",
              "       [0., 0., 0., 0., 0., 0., 0., 0., 0., 0., 0., 1., 0., 0., 0., 0.,\n",
              "        0., 0., 0., 0.],\n",
              "       [0., 0., 0., 0., 0., 0., 0., 0., 0., 0., 0., 1., 0., 0., 0., 0.,\n",
              "        0., 0., 0., 0.],\n",
              "       [0., 0., 0., 0., 0., 0., 0., 0., 0., 0., 0., 1., 0., 0., 0., 0.,\n",
              "        0., 0., 0., 0.],\n",
              "       [0., 0., 0., 0., 0., 0., 0., 0., 0., 0., 0., 1., 0., 0., 0., 0.,\n",
              "        0., 0., 0., 0.],\n",
              "       [0., 0., 0., 0., 0., 0., 0., 0., 0., 0., 0., 1., 0., 0., 0., 0.,\n",
              "        0., 0., 0., 0.],\n",
              "       [0., 0., 0., 0., 0., 0., 0., 0., 0., 0., 0., 1., 0., 0., 0., 0.,\n",
              "        0., 0., 0., 0.],\n",
              "       [0., 0., 0., 0., 0., 0., 0., 0., 0., 0., 0., 1., 0., 0., 0., 0.,\n",
              "        0., 0., 0., 0.],\n",
              "       [0., 0., 0., 0., 0., 0., 0., 0., 0., 0., 0., 1., 0., 0., 0., 0.,\n",
              "        0., 0., 0., 0.],\n",
              "       [0., 0., 0., 0., 0., 0., 0., 0., 0., 0., 0., 1., 0., 0., 0., 0.,\n",
              "        0., 0., 0., 0.]], dtype=float32)>"
            ]
          },
          "metadata": {},
          "execution_count": 125
        }
      ]
    },
    {
      "cell_type": "markdown",
      "source": [
        "## Model 5 (tribrid model)"
      ],
      "metadata": {
        "id": "brtrA3Uf8dxc"
      }
    },
    {
      "cell_type": "code",
      "source": [
        "#model1\n",
        "token_inputs = layers.Input(shape=[],dtype=tf.string)\n",
        "token_encoder = use_encoder(token_inputs)\n",
        "token_outputs = layers.Dense(128,activation='relu')(token_encoder)\n",
        "token_model = tf.keras.Model(inputs=token_inputs,outputs=token_outputs)\n",
        "\n",
        "#model_2\n",
        "char_inputs  = layers.Input(shape=(1,),dtype=tf.string)\n",
        "char_vect = char_vectorizer(char_inputs)\n",
        "char_embeddings = char_embed(char_vect)\n",
        "char_layer_1 = layers.Bidirectional(layers.LSTM(25))(char_embeddings)\n",
        "char_model = tf.keras.Model(inputs=char_inputs,outputs=char_layer_1)\n",
        "\n",
        "#model-3\n",
        "line_inputs = layers.Input(shape=(15,))\n",
        "line_inputs_layer1 = layers.Dense(128,activation = 'relu')(line_inputs)\n",
        "line_outputs = layers.Dense(64,activation='relu')(line_inputs_layer1)\n",
        "line_model = tf.keras.Model(inputs=line_inputs,outputs=line_outputs)\n",
        "\n",
        "#model-4\n",
        "total_line_inputs = layers.Input(shape=(20,))\n",
        "total_line_inputs_layer1 = layers.Dense(128,activation = 'relu')(total_line_inputs)\n",
        "total_line_outputs = layers.Dense(64,activation='relu')(total_line_inputs_layer1)\n",
        "total_line_model = tf.keras.Model(inputs=total_line_inputs,outputs=total_line_outputs)\n",
        "\n",
        "#concatenate layer 1\n",
        "token_char_concat1 = layers.Concatenate(name='Token_char_hybrid')([token_model.output,char_model.output])\n",
        "\n",
        "#concatenate layer 2\n",
        "token_char_concat2 = layers.Concatenate(name='total_line_hybrid')([token_char_concat1,line_model.output,\n",
        "                                                                   total_line_model.output])\n",
        "\n",
        "combined_dropout = layers.Dropout(0.5)(token_char_concat2)\n",
        "combined_dense_layer = layers.Dense(200,activation='relu')(combined_dropout)\n",
        "final_dropout = layers.Dropout(0.5)(combined_dense_layer)\n",
        "final_output = layers.Dense(5,activation='softmax')(final_dropout)\n",
        "\n",
        "#finally we can create model\n",
        "\n",
        "model_5 = tf.keras.Model(inputs=[token_model.input,char_model.input,line_model.input,total_line_model.input],\n",
        "                         outputs=final_output,\n",
        "                         name='model_4_token_char_embeddings')"
      ],
      "metadata": {
        "id": "wMzvPegl6_wB"
      },
      "execution_count": 136,
      "outputs": []
    },
    {
      "cell_type": "code",
      "source": [
        "model_5.summary()"
      ],
      "metadata": {
        "colab": {
          "base_uri": "https://localhost:8080/"
        },
        "id": "ttOmlyhI_BKe",
        "outputId": "46f18240-93dd-4a50-8946-831e3441cf75"
      },
      "execution_count": 137,
      "outputs": [
        {
          "output_type": "stream",
          "name": "stdout",
          "text": [
            "Model: \"model_4_token_char_embeddings\"\n",
            "__________________________________________________________________________________________________\n",
            " Layer (type)                   Output Shape         Param #     Connected to                     \n",
            "==================================================================================================\n",
            " input_12 (InputLayer)          [(None, 1)]          0           []                               \n",
            "                                                                                                  \n",
            " input_11 (InputLayer)          [(None,)]            0           []                               \n",
            "                                                                                                  \n",
            " text_vectorization_1 (TextVect  (None, 290)         0           ['input_12[0][0]']               \n",
            " orization)                                                                                       \n",
            "                                                                                                  \n",
            " keras_layer (KerasLayer)       (None, 512)          256797824   ['input_11[0][0]']               \n",
            "                                                                                                  \n",
            " embedding_1 (Embedding)        (None, 290, 25)      700         ['text_vectorization_1[3][0]']   \n",
            "                                                                                                  \n",
            " input_13 (InputLayer)          [(None, 15)]         0           []                               \n",
            "                                                                                                  \n",
            " input_14 (InputLayer)          [(None, 20)]         0           []                               \n",
            "                                                                                                  \n",
            " dense_14 (Dense)               (None, 128)          65664       ['keras_layer[3][0]']            \n",
            "                                                                                                  \n",
            " bidirectional_2 (Bidirectional  (None, 50)          10200       ['embedding_1[3][0]']            \n",
            " )                                                                                                \n",
            "                                                                                                  \n",
            " dense_15 (Dense)               (None, 128)          2048        ['input_13[0][0]']               \n",
            "                                                                                                  \n",
            " dense_17 (Dense)               (None, 128)          2688        ['input_14[0][0]']               \n",
            "                                                                                                  \n",
            " Token_char_hybrid (Concatenate  (None, 178)         0           ['dense_14[0][0]',               \n",
            " )                                                                'bidirectional_2[0][0]']        \n",
            "                                                                                                  \n",
            " dense_16 (Dense)               (None, 64)           8256        ['dense_15[0][0]']               \n",
            "                                                                                                  \n",
            " dense_18 (Dense)               (None, 64)           8256        ['dense_17[0][0]']               \n",
            "                                                                                                  \n",
            " total_line_hybrid (Concatenate  (None, 306)         0           ['Token_char_hybrid[0][0]',      \n",
            " )                                                                'dense_16[0][0]',               \n",
            "                                                                  'dense_18[0][0]']               \n",
            "                                                                                                  \n",
            " dropout_4 (Dropout)            (None, 306)          0           ['total_line_hybrid[0][0]']      \n",
            "                                                                                                  \n",
            " dense_19 (Dense)               (None, 200)          61400       ['dropout_4[0][0]']              \n",
            "                                                                                                  \n",
            " dropout_5 (Dropout)            (None, 200)          0           ['dense_19[0][0]']               \n",
            "                                                                                                  \n",
            " dense_20 (Dense)               (None, 5)            1005        ['dropout_5[0][0]']              \n",
            "                                                                                                  \n",
            "==================================================================================================\n",
            "Total params: 256,958,041\n",
            "Trainable params: 160,217\n",
            "Non-trainable params: 256,797,824\n",
            "__________________________________________________________________________________________________\n"
          ]
        }
      ]
    },
    {
      "cell_type": "code",
      "source": [
        "plot_model(model_5,show_shapes=True)"
      ],
      "metadata": {
        "colab": {
          "base_uri": "https://localhost:8080/",
          "height": 1000
        },
        "id": "Tlf8Tiox_FJy",
        "outputId": "c6552e79-3b6b-4b36-9c71-e0fcaf1f820c"
      },
      "execution_count": 128,
      "outputs": [
        {
          "output_type": "execute_result",
          "data": {
            "image/png": "[encoded data removed]",
            "text/plain": [
              "<IPython.core.display.Image object>"
            ]
          },
          "metadata": {},
          "execution_count": 128
        }
      ]
    },
    {
      "cell_type": "code",
      "source": [
        "model_5.compile(loss='categorical_crossentropy',\n",
        "                optimizer=tf.keras.optimizers.Adam(),\n",
        "                metrics=['acc'])"
      ],
      "metadata": {
        "id": "e0bediLp_KDV"
      },
      "execution_count": 138,
      "outputs": []
    },
    {
      "cell_type": "code",
      "source": [
        "# create dataset for all inputs\n",
        "train_inputs_data = tf.data.Dataset.from_tensor_slices((train_sentences,train_chars,train_line_onehot,train_total_line_onehot))\n",
        "train_outputs_labels = tf.data.Dataset.from_tensor_slices(train_target_onehot)\n",
        "final_train_dataset = tf.data.Dataset.zip((train_inputs_data,train_outputs_labels))\n",
        "\n",
        "val_inputs_data = tf.data.Dataset.from_tensor_slices((val_sentences,val_chars,val_line_onehot,val_total_line_onehot))\n",
        "val_outputs_labels = tf.data.Dataset.from_tensor_slices(val_target_onehot)\n",
        "final_val_dataset = tf.data.Dataset.zip((val_inputs_data,val_outputs_labels))\n",
        "\n",
        "test_inputs_data = tf.data.Dataset.from_tensor_slices((test_sentences,test_chars,test_line_onehot,test_total_line_onehot))\n",
        "test_outputs_labels = tf.data.Dataset.from_tensor_slices(test_target_onehot)\n",
        "final_test_dataset = tf.data.Dataset.zip((test_inputs_data,test_outputs_labels))"
      ],
      "metadata": {
        "id": "d59A47Dq_dLI"
      },
      "execution_count": 132,
      "outputs": []
    },
    {
      "cell_type": "code",
      "source": [
        "final_train_dataset = final_train_dataset.batch(32).prefetch(tf.data.AUTOTUNE)\n",
        "final_val_dataset = final_val_dataset.batch(32).prefetch(tf.data.AUTOTUNE)\n",
        "final_test_dataset = final_test_dataset.batch(32).prefetch(tf.data.AUTOTUNE)"
      ],
      "metadata": {
        "id": "wEUmRNXbBUOH"
      },
      "execution_count": 133,
      "outputs": []
    },
    {
      "cell_type": "code",
      "source": [
        "final_train_dataset"
      ],
      "metadata": {
        "colab": {
          "base_uri": "https://localhost:8080/"
        },
        "id": "BPu5Pa7zAvyH",
        "outputId": "42efedf0-ecc6-4368-f349-8519d9b07532"
      },
      "execution_count": 134,
      "outputs": [
        {
          "output_type": "execute_result",
          "data": {
            "text/plain": [
              "<_PrefetchDataset element_spec=((TensorSpec(shape=(None,), dtype=tf.string, name=None), TensorSpec(shape=(None,), dtype=tf.string, name=None), TensorSpec(shape=(None, 15), dtype=tf.float32, name=None), TensorSpec(shape=(None, 20), dtype=tf.float32, name=None)), TensorSpec(shape=(None, 5), dtype=tf.float64, name=None))>"
            ]
          },
          "metadata": {},
          "execution_count": 134
        }
      ]
    },
    {
      "cell_type": "code",
      "source": [
        "history_5 = model_5.fit(final_train_dataset,epochs=5,\n",
        "                        validation_data=final_val_dataset,\n",
        "                        validation_steps=int(0.1*len(final_val_dataset)))"
      ],
      "metadata": {
        "colab": {
          "base_uri": "https://localhost:8080/"
        },
        "id": "0pjxG737AzRV",
        "outputId": "a1417c61-36a5-4ab2-d95a-48ac31a44bbe"
      },
      "execution_count": 139,
      "outputs": [
        {
          "output_type": "stream",
          "name": "stdout",
          "text": [
            "Epoch 1/5\n",
            "5627/5627 [==============================] - 281s 48ms/step - loss: 0.4868 - acc: 0.8117 - val_loss: 0.3747 - val_acc: 0.8564\n",
            "Epoch 2/5\n",
            "5627/5627 [==============================] - 270s 48ms/step - loss: 0.4116 - acc: 0.8438 - val_loss: 0.3483 - val_acc: 0.8690\n",
            "Epoch 3/5\n",
            "5627/5627 [==============================] - 338s 60ms/step - loss: 0.3930 - acc: 0.8514 - val_loss: 0.3494 - val_acc: 0.8657\n",
            "Epoch 4/5\n",
            "5627/5627 [==============================] - 273s 49ms/step - loss: 0.3814 - acc: 0.8559 - val_loss: 0.3426 - val_acc: 0.8690\n",
            "Epoch 5/5\n",
            "5627/5627 [==============================] - 286s 51ms/step - loss: 0.3738 - acc: 0.8592 - val_loss: 0.3397 - val_acc: 0.8684\n"
          ]
        }
      ]
    },
    {
      "cell_type": "code",
      "source": [
        "model_5.evaluate(final_val_dataset)"
      ],
      "metadata": {
        "colab": {
          "base_uri": "https://localhost:8080/"
        },
        "id": "ob_4s4XjCDFy",
        "outputId": "53e05caf-68fb-4cbd-f42f-c23db5ea3635"
      },
      "execution_count": 140,
      "outputs": [
        {
          "output_type": "stream",
          "name": "stdout",
          "text": [
            "945/945 [==============================] - 21s 22ms/step - loss: 0.3322 - acc: 0.8725\n"
          ]
        },
        {
          "output_type": "execute_result",
          "data": {
            "text/plain": [
              "[0.33224573731422424, 0.8725340962409973]"
            ]
          },
          "metadata": {},
          "execution_count": 140
        }
      ]
    },
    {
      "cell_type": "code",
      "source": [
        "pred_5_probs = model_5.predict(final_val_dataset)\n",
        "pred_5 = pred_5_probs.argmax(axis=1)"
      ],
      "metadata": {
        "colab": {
          "base_uri": "https://localhost:8080/"
        },
        "id": "BlHwfG75FWTw",
        "outputId": "22d40217-8a97-4659-9359-de9bbba32835"
      },
      "execution_count": 142,
      "outputs": [
        {
          "output_type": "stream",
          "name": "stdout",
          "text": [
            "945/945 [==============================] - 22s 19ms/step\n"
          ]
        }
      ]
    },
    {
      "cell_type": "code",
      "source": [
        "model_5_results = calculate_results(val_labels_enc,pred_5)\n",
        "model_5_results"
      ],
      "metadata": {
        "colab": {
          "base_uri": "https://localhost:8080/"
        },
        "id": "bOGhpgtaFpS5",
        "outputId": "9d21f434-a8ba-49da-f0ba-44fba14f0697"
      },
      "execution_count": 143,
      "outputs": [
        {
          "output_type": "execute_result",
          "data": {
            "text/plain": [
              "{'Accuracy': 0.8725340924136105,\n",
              " 'Precision': 0.877473635792288,\n",
              " 'F1_score': 0.8687114766630712,\n",
              " 'Recall': 0.8725340924136105}"
            ]
          },
          "metadata": {},
          "execution_count": 143
        }
      ]
    },
    {
      "cell_type": "code",
      "source": [
        "# Combine model results into a DataFrame\n",
        "all_model_results = pd.DataFrame({\"baseline\": model_0_results,\n",
        "                                  \"custom_token_embed_conv1d\": model_1_results,\n",
        "                                  \"pretrained_token_embed\": model_2_results,\n",
        "                                  \"custom_char_embed_conv1d\": model_3_results,\n",
        "                                  \"hybrid_char_token_embed\": model_4_results,\n",
        "                                  \"tribrid_pos_char_token_embed\": model_5_results})\n",
        "all_model_results = all_model_results.transpose()\n",
        "all_model_results"
      ],
      "metadata": {
        "colab": {
          "base_uri": "https://localhost:8080/",
          "height": 238
        },
        "id": "QJXGeOhTF-_d",
        "outputId": "013d8d31-280f-447c-b026-1ed6240d057e"
      },
      "execution_count": 149,
      "outputs": [
        {
          "output_type": "execute_result",
          "data": {
            "text/plain": [
              "                              Accuracy  Precision  F1_score    Recall\n",
              "baseline                      0.728750   0.723371  0.710089  0.728750\n",
              "custom_token_embed_conv1d     0.812161   0.821884  0.815050  0.812161\n",
              "pretrained_token_embed        0.767543   0.765645  0.763087  0.767543\n",
              "custom_char_embed_conv1d      0.727890   0.730524  0.725631  0.727890\n",
              "hybrid_char_token_embed       0.738779   0.735393  0.734304  0.738779\n",
              "tribrid_pos_char_token_embed  0.872534   0.877474  0.868711  0.872534"
            ],
            "text/html": [
              "\n",
              "  <div id=\"df-7a85ce84-b6c7-4ad1-a830-a5ab422606f9\">\n",
              "    <div class=\"colab-df-container\">\n",
              "      <div>\n",
              "<style scoped>\n",
              "    .dataframe tbody tr th:only-of-type {\n",
              "        vertical-align: middle;\n",
              "    }\n",
              "\n",
              "    .dataframe tbody tr th {\n",
              "        vertical-align: top;\n",
              "    }\n",
              "\n",
              "    .dataframe thead th {\n",
              "        text-align: right;\n",
              "    }\n",
              "</style>\n",
              "<table border=\"1\" class=\"dataframe\">\n",
              "  <thead>\n",
              "    <tr style=\"text-align: right;\">\n",
              "      <th></th>\n",
              "      <th>Accuracy</th>\n",
              "      <th>Precision</th>\n",
              "      <th>F1_score</th>\n",
              "      <th>Recall</th>\n",
              "    </tr>\n",
              "  </thead>\n",
              "  <tbody>\n",
              "    <tr>\n",
              "      <th>baseline</th>\n",
              "      <td>0.728750</td>\n",
              "      <td>0.723371</td>\n",
              "      <td>0.710089</td>\n",
              "      <td>0.728750</td>\n",
              "    </tr>\n",
              "    <tr>\n",
              "      <th>custom_token_embed_conv1d</th>\n",
              "      <td>0.812161</td>\n",
              "      <td>0.821884</td>\n",
              "      <td>0.815050</td>\n",
              "      <td>0.812161</td>\n",
              "    </tr>\n",
              "    <tr>\n",
              "      <th>pretrained_token_embed</th>\n",
              "      <td>0.767543</td>\n",
              "      <td>0.765645</td>\n",
              "      <td>0.763087</td>\n",
              "      <td>0.767543</td>\n",
              "    </tr>\n",
              "    <tr>\n",
              "      <th>custom_char_embed_conv1d</th>\n",
              "      <td>0.727890</td>\n",
              "      <td>0.730524</td>\n",
              "      <td>0.725631</td>\n",
              "      <td>0.727890</td>\n",
              "    </tr>\n",
              "    <tr>\n",
              "      <th>hybrid_char_token_embed</th>\n",
              "      <td>0.738779</td>\n",
              "      <td>0.735393</td>\n",
              "      <td>0.734304</td>\n",
              "      <td>0.738779</td>\n",
              "    </tr>\n",
              "    <tr>\n",
              "      <th>tribrid_pos_char_token_embed</th>\n",
              "      <td>0.872534</td>\n",
              "      <td>0.877474</td>\n",
              "      <td>0.868711</td>\n",
              "      <td>0.872534</td>\n",
              "    </tr>\n",
              "  </tbody>\n",
              "</table>\n",
              "</div>\n",
              "      <button class=\"colab-df-convert\" onclick=\"convertToInteractive('df-7a85ce84-b6c7-4ad1-a830-a5ab422606f9')\"\n",
              "              title=\"Convert this dataframe to an interactive table.\"\n",
              "              style=\"display:none;\">\n",
              "        \n",
              "  <svg xmlns=\"http://www.w3.org/2000/svg\" height=\"24px\"viewBox=\"0 0 24 24\"\n",
              "       width=\"24px\">\n",
              "    <path d=\"M0 0h24v24H0V0z\" fill=\"none\"/>\n",
              "    <path d=\"M18.56 5.44l.94 2.06.94-2.06 2.06-.94-2.06-.94-.94-2.06-.94 2.06-2.06.94zm-11 1L8.5 8.5l.94-2.06 2.06-.94-2.06-.94L8.5 2.5l-.94 2.06-2.06.94zm10 10l.94 2.06.94-2.06 2.06-.94-2.06-.94-.94-2.06-.94 2.06-2.06.94z\"/><path d=\"M17.41 7.96l-1.37-1.37c-.4-.4-.92-.59-1.43-.59-.52 0-1.04.2-1.43.59L10.3 9.45l-7.72 7.72c-.78.78-.78 2.05 0 2.83L4 21.41c.39.39.9.59 1.41.59.51 0 1.02-.2 1.41-.59l7.78-7.78 2.81-2.81c.8-.78.8-2.07 0-2.86zM5.41 20L4 18.59l7.72-7.72 1.47 1.35L5.41 20z\"/>\n",
              "  </svg>\n",
              "      </button>\n",
              "      \n",
              "  <style>\n",
              "    .colab-df-container {\n",
              "      display:flex;\n",
              "      flex-wrap:wrap;\n",
              "      gap: 12px;\n",
              "    }\n",
              "\n",
              "    .colab-df-convert {\n",
              "      background-color: #E8F0FE;\n",
              "      border: none;\n",
              "      border-radius: 50%;\n",
              "      cursor: pointer;\n",
              "      display: none;\n",
              "      fill: #1967D2;\n",
              "      height: 32px;\n",
              "      padding: 0 0 0 0;\n",
              "      width: 32px;\n",
              "    }\n",
              "\n",
              "    .colab-df-convert:hover {\n",
              "      background-color: #E2EBFA;\n",
              "      box-shadow: 0px 1px 2px rgba(60, 64, 67, 0.3), 0px 1px 3px 1px rgba(60, 64, 67, 0.15);\n",
              "      fill: #174EA6;\n",
              "    }\n",
              "\n",
              "    [theme=dark] .colab-df-convert {\n",
              "      background-color: #3B4455;\n",
              "      fill: #D2E3FC;\n",
              "    }\n",
              "\n",
              "    [theme=dark] .colab-df-convert:hover {\n",
              "      background-color: #434B5C;\n",
              "      box-shadow: 0px 1px 3px 1px rgba(0, 0, 0, 0.15);\n",
              "      filter: drop-shadow(0px 1px 2px rgba(0, 0, 0, 0.3));\n",
              "      fill: #FFFFFF;\n",
              "    }\n",
              "  </style>\n",
              "\n",
              "      <script>\n",
              "        const buttonEl =\n",
              "          document.querySelector('#df-7a85ce84-b6c7-4ad1-a830-a5ab422606f9 button.colab-df-convert');\n",
              "        buttonEl.style.display =\n",
              "          google.colab.kernel.accessAllowed ? 'block' : 'none';\n",
              "\n",
              "        async function convertToInteractive(key) {\n",
              "          const element = document.querySelector('#df-7a85ce84-b6c7-4ad1-a830-a5ab422606f9');\n",
              "          const dataTable =\n",
              "            await google.colab.kernel.invokeFunction('convertToInteractive',\n",
              "                                                     [key], {});\n",
              "          if (!dataTable) return;\n",
              "\n",
              "          const docLinkHtml = 'Like what you see? Visit the ' +\n",
              "            '<a target=\"_blank\" href=https://colab.research.google.com/notebooks/data_table.ipynb>data table notebook</a>'\n",
              "            + ' to learn more about interactive tables.';\n",
              "          element.innerHTML = '';\n",
              "          dataTable['output_type'] = 'display_data';\n",
              "          await google.colab.output.renderOutput(dataTable, element);\n",
              "          const docLink = document.createElement('div');\n",
              "          docLink.innerHTML = docLinkHtml;\n",
              "          element.appendChild(docLink);\n",
              "        }\n",
              "      </script>\n",
              "    </div>\n",
              "  </div>\n",
              "  "
            ]
          },
          "metadata": {},
          "execution_count": 149
        }
      ]
    },
    {
      "cell_type": "code",
      "source": [
        "all_model_results.plot(kind=\"bar\", figsize=(10, 7)).legend(bbox_to_anchor=(1.0, 1.0));"
      ],
      "metadata": {
        "colab": {
          "base_uri": "https://localhost:8080/",
          "height": 798
        },
        "id": "106grXIQIPLx",
        "outputId": "edf3fd7b-1e66-4406-8d2e-cc1920960c27"
      },
      "execution_count": 150,
      "outputs": [
        {
          "output_type": "display_data",
          "data": {
            "text/plain": [
              "<Figure size 1000x700 with 1 Axes>"
            ],
            "image/png": "[encoded data removed]"
          },
          "metadata": {}
        }
      ]
    },
    {
      "cell_type": "code",
      "source": [
        "model_5.save('/content/drive/MyDrive/pubmed_model_5')"
      ],
      "metadata": {
        "colab": {
          "base_uri": "https://localhost:8080/"
        },
        "id": "ucwthRauJODJ",
        "outputId": "bfa27362-0310-40a2-f5d7-aee988e6f5af"
      },
      "execution_count": 153,
      "outputs": [
        {
          "output_type": "stream",
          "name": "stderr",
          "text": [
            "WARNING:absl:Found untraced functions such as lstm_cell_7_layer_call_fn, lstm_cell_7_layer_call_and_return_conditional_losses, lstm_cell_8_layer_call_fn, lstm_cell_8_layer_call_and_return_conditional_losses while saving (showing 4 of 4). These functions will not be directly callable after loading.\n"
          ]
        }
      ]
    }
  ],
  "metadata": {
    "accelerator": "GPU",
    "colab": {
      "provenance": [],
      "include_colab_link": true
    },
    "gpuClass": "standard",
    "kernelspec": {
      "display_name": "Python 3",
      "name": "python3"
    },
    "language_info": {
      "name": "python"
    }
  },
  "nbformat": 4,
  "nbformat_minor": 0
}